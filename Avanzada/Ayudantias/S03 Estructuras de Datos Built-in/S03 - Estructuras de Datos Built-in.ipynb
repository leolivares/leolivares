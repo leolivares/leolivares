{
 "cells": [
  {
   "cell_type": "markdown",
   "metadata": {},
   "source": [
    "# Ayudantía 3\n",
    "\n",
    "Jorge Riesco y Enzo Tamburini\n",
    "\n",
    "## Solución AC03 2016-1\n",
    "\n",
    "### Estructuras de Datos simples y Properties\n",
    "\n",
    "El enunciado completo de esta actividad se encuentra [aquí](https://github.com/IIC2233-2016-1/syllabus/blob/master/Actividades/AC03/Enunciado.pdf)."
   ]
  },
  {
   "cell_type": "markdown",
   "metadata": {},
   "source": [
    "En esta actividad nos piden crear algunas clases con sus respectivos métodos:\n",
    "\n",
    ">**ProductStack**: esta estructura se utilizará para simular los productos en las góndolas. Los métodos\n",
    "a implementar son:\n",
    "\n",
    ">- `stack_product(product)`: agrega un producto a la pila\n",
    ">- `pop_product()`: retorna el último producto agregado a la pila\n"
   ]
  },
  {
   "cell_type": "code",
   "execution_count": null,
   "metadata": {
    "collapsed": true
   },
   "outputs": [],
   "source": [
    "class ProductStack:\n",
    "    def __init__(self):\n",
    "        pass\n",
    "    \n",
    "    def stack_product(self, product):\n",
    "        pass\n",
    "\n",
    "    def pop_product(self):\n",
    "        pass"
   ]
  },
  {
   "cell_type": "markdown",
   "metadata": {},
   "source": [
    ">**PayingQueue**: esta estructura se ocupará para simular la cola de la caja. Los métodos a implementar\n",
    "son:\n",
    "\n",
    ">- `arrive(shopping cart)`: agrega el carro de compras de un cliente a la cola de la caja\n",
    ">- `leave()`: saca de la cola al carro de compras del cliente que est´a primero."
   ]
  },
  {
   "cell_type": "code",
   "execution_count": null,
   "metadata": {
    "collapsed": true
   },
   "outputs": [],
   "source": [
    "class PayingQueue:\n",
    "    def __init__(self):\n",
    "        pass\n",
    "    \n",
    "    def arrive(self, shopping_cart):\n",
    "        pass\n",
    "\n",
    "    def leave(self):\n",
    "        pass"
   ]
  },
  {
   "cell_type": "markdown",
   "metadata": {},
   "source": [
    ">**ShoppingCart**: almacena las compras realizadas por una persona. Tiene una lista de productos comprados\n",
    "y debe implementar los siguientes métodos:\n",
    "\n",
    ">- `amount_per_product()`: retorna la cantidad comprada por cada tipo de producto\n",
    ">- `types_of_product()`: retorna una lista con los tipos de productos comprados\n",
    ">- `add_product(product)`: agrega un producto al carro"
   ]
  },
  {
   "cell_type": "code",
   "execution_count": null,
   "metadata": {
    "collapsed": true
   },
   "outputs": [],
   "source": [
    "class ShoppingCart:\n",
    "    def __init__(self):\n",
    "        pass\n",
    "\n",
    "    def add_product(self, product):\n",
    "        pass\n",
    "\n",
    "    def amount_per_product(self):\n",
    "        pass\n",
    "    \n",
    "    def types_of_product(self):\n",
    "        pass"
   ]
  },
  {
   "cell_type": "markdown",
   "metadata": {},
   "source": [
    ">Usted notó que el equipo de desarrollo no tomó en cuenta las colas preferenciales. Estas colas pueden\n",
    "tener carros de compra de prioridad normal (prioridad = 1) y carros de compra de mayor prioridad (> 1).\n",
    "El funcionamiento de esta cola es el siguiente: a medida que van llegando carros, estos se ponen a la cola\n",
    "siguiendo el orden dado por las prioridades, como en la siguiente imagen:\n",
    "\n",
    "><center>\n",
    ">![arrive](./image3169.png \"Diagrama arrive\")\n",
    ">`arrive(shopping_cart, priority)`: Si hay dos carros con prioridades iguales, queda más cerca de la caja el que llega primero a la fila.\n",
    "</center>\n",
    "\n",
    ">Para sacar carros de la cola, se toma el que está más cerca de la caja. Como en la imagen:\n",
    "\n",
    "><center>\n",
    ">![leave](./image3063.png \"Diagrama leave\")\n",
    ">`leave()`\n",
    "</center>\n",
    "\n",
    ">Implemente los siguientes métodos:\n",
    ">- `arrive(shopping cart, priority)`: ingresa un carro de compra en la estructura de datos, de acuerdo a la prioridad. Recuerde que el de mayor prioridad debe ir primero. Esta cola siempre debe estar ordenada.\n",
    ">- `leave()`: saca de la cola al carro de compra que está primero\n",
    "\n",
    "Básicamente, se nos pide crear una nueva estructura, muy similar a la `PayingQueue`, sólo que esta vez cada elemento de ésta tendrá una prioridad que **reordenará** la fila. La llamaremos `SpecialPayingQueue`."
   ]
  },
  {
   "cell_type": "code",
   "execution_count": null,
   "metadata": {
    "collapsed": true
   },
   "outputs": [],
   "source": [
    "class SpecialPayingQueue:\n",
    "    def __init__(self):\n",
    "        pass\n",
    "    \n",
    "    def arrive(self, shopping_cart, priority):\n",
    "        pass\n",
    "    \n",
    "    def leave(self):\n",
    "        pass"
   ]
  },
  {
   "cell_type": "markdown",
   "metadata": {},
   "source": [
    ">Además de los requerimientos ya mencionados, le han pedido que se pueda obtener el número de items en cada una de las estructuras haciendo `instancia.length`. También le han dicho que la estructura sólo debe ser modificada con los métodos mencionados arriba, es decir, si la estructura está guardada en la variable `structure` y se realiza lo siguiente: `instance.structure = new structure`, la estructura no cambia. Si esto llega realizarse debe informar al usuario, por consola, que esto no es posible.\n",
    "\n",
    "Para esto, copiaremos las clases que anteriormente hemos hecho y le agregaremos las dos nuevas condiciones (`length` y el **seteo** de la variable `structure`)."
   ]
  },
  {
   "cell_type": "code",
   "execution_count": null,
   "metadata": {
    "collapsed": true
   },
   "outputs": [],
   "source": []
  },
  {
   "cell_type": "markdown",
   "metadata": {},
   "source": [
    "### Poblamiento del sistema\n",
    "\n",
    "Por último, poblaremos el sistema para ver si todo funciona y está en orden :D"
   ]
  },
  {
   "cell_type": "code",
   "execution_count": null,
   "metadata": {
    "collapsed": true
   },
   "outputs": [],
   "source": [
    "# Funcionalidades\n",
    "\n",
    "## Carros de compra\n",
    "\n",
    "print(\"-------- ShoppingCart ---------\")\n",
    "carts = [ShoppingCart() for _ in range(6)]\n",
    "\n",
    "carts[0].add_product('Leche')\n",
    "carts[0].add_product('Leche')\n",
    "carts[0].add_product('Leche')\n",
    "carts[0].add_product('Pan')\n",
    "carts[0].add_product('Huevos')\n",
    "\n",
    "for product, qt in carts[0].amount_per_product().items():\n",
    "    print(\"{0} {1}\".format(product, qt))\n",
    "\n",
    "for product in carts[0].types_of_product():\n",
    "    print(product)\n",
    "\n",
    "carts[1].add_product('Leche')\n",
    "carts[1].add_product('Huevos')\n",
    "carts[2].add_product('Leche')\n",
    "carts[2].add_product('Mantequilla')\n",
    "carts[3].add_product('Doritos')\n",
    "carts[3].add_product('Frutillas')\n",
    "carts[4].add_product('Leche')\n",
    "carts[4].add_product('Frutillas')\n",
    "carts[5].add_product('Mantequilla')\n",
    "carts[5].add_product('Frutillas')"
   ]
  },
  {
   "cell_type": "code",
   "execution_count": null,
   "metadata": {
    "collapsed": true
   },
   "outputs": [],
   "source": [
    "## PayingQueue\n",
    "\n",
    "print(\"\\n--------  PayingQueue ---------\")\n",
    "normal_queue = PayingQueue()\n",
    "for sc in carts[:2]:\n",
    "    normal_queue.arrive(sc)\n",
    "    print(normal_queue)\n",
    "normal_queue.leave()\n",
    "print(normal_queue)\n",
    "for sc in carts[2:]:\n",
    "    normal_queue.arrive(sc)\n",
    "    print(normal_queue)"
   ]
  },
  {
   "cell_type": "code",
   "execution_count": null,
   "metadata": {
    "collapsed": true
   },
   "outputs": [],
   "source": [
    "## SpecialPayingQueue\n",
    "print(\"\\n--------  SpecialPayingQueue ---------\")\n",
    "\n",
    "priority_queue = SpecialPayingQueue(carts[0], 10)\n",
    "print(priority_queue)\n",
    "priority_queue.arrive(carts[1], 9)\n",
    "print(priority_queue)\n",
    "priority_queue.arrive(carts[2], 10)\n",
    "print(priority_queue)\n",
    "priority_queue.arrive(carts[3], 1)\n",
    "print(priority_queue)\n",
    "priority_queue.arrive(carts[4], 6)\n",
    "print(priority_queue)\n",
    "priority_queue.leave()\n",
    "priority_queue.arrive(carts[5], 2)\n",
    "print(priority_queue)"
   ]
  },
  {
   "cell_type": "code",
   "execution_count": null,
   "metadata": {
    "collapsed": true
   },
   "outputs": [],
   "source": [
    "## Product Stack\n",
    "print(\"\\n--------  ProductStack ---------\")\n",
    "\n",
    "stack = ProductStack()\n",
    "stack.stack_product('Leche')\n",
    "print(stack)\n",
    "stack.stack_product('Leche')\n",
    "print(stack)\n",
    "stack.stack_product('Leche')\n",
    "print(stack)\n",
    "stack.pop_product()\n",
    "print(stack)\n",
    "stack.stack_product('Leche')\n",
    "print(stack)"
   ]
  },
  {
   "cell_type": "code",
   "execution_count": null,
   "metadata": {
    "collapsed": true
   },
   "outputs": [],
   "source": [
    "# Properties\n",
    "\n",
    "## ShoppingCart\n",
    "print(\"-------- ShoppingCart ---------\")\n",
    "carts[0].products = None\n",
    "products = carts[0].products\n",
    "print(products)\n",
    "print(carts[0].length)\n",
    "carts[0].length = 0"
   ]
  },
  {
   "cell_type": "code",
   "execution_count": null,
   "metadata": {
    "collapsed": true
   },
   "outputs": [],
   "source": [
    "## PayingQueue\n",
    "print(\"\\n--------  PayingQueue ---------\")\n",
    "normal_queue.queue = None\n",
    "queue = normal_queue.queue\n",
    "print(queue)\n",
    "print(normal_queue.length)\n",
    "normal_queue.length = 0"
   ]
  },
  {
   "cell_type": "code",
   "execution_count": null,
   "metadata": {
    "collapsed": true
   },
   "outputs": [],
   "source": [
    "# SpecialPayingQueue\n",
    "print(\"\\n--------  SpecialPayingQueue ---------\")\n",
    "print(priority_queue.length)\n",
    "priority_queue.length = 0"
   ]
  },
  {
   "cell_type": "code",
   "execution_count": null,
   "metadata": {
    "collapsed": true
   },
   "outputs": [],
   "source": [
    "## ProductStack\n",
    "print(\"\\n--------  ProductStack ---------\")\n",
    "stack.stack = None\n",
    "product_stack = stack.stack\n",
    "print(product_stack)\n",
    "print(stack.length)\n",
    "stack.length = 0"
   ]
  },
  {
   "cell_type": "markdown",
   "metadata": {},
   "source": [
    "# Ejemplos básicos de aplicación"
   ]
  },
  {
   "cell_type": "markdown",
   "metadata": {},
   "source": [
    "## Diccionarios\n",
    "\n",
    "Un uso común de diccionarios se da cuando en el problema a modelar se quiere almacenar en la memoria una gran cantidad de elementos, cada uno con un identificador unico. \n",
    "\n",
    "Por ejemplo, si el problema a tratar habla de países y éstos fueron modelados por el programador como clases, una forma óptima de almacenar sus instancias es a través de un diccionario.\n",
    "\n",
    "**¿Cuál es el problema con las listas? ¿Cuál es el problema con cualquier otra estructura?**"
   ]
  },
  {
   "cell_type": "code",
   "execution_count": null,
   "metadata": {
    "collapsed": true
   },
   "outputs": [],
   "source": [
    "class Pais:\n",
    "    \n",
    "    def __init__(self, nombre):\n",
    "        self.nombre = nombre\n",
    "        # Y muchos más atributos y métodos\n",
    "        \n",
    "    def __repr__(self):\n",
    "        return \"Objeto de \" + self.nombre\n",
    "\n",
    "\n",
    "class Mundo:\n",
    "    \n",
    "    def __init__(self):\n",
    "        self.paises = {\"Chile\": Pais(\"Chile\"), \"Perú\": Pais(\"Perú\"), \"Argentina\": Pais(\"Argentina\")}\n",
    "        #Sí, es un mundo chico\n",
    "        \n",
    "#Instanciación\n",
    "\n",
    "tierra = Mundo()\n",
    "\n",
    "for nombre_pais in tierra.paises.keys():\n",
    "    print(tierra.paises[nombre_pais].nombre)"
   ]
  },
  {
   "cell_type": "markdown",
   "metadata": {},
   "source": [
    "#### Usemos comandos básicos"
   ]
  },
  {
   "cell_type": "code",
   "execution_count": null,
   "metadata": {
    "collapsed": true
   },
   "outputs": [],
   "source": [
    "tierra.paises.update({\"Brasil\": Pais(\"Brasil\")})\n",
    "tierra.paises[\"Bolivia\"] = Pais(\"Bolivia\")\n",
    "\n",
    "print(\"Agregando dos países.\", tierra.paises)\n",
    "\n",
    "del tierra.paises[\"Argentina\"]\n",
    "\n",
    "print(\"Eliminando a Argentina de la Copa América.\", tierra.paises)\n",
    "\n",
    "for pais in tierra.paises.values():\n",
    "    print(pais.nombre)\n",
    "    \n",
    "for tupla in tierra.paises.items():\n",
    "    print(tupla)"
   ]
  },
  {
   "cell_type": "markdown",
   "metadata": {},
   "source": [
    "### Uso de DefaultDicts"
   ]
  },
  {
   "cell_type": "code",
   "execution_count": null,
   "metadata": {
    "collapsed": true
   },
   "outputs": [],
   "source": [
    "from collections import defaultdicts\n",
    "\n",
    "un_diccionario_comun = {'hola': 'que tal!', 'chao': 'loh vimo'}\n",
    "uno_no_comun = defaultdict(int)\n",
    "uno_no_comun.update(un_diccionario_comun)\n",
    "print(uno_no_comun)\n",
    "print('-'*20)\n",
    "print(uno_no_comun['equivalente a nada'])"
   ]
  },
  {
   "cell_type": "markdown",
   "metadata": {},
   "source": [
    "## Tuplas\n",
    "\n",
    "Las tuplas son estructuras **inmutables**."
   ]
  },
  {
   "cell_type": "code",
   "execution_count": null,
   "metadata": {
    "collapsed": true
   },
   "outputs": [],
   "source": [
    "tupla = tuple()\n",
    "tupla = (\"dato\", 2, tuple())\n",
    "\n",
    "print(tupla)"
   ]
  },
  {
   "cell_type": "markdown",
   "metadata": {},
   "source": [
    "## Named tuple"
   ]
  },
  {
   "cell_type": "markdown",
   "metadata": {
    "collapsed": true
   },
   "source": [
    "Una namedtuple es como una clase de la que sólo se necesitan sus atributos, no así sus métodos."
   ]
  },
  {
   "cell_type": "code",
   "execution_count": null,
   "metadata": {
    "collapsed": true
   },
   "outputs": [],
   "source": [
    "from collections import namedtuple\n",
    "\n",
    "persona = namedtuple(\"tipo_persona\", [\"nombre\", \"edad\", \"nacionalidad\", \"peliculas_favoritas\"])\n",
    "\n",
    "p1 = persona(\"Enzo\", 21, \"italiano\", [\"Dunkerke\", \"Avengers\", \"Buscando a Dory\"])\n",
    "p2 = persona(\"Jose\", 22, \"chileno\", (\"Interstellar\", \"El lobo de wallstreet\"))\n",
    "\n",
    "print(p1.nombre)\n",
    "print(p1.peliculas_favoritas)\n",
    "\n",
    "print(p2.nacionalidad)\n",
    "print(p2.edad)\n",
    "print(p2.peliculas_favoritas)\n",
    "\n",
    "print(type(p2))"
   ]
  },
  {
   "cell_type": "markdown",
   "metadata": {},
   "source": [
    "## Listas"
   ]
  },
  {
   "cell_type": "markdown",
   "metadata": {},
   "source": [
    "### Cómo ordenar una lista:"
   ]
  },
  {
   "cell_type": "code",
   "execution_count": null,
   "metadata": {
    "collapsed": true
   },
   "outputs": [],
   "source": [
    "lista = [1, 2, 4, 6, 2]\n",
    "\n",
    "lista2 = sorted(lista)\n",
    "print(lista2)\n",
    "\n",
    "lista.sort()\n",
    "print(lista)\n",
    "\n",
    "print(lista.reverse()) # ¿por que imprime none?\n",
    "\n",
    "print(lista)"
   ]
  },
  {
   "cell_type": "markdown",
   "metadata": {},
   "source": [
    "### Cómo insertar un elemento en una posición especifica:"
   ]
  },
  {
   "cell_type": "code",
   "execution_count": null,
   "metadata": {
    "collapsed": true
   },
   "outputs": [],
   "source": [
    "lista.insert(3, 8)\n",
    "\n",
    "print(lista)"
   ]
  },
  {
   "cell_type": "markdown",
   "metadata": {},
   "source": [
    "### Cómo extender la lista a una con más elementos:"
   ]
  },
  {
   "cell_type": "code",
   "execution_count": null,
   "metadata": {
    "collapsed": true
   },
   "outputs": [],
   "source": [
    "lista.extend([23, 45, 67])\n",
    "print(lista)"
   ]
  },
  {
   "cell_type": "markdown",
   "metadata": {},
   "source": [
    "### Cómo eliminar el elemento de una posicion especifica:"
   ]
  },
  {
   "cell_type": "code",
   "execution_count": null,
   "metadata": {
    "collapsed": true
   },
   "outputs": [],
   "source": [
    "lista.pop()\n",
    "lista.pop(1)\n",
    "\n",
    "print(lista)"
   ]
  },
  {
   "cell_type": "markdown",
   "metadata": {},
   "source": [
    "### Cómo eliminar un elemento especifico:"
   ]
  },
  {
   "cell_type": "code",
   "execution_count": null,
   "metadata": {
    "collapsed": true
   },
   "outputs": [],
   "source": [
    "lista.remove(23)\n",
    "print(lista)"
   ]
  },
  {
   "cell_type": "markdown",
   "metadata": {},
   "source": [
    "### Cómo obtener un rango de elementos:"
   ]
  },
  {
   "cell_type": "code",
   "execution_count": null,
   "metadata": {
    "collapsed": true
   },
   "outputs": [],
   "source": [
    "lista4 = lista[1:]\n",
    "print(lista4)\n",
    "\n",
    "lista5 = lista[-3:]\n",
    "print(lista5)\n",
    "\n",
    "lista6 = lista[:-3]\n",
    "print(lista6)\n",
    "\n",
    "lista7 = lista[::2]\n",
    "print(lista7)\n",
    "\n",
    "lista8 = lista[::-1]\n",
    "print(lista8)"
   ]
  },
  {
   "cell_type": "markdown",
   "metadata": {},
   "source": [
    "### Cómo copiar una lista:"
   ]
  },
  {
   "cell_type": "markdown",
   "metadata": {},
   "source": [
    "Es diferente hacer una copia a igualar un par de listas:"
   ]
  },
  {
   "cell_type": "code",
   "execution_count": null,
   "metadata": {
    "collapsed": true
   },
   "outputs": [],
   "source": [
    "# Estamos copiando una lista: \n",
    "\n",
    "lista1 = ['viaje', 'hotel', 'trivago']\n",
    "lista2 = lista1.copy()\n",
    "print(lista2)\n",
    "lista1[0] = 'comida'\n",
    "print(lista2)\n",
    "\n",
    "# Estamos igualando una lista:\n",
    "\n",
    "lista3 = ['doge', 'meme', 'pls']\n",
    "lista4 = lista3\n",
    "print(lista4)\n",
    "lista3[2] = 'staph'\n",
    "print(lista4)"
   ]
  },
  {
   "cell_type": "markdown",
   "metadata": {},
   "source": [
    "## Sets"
   ]
  },
  {
   "cell_type": "markdown",
   "metadata": {},
   "source": [
    "### Cómo eliminar repetidos de una lista:"
   ]
  },
  {
   "cell_type": "code",
   "execution_count": null,
   "metadata": {
    "collapsed": true
   },
   "outputs": [],
   "source": [
    "lista = [1, 1, 2, 2, 3, 3, 4, 4]\n",
    "\n",
    "sin_repetir = set(lista)\n",
    "print(list(sin_repetir))"
   ]
  },
  {
   "cell_type": "markdown",
   "metadata": {},
   "source": [
    "### Hacer intersección de sets"
   ]
  },
  {
   "cell_type": "code",
   "execution_count": null,
   "metadata": {
    "collapsed": true
   },
   "outputs": [],
   "source": [
    "conjunto1 = {1, 4, 5, 8}\n",
    "conjunto2 = {2, 4, 6, 8}\n",
    "\n",
    "interseccion = conjunto1.intersection(conjunto2)\n",
    "print(interseccion)"
   ]
  },
  {
   "cell_type": "markdown",
   "metadata": {},
   "source": [
    "### Hacer unión de sets"
   ]
  },
  {
   "cell_type": "code",
   "execution_count": null,
   "metadata": {
    "collapsed": true
   },
   "outputs": [],
   "source": [
    "conjunto1 = {'Andrés', 'Joaquín', 'Fernando', 'Stephanie'}\n",
    "conjunto2 = {'Ivania', 'Lucas', 'Nebil', 'Andrés', 'Fernando'}\n",
    "\n",
    "union = conjunto1.union(conjunto2)\n",
    "print(union)"
   ]
  }
 ],
 "metadata": {
  "kernelspec": {
   "display_name": "Python 3",
   "language": "python",
   "name": "python3"
  },
  "language_info": {
   "codemirror_mode": {
    "name": "ipython",
    "version": 3
   },
   "file_extension": ".py",
   "mimetype": "text/x-python",
   "name": "python",
   "nbconvert_exporter": "python",
   "pygments_lexer": "ipython3",
   "version": "3.6.2rc2"
  }
 },
 "nbformat": 4,
 "nbformat_minor": 1
}
