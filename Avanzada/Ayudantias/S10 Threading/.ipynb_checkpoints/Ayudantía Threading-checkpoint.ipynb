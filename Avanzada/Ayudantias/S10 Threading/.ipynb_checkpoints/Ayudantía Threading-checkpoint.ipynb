{
 "cells": [
  {
   "cell_type": "markdown",
   "metadata": {},
   "source": [
    "# Ayudantía Threading"
   ]
  },
  {
   "cell_type": "markdown",
   "metadata": {
    "collapsed": true
   },
   "source": [
    "##### Alejandro Kaminetzky y Gabriel Lyon"
   ]
  },
  {
   "cell_type": "markdown",
   "metadata": {},
   "source": [
    "## Actividad 10 2017-1"
   ]
  },
  {
   "cell_type": "markdown",
   "metadata": {},
   "source": [
    "### Introducción"
   ]
  },
  {
   "cell_type": "markdown",
   "metadata": {},
   "source": [
    "El “benevolente” Doctor Mavrakis ha decidido regalar como promedio final del curso un siete a 3 personas que estén cursando IIC2233. Para evitar arbitrariedades, ha creado el Torneo de los Tres Programadores que consta de una única prueba: sobrevivir al laberinto."
   ]
  },
  {
   "cell_type": "markdown",
   "metadata": {},
   "source": [
    "### Instrucciones"
   ]
  },
  {
   "cell_type": "markdown",
   "metadata": {},
   "source": [
    "En esta actividad debes usar tus conocimientos de threading para modelar el funcionamiento de la competencia. Las reglas de la competencia son simples: cuando tres personas lleguen al final del laberinto, la competencia se acaba. Para mantener la realidad de la competencia, cada persona deberá ser independiente de las demás, por lo que un requisito es que sean implementadas como threads."
   ]
  },
  {
   "cell_type": "markdown",
   "metadata": {},
   "source": [
    "**Ojo:** no se pide que las personas crucen el laberinto de manera inteligente, solo que lo hagan por los caminos que encuentren disponibles (los que logren salir del laberinto solo será por suerte).\n"
   ]
  },
  {
   "cell_type": "markdown",
   "metadata": {},
   "source": [
    "La simulación deberá tener las siguientes clases:"
   ]
  },
  {
   "cell_type": "markdown",
   "metadata": {},
   "source": [
    "- **Laberinto:** Es un grafo direccional, en donde cada nodo del grafo será una pieza del laberinto. Cada pieza es bastante pequeñaa, por lo que **solo puede haber una persona a la vez** (si hay una persona en la pieza A, y una nueva persona intenta entrar, esta deberá esperar a que la pieza se desocupe antes de entrar), y el tiempo de estadía en una pieza es un número aleatorio entre 1 y 3 segundos (es decir, al entrar a una pieza, esta deberá quedar cerrada durante 1, 2 o 3 segundos, y una vez terminado este tiempo, la persona que estaba adentro se va a otra pieza, y deja la pieza libre para que otros puedan entrar).\n",
    "Para crear el grafo, se te entrega el archivo `laberinto.txt`, que incluye las especificaciones del laberinto. La primera línea es un número que indica el id de la pieza de inicio. La segunda línea es el id de la meta. El resto de las líneas son de la forma `num1, num2`, lo que significa que uno puede ir de la pieza `num1` a la pieza `num2`, pero no necesariamente de la `num2` a la `num1`.\n",
    "A modo de ejemplo, puedes ver en la siguiente imagen para ver cómo se debería armar un laberinto, dado un archivo `laberinto.txt` en particular."
   ]
  },
  {
   "cell_type": "markdown",
   "metadata": {},
   "source": [
    "![title](img/Grafo.png)"
   ]
  },
  {
   "cell_type": "markdown",
   "metadata": {},
   "source": [
    "Para agregarle dificulad a la prueba, el Doctor Mavrakis libera una toxina en el laberinto, que le quitará vida a los participantes cada un segundo (la cantidad de vida perdida se indica más adelante)."
   ]
  },
  {
   "cell_type": "markdown",
   "metadata": {},
   "source": [
    "- **Persona:** serán los threads que se van moviendo por el laberinto. Estos poseen los siguientes atributos y métodos:\n",
    " - `hp`: número aleatorio entre 40 y 80 que indica la resistencia que tendrán las personas durante su estadía en el laberinto. Si llega a 0, la persona muere, por lo que el thread desaparece.\n",
    " - `pieza_actual`: contiene la pieza en la que se está actualmente.\n",
    " - `resistance`: Es un valor aleatorio entre 1 y 3 que indica la resistencia que se tendrá a la toxina. La vida que se pierde por la toxina será `6 - resistance`."
   ]
  },
  {
   "cell_type": "markdown",
   "metadata": {},
   "source": [
    "Para la llegada de las personas debes tener un thread corriendo que se encarga de crear a las personas (una persona recién creada parte en la pieza de inicio). El tiempo de aparición de las personas sigue una distribución exponencial con una tasa de llegada de una persona cada cinco segundos."
   ]
  },
  {
   "cell_type": "markdown",
   "metadata": {},
   "source": [
    "### Registro"
   ]
  },
  {
   "cell_type": "markdown",
   "metadata": {},
   "source": [
    "Durante la ejecución de tu programa, debes ir mostrando la información de los sucesos que van ocurriendo. Esto es, informar cuando una persona aparece, muere o llega a la meta."
   ]
  },
  {
   "cell_type": "markdown",
   "metadata": {},
   "source": [
    "## Código"
   ]
  },
  {
   "cell_type": "markdown",
   "metadata": {},
   "source": [
    "### Imports"
   ]
  },
  {
   "cell_type": "code",
   "execution_count": 1,
   "metadata": {
    "collapsed": true
   },
   "outputs": [],
   "source": [
    "import threading\n",
    "import random\n",
    "import time"
   ]
  },
  {
   "cell_type": "markdown",
   "metadata": {},
   "source": [
    "### NodoLaberinto\n",
    "\n",
    "- Debe recibir un número.\n",
    "- Debe almacenar los nodos con los que se conecta.\n",
    "- Debe permitir solo una persona dentro de él a la vez.\n",
    "- Debe tener un método que retorne alguno de los nodos a los que está conectado."
   ]
  },
  {
   "cell_type": "code",
   "execution_count": 1,
   "metadata": {
    "collapsed": true
   },
   "outputs": [],
   "source": [
    "class NodoLaberinto:\n",
    "    pass"
   ]
  },
  {
   "cell_type": "markdown",
   "metadata": {},
   "source": [
    "### Laberinto\n",
    "- Se debe abrir el archivo `laberinto.txt` y crear los nodos y sus conexiones.\n",
    "- El laberinto debe encargarse de agregar nuevas personas al \"juego\".\n",
    "- Existe un veneno que daña a los jugadores cada segundo.\n",
    "- Agregaremos un método ```ver_ganadores``` para mostrar a los primeros tres participantes en llegar.\n",
    "- ¿Dónde guardamos a las personas?"
   ]
  },
  {
   "cell_type": "code",
   "execution_count": 7,
   "metadata": {
    "collapsed": true
   },
   "outputs": [],
   "source": [
    "class Laberinto:\n",
    "    def __init__(self, file_name=''):\n",
    "        with open(file_name, 'r') as file:\n",
    "            data = map(lambda x: x.strip().split(','), file)\n",
    "\n",
    "            self.inicio = NodoLaberinto(*next(data))\n",
    "            self.final = NodoLaberinto(*next(data))\n",
    "            self.rooms = [self.inicio, self.final]\n",
    "            for node_number_1, node_number_2 in data:\n",
    "                if not self.has_room(node_number_1):\n",
    "                    self.add_room(node_number_1)\n",
    "                if not self.has_room(node_number_2):\n",
    "                    self.add_room(node_number_2)\n",
    "                node1 = self.get_node(node_number_1)\n",
    "                node2 = self.get_node(node_number_2)\n",
    "                node1.hijos.append(node2)\n",
    "        self.personas = []\n",
    "        self.sobrevivencias = []\n",
    "\n",
    "    def get_node(self, number):\n",
    "        for node in self.rooms:\n",
    "            if node.id == number:\n",
    "                return node\n",
    "        return None\n",
    "\n",
    "    def add_room(self, room):\n",
    "        new_node = NodoLaberinto(room)\n",
    "        self.rooms.append(new_node)\n",
    "        return new_node\n",
    "\n",
    "    def has_room(self, room_number):\n",
    "        for room in self.rooms:\n",
    "            if room.id == room_number:\n",
    "                return True\n",
    "        return False"
   ]
  },
  {
   "cell_type": "markdown",
   "metadata": {},
   "source": [
    "### Persona\n",
    "- ¿Qué serán las personas?\n",
    "- Deben tener vida entre 40 y 80.\n",
    "- Deben tener una resistencia entre 1 y 3 al veneno del laberinto.\n",
    "- Le agregaremos un identificador, la pieza inicial y final para tener puntos de referencias respectivos.\n",
    "- ¿Qué otros elementos se deben agregar?\n",
    "- ¿Qué otros métodos necesita la clase?"
   ]
  },
  {
   "cell_type": "code",
   "execution_count": 8,
   "metadata": {
    "collapsed": true
   },
   "outputs": [],
   "source": [
    "class Persona:\n",
    "    pass"
   ]
  },
  {
   "cell_type": "markdown",
   "metadata": {},
   "source": [
    "### Main"
   ]
  },
  {
   "cell_type": "code",
   "execution_count": 9,
   "metadata": {
    "collapsed": true
   },
   "outputs": [],
   "source": [
    "import threading\n",
    "import random\n",
    "import time\n",
    "\n",
    "\n",
    "if __name__ == '__main__':\n",
    "    # laberinto = Laberinto('AC10/laberinto.txt')\n",
    "    pass"
   ]
  }
 ],
 "metadata": {
  "kernelspec": {
   "display_name": "Python 3",
   "language": "python",
   "name": "python3"
  },
  "language_info": {
   "codemirror_mode": {
    "name": "ipython",
    "version": 3
   },
   "file_extension": ".py",
   "mimetype": "text/x-python",
   "name": "python",
   "nbconvert_exporter": "python",
   "pygments_lexer": "ipython3",
   "version": "3.6.0"
  }
 },
 "nbformat": 4,
 "nbformat_minor": 2
}
