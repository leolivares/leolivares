{
 "cells": [
  {
   "cell_type": "markdown",
   "metadata": {},
   "source": [
    "# Ayudantía virtual\n",
    "\n",
    "Puedes correr el código de esta ayudantía usando Jupyter Notebook. Si tienes alguna duda respecto a ésta, pregúntala en las [issues](https://github.com/IIC2233/Syllabus/issues).\n",
    "\n",
    "En esta ayudantía, resolveremos paso a paso la Actividad 2 del primer semestre del año 2016. Para esto, asegúrate primero de haber leído el [material de esta semana](https://github.com/IIC2233/contenidos/tree/master/semana-2).\n",
    "\n",
    "Por favor, lee el enunciado entero de la actividad [aquí](https://github.com/IIC2233-2016-1/syllabus/blob/master/Actividades/AC02/main.pdf) antes de continuar.\n",
    "\n",
    "> En adelante, cuando nos refiramos a una parte del enunciado, lo mostraremos en un bloque de texto como este."
   ]
  },
  {
   "cell_type": "markdown",
   "metadata": {},
   "source": [
    "## Solución AC02 2016-1: Clases abstractas"
   ]
  },
  {
   "cell_type": "markdown",
   "metadata": {},
   "source": [
    "> ### Instrucciones\n",
    "\n",
    ">El Plan Deportivo de Ingeniería le pide ayuda para organizar la información de sus competidores (en\n",
    "adelante, “atletas”). Cada atleta posee un nombre determinado, un nivel de energía entre 0 y 100, una\n",
    "velocidad, un registro ordenado de sus marcas (tiempos de llegada en segundos) y pertenece a uno de\n",
    "los siguientes tipos: **Ciclista**, **Nadador** o **Corredor**. A su vez, los ciclistas se clasifican en: **Ciclista de\n",
    "montaña**, y **Ciclista de pistas**. Finalmente, existen **Triatletas** que son tanto Corredores como Nadadores\n",
    "y Ciclistas de pista a la vez.\n",
    "\n",
    ">La empresa agrupa a sus atletas en diversos **Equipos**. Cada Equipo consta de un **Director Técnico** y\n",
    "un conjunto de atletas.\n",
    "\n",
    ">Se pide que usted modele el problema utilizando clases abstractas y herencia cuando corresponda."
   ]
  },
  {
   "cell_type": "markdown",
   "metadata": {},
   "source": [
    "Lo primero que haremos será modelar el problema que nos plantea esta actividad.\n",
    "\n",
    "Se puede inferir que existen varias clases en el modelo: Atleta, Ciclista, Nadador, Corredor, Ciclista de Montaña, Ciclista de Pista, Equipo, Director Técnico y Triatleta. (Notar que se encuentran marcadas en **negrita**).\n",
    "\n",
    "Vamos a comenzar con las clases abstractas ([material de clases abstractas](https://github.com/IIC2233/contenidos/blob/master/semana-2/03-AbstractBaseClass.ipynb)) del modelo. Una clase abstracta contendrá todos los atributos y métodos que sean comunes a varias clases (herencia), pero cuyas instancias por si solas no tengan sentido, por lo que evitaremos que se pueda instanciar directamente."
   ]
  },
  {
   "cell_type": "markdown",
   "metadata": {},
   "source": [
    "En particular, `Atleta` siempre especializa en otros tipos de atleta y no existirá ninguno que no sepa un deporte. Como se menciona, todos los atletas tienen nombre, energía, velocidad y un registro de marcas. Esto será común a todos y por ello lo podemos definir en el `__init__`.\n",
    "\n",
    "De `Atleta` surgen claramente 3 especializaciones: `Cicilista`, `Nadador`, `Corredor`. Del material, sabemos que cuando se tienen especializaciones de una clase, ya sea porque definen atributos o métodos adicionales, o los sobreescriben, entonces necesitamos que dichas clases _herenden_ de esa."
   ]
  },
  {
   "cell_type": "code",
   "execution_count": 5,
   "metadata": {
    "collapsed": true
   },
   "outputs": [],
   "source": [
    "# Es importante importar ABCMeta y abstractmethod\n",
    "# para poder definir clases y métodos abstractos, respectivamente\n",
    "from abc import ABCMeta, abstractmethod\n",
    "\n",
    "\n",
    "class Atleta(metaclass=ABCMeta):\n",
    "    # Con metaclass=ABCMeta decimos que esta es una clase abstracta\n",
    "    \n",
    "    def __init__(self, nombre, velocidad):\n",
    "        self.nombre = nombre\n",
    "        self.energia = 100\n",
    "        self.velocidad = velocidad\n",
    "        self.registro_marcas = []"
   ]
  },
  {
   "cell_type": "code",
   "execution_count": 6,
   "metadata": {
    "collapsed": true
   },
   "outputs": [],
   "source": [
    "class Ciclista(Atleta):\n",
    "    # Entre paréntesis, se escriben las clases desde donde hereda Ciclista.\n",
    "    # Por ahora no definiremos nada dentro de esta clase (pass)\n",
    "    pass\n",
    "\n",
    "\n",
    "class Nadador(Atleta):\n",
    "    pass\n",
    "\n",
    "\n",
    "class Corredor(Atleta):\n",
    "    pass"
   ]
  },
  {
   "cell_type": "markdown",
   "metadata": {},
   "source": [
    ">A su vez, los ciclistas se clasifican en: Ciclista de montaña, y Ciclista de pistas.\n",
    "\n",
    "Podemos notar adicionalmente que la clase `Ciclista` se especializa en dos más: `CiclistaMontagna` y `CiclistaPista`. Como no habrá un `Ciclista` no especializado, esta clase también será una clasa abstracta y solo se podrá heredera desde ella."
   ]
  },
  {
   "cell_type": "code",
   "execution_count": 8,
   "metadata": {
    "collapsed": true
   },
   "outputs": [],
   "source": [
    "class Ciclista(Atleta, metaclass=ABCMeta):\n",
    "    # Puedes notar que primero podemos escribir las clases\n",
    "    # desde donde hereda y luego agregar el tag metaclass=ABCMeta\n",
    "    # para que sea al mismo tiempo una clase abstracta.\n",
    "    pass\n",
    "\n",
    "\n",
    "class CiclistaMontagna(Ciclista):\n",
    "    pass\n",
    "\n",
    "\n",
    "class CiclistaPista(Ciclista):\n",
    "    pass"
   ]
  },
  {
   "cell_type": "markdown",
   "metadata": {},
   "source": [
    ">Finalmente, existen Triatletas que son tanto Corredores como Nadadores y Ciclistas de pista a la vez.\n",
    "\n",
    "Ahora definiremos al Triatleta, que hereda de 3 clases. Esto se conoce como multiherencia, pues, como su nombre lo dice, hereda de muchas clases."
   ]
  },
  {
   "cell_type": "code",
   "execution_count": 11,
   "metadata": {
    "collapsed": true
   },
   "outputs": [],
   "source": [
    "class Triatleta(CiclistaPista, Corredor, Nadador):\n",
    "    # La multiherencia se define escribiendo varias clases\n",
    "    # separadas por comas.\n",
    "    pass"
   ]
  },
  {
   "cell_type": "markdown",
   "metadata": {},
   "source": [
    ">La empresa agrupa a sus atletas en diversos **Equipos**. Cada Equipo consta de un **Director Técnico** y\n",
    "un conjunto de atletas.\n",
    "\n",
    "Ahora, simplemente modelamos las clases que no tienen relación de herencia entre ellas. Notar que un `Equipo` está compuesto de un `DirectorTecnico` y agrega a distintos `Atleta`s."
   ]
  },
  {
   "cell_type": "code",
   "execution_count": 13,
   "metadata": {
    "collapsed": true
   },
   "outputs": [],
   "source": [
    "class DirectorTecnico:\n",
    "    \n",
    "    def __init__(self, equipo):\n",
    "        self.equipo = equipo\n",
    "\n",
    "\n",
    "class Equipo:\n",
    "    \n",
    "    def __init__(self):\n",
    "        self.director_tecnico = DirectorTecnico(self)\n",
    "        # Recuerda que self es la instancia de Equipo misma,\n",
    "        # por lo que se la podemos entregar como cualquier otra variable\n",
    "        # a una nueva instancia de DirectorTecnico\n",
    "        self.atletas = [] # En esta lista guardaremos el conjunto de atletas"
   ]
  },
  {
   "cell_type": "markdown",
   "metadata": {},
   "source": [
    "Es necesario mencionar un detalle respecto a esta solución para `DirectorTecnico` y `Equipo`. Como podrás notar, el director técnico guarda al equipo y ésta a su vez guarda al director técnico al instanciarlo. Esta solución no es correcta porque cae en circularidad. Más adelante aprederemos lo necesario para arreglarlo. Si te quieres adelantar, puedes leer esta [issue](https://github.com/IIC2233-2016-1/syllabus/issues/481) de un semestre anterior."
   ]
  },
  {
   "cell_type": "markdown",
   "metadata": {},
   "source": [
    "> ### Requerimientos\n",
    "\n",
    "> - Todos los atletas pueden **descansar**, lo que sumaría 1 a su nivel de energía (siempre que el resultado no supere 100), independientemente del tipo de atleta en cuestión.\n",
    "\n",
    "Como todos los atletas pueden realizar esa acción, corresponde a un método que definiremos en la clase `Atleta`. Todas las clases que herenden de ésta podrán acceder al método `descansar`.\n",
    "\n",
    "Aprovecharemos de arreglar el atributo de energía del atleta. Como la energía solo puede ser un número de 0 a 100, definiremos una property que impida que se salga de ese rango."
   ]
  },
  {
   "cell_type": "code",
   "execution_count": null,
   "metadata": {
    "collapsed": true
   },
   "outputs": [],
   "source": [
    "class Atleta(metaclass=ABCMeta):\n",
    "    \n",
    "    def __init__(self, nombre, velocidad):\n",
    "        self.nombre = nombre\n",
    "        self._energia = 100\n",
    "        self.velocidad = velocidad\n",
    "        self.registro_marcas = []\n",
    "        \n",
    "    @property\n",
    "    def energia(self):\n",
    "        return self._energia\n",
    "    \n",
    "    @energia.setter\n",
    "    def energia(self, value):\n",
    "        # Este método corresponde al setter de la energía.\n",
    "        # Cada vez que intentes asignar el valor de la energia\n",
    "        # atleta1.energia = 55\n",
    "        # se ejecutará este método con 55 como value.\n",
    "        if value >= 100:\n",
    "            self._energia = 100\n",
    "        elif value <= 0:\n",
    "            self._energia = 0\n",
    "        else:\n",
    "            self._energia = value\n",
    "    \n",
    "    def descansar(self):\n",
    "        # El método descansar suma 1 a energía.\n",
    "        # Esto activa al setter de energia\n",
    "        self.energia += 1"
   ]
  },
  {
   "cell_type": "markdown",
   "metadata": {},
   "source": [
    "> - Cada Equipo es de un tipo específico de atletas, y solo pueden haber atletas de ese tipo en el equipo. Un triatleta puede pertenecer a cualquier equipo cuyo tipo corresponda a una categoría en la que el este puede competir.\n",
    "\n",
    "Para esto, nos conviene crear un método que se encargue de agregar atletas a un equipo. Este método debe revisar primero si el atleta pertenece al tipo del equipo (que podemos agregar como un atributo más)."
   ]
  },
  {
   "cell_type": "code",
   "execution_count": 14,
   "metadata": {
    "collapsed": true
   },
   "outputs": [],
   "source": [
    "class Equipo:\n",
    "    \n",
    "    def __init__(self, tipo):\n",
    "        self.director_tecnico = DirectorTecnico(self)\n",
    "        self.atletas = []\n",
    "        self.tipo = tipo # Corresponde a una clase\n",
    "        \n",
    "    def agregar_atleta(self, atleta):\n",
    "        # Se revisa si el atleta a insertar corresponde al\n",
    "        # tipo del equipo guardado en self.tipo\n",
    "        if isinstance(atleta, self.tipo):    \n",
    "            self.atletas.append(atleta)\n",
    "        else:\n",
    "            print(\"Este Atleta no es del mismo tipo del Team.\")"
   ]
  },
  {
   "cell_type": "markdown",
   "metadata": {},
   "source": [
    "> - Es posible sumar equipos con el operador +. Si los equipos son de distinta categoría, el resultado es None. En caso contrario, se debe retornar un **nuevo** equipo cuyos integrantes sean la unión de los conjuntos de atletas de los equipos originales.\n",
    "\n",
    "En toda clase podemos definir el comportamiento de los operadores de Python. En el caso del operador `+`, basta con que definamos el método `__add__(self, other)`. `self` se referirá al objeto mismo, que en una operación binaria como la suma será el de la izquierda, y `other` se referirá al de la derecha.\n",
    "\n",
    "Por ejemplo, si tenemos dos equipos: `argentina = Equipo(Nadador)` y `brasil = Equipo(Nadador)`, cuando los sumemos (`argentina + brasil`) se llamará al método `__add__` de `argentina`, donde `self` se referirá a `argentina` mismo y `other` a `brasil`.\n",
    "\n",
    "Puedes encontrar más información sobre este tipo de métodos [aquí](http://www.python-course.eu/python3_magic_methods.php).\n",
    "\n",
    "Volviendo a la actividad, necesitamos definir `__add__` de forma tal que retorne un nuevo equipo si son del mismo tipo. El director técnico lo elegiremos al azar."
   ]
  },
  {
   "cell_type": "code",
   "execution_count": 17,
   "metadata": {
    "collapsed": true
   },
   "outputs": [],
   "source": [
    "class Equipo:\n",
    "    \n",
    "    def __init__(self, tipo):\n",
    "        self.director_tecnico = DirectorTecnico(self)\n",
    "        self.atletas = []\n",
    "        self.tipo = tipo\n",
    "        \n",
    "    def agregar_atleta(self, atleta):\n",
    "        if isinstance(atleta, self.tipo):\n",
    "            self.atletas.append(atleta)\n",
    "        else:\n",
    "            print(\"Este Atleta no es del mismo tipo del Team.\")\n",
    "    \n",
    "    def __add__(self, other):\n",
    "        if self.tipo == other.tipo:\n",
    "            # Son del mismo tipo.\n",
    "            \n",
    "            # Se instancia un nuevo equipo a retornar.\n",
    "            new = Equipo(self.tipo)\n",
    "            if random.randint(0, 1):\n",
    "                # Si salió 1\n",
    "                new.director_tecnico = self.director_tecnico\n",
    "            else:\n",
    "                # Si salió 0\n",
    "                new.director_tecnico = other.director_tecnico\n",
    "            # Se agregan los atletas de ambos equipos\n",
    "            # al equipo nuevo\n",
    "            for atleta in self.atletas + other.atletas:\n",
    "                new.agregar_atleta(atleta)\n",
    "            return new\n",
    "        else:\n",
    "            print('Estos equipos son de distinta categoría.')\n",
    "            return None"
   ]
  },
  {
   "cell_type": "markdown",
   "metadata": {},
   "source": [
    "> - El director ténico puede **alentar** a su equipo. Esto sumará 3 unidades al nivel de energía de los atletas.\n",
    "\n",
    "Esto se puede definir fácilmente en un solo método del Director Técnico."
   ]
  },
  {
   "cell_type": "code",
   "execution_count": 18,
   "metadata": {
    "collapsed": true
   },
   "outputs": [],
   "source": [
    "class DirectorTecnico:\n",
    "    \n",
    "    def __init__(self, equipo):\n",
    "        self.equipo = equipo\n",
    "        \n",
    "    def alentar(self):\n",
    "        for atleta in self.equipo.atletas: \n",
    "            atleta.energia += 3"
   ]
  },
  {
   "cell_type": "markdown",
   "metadata": {},
   "source": [
    "Es interesante notar que el director técnico no conoce el tipo de atleta que hay contenido en el equipo. Podrían ser Ciclistas, Nadadores, etc., pero como todos tienen definida la energía en su clase padre `Atleta`, el director técnico puede alentarlos de igual forma."
   ]
  },
  {
   "cell_type": "markdown",
   "metadata": {},
   "source": [
    "> - Todos los atletas pueden **entrenar**. Si su nivel de energía no es cero, se restará 1 a la energía, y se incrementará la velocidad del atleta. Si no hay suficiente energía para entrenar, se debe imprimir un mensaje en consola. La cantidad de unidades de velocidad que se suman al atleta dependen de su tipo, y es 1 para los ciclistas, 2 para los nadadores, y 3 para los corredores.\n",
    "\n",
    "Como todos los atletas deben poder entrenar, pero cada uno lo hace de forma distinta, se debe definir este método como método abstracto. Esto obligará a las clases que hereden de `Atleta` a que implementen su propia versión de `entrenar`. Si no lo hacen, se levantará un error. Para decir que un método es abstracto, basta agregar `@abstractmethod` sobre él, siempre y cuando se haya importado desde `abc` como lo hicimos antes.\n",
    "\n",
    "Cuando todas las clases que heredan de una misma implementan un método con el mismo nombre, pero de forma distinta, decimos que existe **polimorismo*."
   ]
  },
  {
   "cell_type": "code",
   "execution_count": 19,
   "metadata": {
    "collapsed": true
   },
   "outputs": [],
   "source": [
    "class Atleta(metaclass=ABCMeta):\n",
    "    \n",
    "    def __init__(self, nombre, velocidad):\n",
    "        self.nombre = nombre\n",
    "        self._energia = 100\n",
    "        self.velocidad = velocidad\n",
    "        self.registro_marcas = []\n",
    "        \n",
    "    @property\n",
    "    def energia(self):\n",
    "        return self._energia\n",
    "    \n",
    "    @energia.setter\n",
    "    def energia(self, value):\n",
    "        if value >= 100:\n",
    "            self._energia = 100\n",
    "        elif value <= 0:\n",
    "            self._energia = 0\n",
    "        else:\n",
    "            self._energia = value\n",
    "    \n",
    "    def descansar(self):\n",
    "        self.energia += 1\n",
    "       \n",
    "    @abstractmethod\n",
    "    def entrenar(self):\n",
    "        # Aqui tenemos al método abstracto que como será\n",
    "        # sobreescrito en las clases hijas, no necesita\n",
    "        # llevar nada (pass)\n",
    "        pass"
   ]
  },
  {
   "cell_type": "markdown",
   "metadata": {},
   "source": [
    "Luego, definimos los métodos entrenar dentro de cada clase hija."
   ]
  },
  {
   "cell_type": "code",
   "execution_count": 20,
   "metadata": {
    "collapsed": true
   },
   "outputs": [],
   "source": [
    "class Ciclista(Atleta):\n",
    "    \n",
    "    def __init__(self, nombre, velocidad):\n",
    "        # Cuando hacemos herencia, podemos llamar el método original\n",
    "        # de las clases padres con el método super().\n",
    "        # En este caso, queremos definir los atributos nombre y velocidad\n",
    "        # con el init original en Atleta.\n",
    "        super().__init__(nombre, velocidad)\n",
    "        \n",
    "    def entrenar(self):\n",
    "        if self.energia > 0:\n",
    "            self.energia -= 1\n",
    "            self.velocidad += 1\n",
    "        else:\n",
    "            print('No puedo entrenar más papurri!')\n",
    "\n",
    "            \n",
    "class Nadador(Atleta):\n",
    "    \n",
    "    def __init__(self, nombre, velocidad):\n",
    "        super().__init__(nombre, velocidad)\n",
    "        \n",
    "    def entrenar(self):\n",
    "        if self.energia > 0:\n",
    "            self.energia -= 1\n",
    "            self.velocidad += 2\n",
    "        else:\n",
    "            print('No puedo entrenar más papurri!')\n",
    "\n",
    "class Corredor(Atleta):\n",
    "    \n",
    "    def __init__(self, nombre, velocidad):\n",
    "        super().__init__(nombre, velocidad)\n",
    "        \n",
    "    def entrenar(self):\n",
    "        if self.energia > 0:\n",
    "            self.energia -= 1\n",
    "            self.velocidad += 3\n",
    "        else:\n",
    "            print('No puedo entrenar más papurri!')"
   ]
  },
  {
   "cell_type": "markdown",
   "metadata": {},
   "source": [
    "> - Finalmente, todos los atletas pueden **competir**, pero la forma en que compiten es distinta para cada tipo de atleta. Cuando un atleta compite, su energía disminuye. Además, se imprime un mensaje en consola. Se calcula el tiempo que tardó en completar el circuito y se agrega a su registro de marcas. Para el cálculo, utilice `random.gauss(1000/velocidad, 1)`. El mensaje que se imprime y las unidades de energía que se restan al atleta se muestran en la siguiente tabla:\n",
    "\n",
    "> | Tipo de atleta | Decremento de energía | Mensaje |\n",
    "| :---------------:| :-------------------: | :------:|\n",
    "| Nadador | 1 | El nadador _nombre_ está nadando |\n",
    "| Corredor | 1 | El corredor _nombre_ está nadando |\n",
    "| Ciclista de montaña | 1 | El ciclista _nombre_ está pedaleando una MountainBike |\n",
    "| Ciclista de pista | 1 | El ciclista _nombre_ está yendo a su máxima velocidad por la pista |\n",
    "| Triatleta | 3 | El triatleta _nombre_ está compitiendo en un triatlón |\n"
   ]
  },
  {
   "cell_type": "markdown",
   "metadata": {},
   "source": [
    "Se puede notar que `competir` es un método abstracto, por lo que se lo agregamos a `Atleta`."
   ]
  },
  {
   "cell_type": "code",
   "execution_count": 21,
   "metadata": {
    "collapsed": true
   },
   "outputs": [],
   "source": [
    "class Atleta(metaclass=ABCMeta):\n",
    "    \n",
    "    def __init__(self, nombre, velocidad):\n",
    "        self.nombre = nombre\n",
    "        self._energia = 100\n",
    "        self.velocidad = velocidad\n",
    "        self.registro_marcas = []\n",
    "        \n",
    "    @property\n",
    "    def energia(self):\n",
    "        return self._energia\n",
    "    \n",
    "    @energia.setter\n",
    "    def energia(self, value):\n",
    "        if value >= 100:\n",
    "            self._energia = 100\n",
    "        elif value <= 0:\n",
    "            self._energia = 0\n",
    "        else:\n",
    "            self._energia = value\n",
    "    \n",
    "    def descansar(self):\n",
    "        self.energia += 1\n",
    "       \n",
    "    @abstractmethod\n",
    "    def entrenar(self):\n",
    "        pass\n",
    "    \n",
    "    @abstractmethod\n",
    "    def competir(self):\n",
    "        pass"
   ]
  },
  {
   "cell_type": "markdown",
   "metadata": {},
   "source": [
    "Luego, definimos el método competir para cada tipo de atleta acorde a la tabla."
   ]
  },
  {
   "cell_type": "code",
   "execution_count": 22,
   "metadata": {
    "collapsed": true
   },
   "outputs": [],
   "source": [
    "import random\n",
    "\n",
    "class CiclistaMontagna(Ciclista):\n",
    "    \n",
    "    def __init__(self, nombre, velocidad):\n",
    "        super().__init__(nombre, velocidad)\n",
    "        \n",
    "    def competir(self):\n",
    "        print(\"El ciclista {} está pedaleando una MontainBike\".format(self.nombre))\n",
    "        self.energia -= 1\n",
    "        self.registro_marcas.append(random.gauss(1000/self.velocidad, 1))\n",
    "\n",
    "class CiclistaPista(Ciclista):\n",
    "    \n",
    "    def __init__(self, nombre, velocidad):\n",
    "        super().__init__(nombre, velocidad)\n",
    "        \n",
    "    def competir(self):\n",
    "        print(\"El ciclista {} está yendo a su máxima velocidad por la pista\".format(self.nombre))\n",
    "        self.energia -= 1\n",
    "        self.registro_marcas.append(random.gauss(1000/self.velocidad, 1))\n",
    "            \n",
    "class Nadador(Atleta):\n",
    "    \n",
    "    def __init__(self, nombre, velocidad):\n",
    "        super().__init__(nombre, velocidad)\n",
    "        \n",
    "    def competir(self):\n",
    "        print(\"El nadador {} está nadando\".format(self.nombre))\n",
    "        self.energia -= 1\n",
    "        self.registro_marcas.append(random.gauss(1000/self.velocidad, 1))\n",
    "        \n",
    "    def entrenar(self):\n",
    "        if self.energia > 0:\n",
    "            self.energia -= 1\n",
    "            self.velocidad += 2\n",
    "        else:\n",
    "            print('No puedo entrenar más papurri!')\n",
    "\n",
    "            \n",
    "class Corredor(Atleta):\n",
    "    \n",
    "    def __init__(self, nombre, velocidad):\n",
    "        super().__init__(nombre, velocidad)\n",
    "        \n",
    "    def competir(self):\n",
    "        print(\"El corredor {} está corriendo\".format(self.nombre))\n",
    "        self.energia -= 1\n",
    "        self.registro_marcas.append(random.gauss(1000/self.velocidad, 1))\n",
    "        \n",
    "    def entrenar(self):\n",
    "        if self.energia > 0:\n",
    "            self.energia -= 1\n",
    "            self.velocidad += 3\n",
    "        else:\n",
    "            print('No puedo entrenar más papurri!')"
   ]
  },
  {
   "cell_type": "markdown",
   "metadata": {},
   "source": [
    "> ### Notas\n",
    "\n",
    "> Cuando un triatleta compite, deben conseguirse tres marcas al azar: una para nadador, una para ciclista de pista, y una para corredor. Utilice `random.gauss(1000/velocidad, 1)` para conseguir las tres."
   ]
  },
  {
   "cell_type": "markdown",
   "metadata": {},
   "source": [
    "En las notas y tips nos avisaban que para el triatleta era necesario guardar 3 tipos de marcas. Esto lo podemos hacer con 3 atributos que actúen como registros distintos."
   ]
  },
  {
   "cell_type": "code",
   "execution_count": 23,
   "metadata": {
    "collapsed": true
   },
   "outputs": [],
   "source": [
    "class Triatleta(Corredor, Nadador, CiclistaPista):\n",
    "    \n",
    "    def __init__(self, nombre, velocidad):\n",
    "        super().__init__(nombre, velocidad)\n",
    "        self.registro_marcas_corredor = []\n",
    "        self.registro_marcas_nadador = []\n",
    "        self.registro_marcas_ciclista = []\n",
    "        \n",
    "    def competir(self):\n",
    "        print(\"El triatleta {} está compitiendo en un triatlón\".format(self.nombre))\n",
    "        self.energia -= 3\n",
    "        self.registro_marcas_corredor.append(random.gauss(1000/self.velocidad, 1))\n",
    "        self.registro_marcas_nadador.append(random.gauss(1000/self.velocidad, 1))\n",
    "        self.registro_marcas_ciclista.append(random.gauss(1000/self.velocidad, 1))\n",
    "        \n",
    "    def entrenar(self):\n",
    "        if self.energia > 0:\n",
    "            self.energia -= 3\n",
    "            self.velocidad += random.randint(1,3)\n",
    "        else:\n",
    "            print('No puedo entrenar más papurri!')  \n",
    "            "
   ]
  },
  {
   "cell_type": "markdown",
   "metadata": {},
   "source": [
    "> - Se debe poder comparar atletas de una misma categoría con los operadores (>, <, ==) de acuerdo a la **mejor marca** (el menor de todos los tiempos registrados) de cada uno. Es posible comparar a un Ciclista de pista con un Triatleta de acuerdo a la marca respectiva, pero nunca atletas de distintas categorías (Ciclista de montaña y Ciclista de pistas se consideran categorías diferentes). Usted debe controlar, por ejemplo, que si se intenta comparar a un nadador con un triatleta, pero el último no tiene ninguna marca registrada para la categoría nadador, se imprima error y se retorne None al comparar."
   ]
  },
  {
   "cell_type": "markdown",
   "metadata": {},
   "source": [
    "Para esto, podemos definir un método que retorne la mejor marca hasta ahora. Este método se encontrará en `Atleta`, pues es igual para la mayoría de los deportistas.\n",
    "\n",
    "Para comparar entre atletas, es necesario definir los operadores >, < e == entre ellos. Esto se hace con los métodos `__gt__` (_greater than_ >), `__lt__` (_less than_ <) y `__eq__` (_equal_ ==), de la misma forma que vimos anteriormente con `__add__`, sin embargo, en este caso se debe retornar un booleano (`True` o `False`)."
   ]
  },
  {
   "cell_type": "code",
   "execution_count": 26,
   "metadata": {
    "collapsed": true
   },
   "outputs": [],
   "source": [
    "class Atleta(metaclass=ABCMeta):\n",
    "    \n",
    "    def __init__(self, nombre, velocidad):\n",
    "        self.nombre = nombre\n",
    "        self._energia = 100\n",
    "        self.velocidad = velocidad\n",
    "        self.registro_marcas = []\n",
    "        \n",
    "    @property\n",
    "    def energia(self):\n",
    "        return self._energia\n",
    "    \n",
    "    @energia.setter\n",
    "    def energia(self, value):\n",
    "        if value >= 100:\n",
    "            self._energia = 100\n",
    "        elif value <= 0:\n",
    "            self._energia = 0\n",
    "        else:\n",
    "            self._energia = value\n",
    "    \n",
    "    def descansar(self):\n",
    "        self.energia += 1\n",
    "       \n",
    "    @abstractmethod\n",
    "    def entrenar(self):\n",
    "        pass\n",
    "    \n",
    "    @abstractmethod\n",
    "    def competir(self):\n",
    "        pass\n",
    "\n",
    "    def mejor_marca(self):\n",
    "        # De esta forma obtenemos la marca mínima del registro\n",
    "        return min(self.registro_marcas)\n",
    "    \n",
    "    def __lt__(self, other):\n",
    "        if type(self) == type(other):\n",
    "            # Si son del mismo tipo, simplemente compararan sus mejores marcas\n",
    "            return self.mejor_marca() < other.mejor_marca()\n",
    "        elif isinstance(other, Triatleta):\n",
    "            # Si el otro objeto es un triatleta, daremos vuelta la comparación\n",
    "            # para que se llame al método __lt__ específico del Triatleta.\n",
    "            return other > self\n",
    "        else:\n",
    "            # Si son de distinto tipo.\n",
    "            print('Son de distinta categoría :3')\n",
    "            return None\n",
    "        \n",
    "    def __gt__(self, other):\n",
    "        if type(self) == type(other):\n",
    "            # Si son del mismo tipo, simplemente compararan sus mejores marcas\n",
    "            return self.mejor_marca() > other.mejor_marca()\n",
    "        elif isinstance(other, Triatleta):\n",
    "            return other < self\n",
    "        else:\n",
    "            # Si son de distinto tipo.\n",
    "            print('Son de distinta categoría :3')\n",
    "            return None\n",
    "        \n",
    "    def __eq__(self, other):\n",
    "        if type(self) == type(other):\n",
    "            # Si son del mismo tipo, simplemente compararan sus mejores marcas\n",
    "            return self.mejor_marca() == other.mejor_marca()\n",
    "        elif isinstance(other, Triatleta):\n",
    "            return other == self\n",
    "        else:\n",
    "            # Si son de distinto tipo.\n",
    "            print('Son de distinta categoría :3')\n",
    "            return None\n",
    "            "
   ]
  },
  {
   "cell_type": "markdown",
   "metadata": {},
   "source": [
    "Más adelante aprenderemos formas en las que no necesitemos escribir los 3 métodos casi iguales."
   ]
  },
  {
   "cell_type": "markdown",
   "metadata": {},
   "source": [
    "Notemos que el Triatleta tiene 3 tipos de marcas, por lo que se puede comparar con ciclistas, nadadores y corredores. Para ello, vamos a necesitar que implemente su propio tipo de mejor marca y que sepa cómo actuar cuando se compare con otras clases.\n",
    "\n",
    "Luego, cuando se compare con otros objetos con los operadores >, < o == revisará de qué clase son y de esa forma revisará la marca correspondiente con la que se puede comparar."
   ]
  },
  {
   "cell_type": "code",
   "execution_count": 28,
   "metadata": {
    "collapsed": true
   },
   "outputs": [],
   "source": [
    "class Triatleta(Corredor, Nadador, CiclistaPista):\n",
    "    \n",
    "    def __init__(self, nombre, velocidad):\n",
    "        super().__init__(nombre, velocidad)\n",
    "        self.registro_marcas_corredor = []\n",
    "        self.registro_marcas_nadador = []\n",
    "        self.registro_marcas_ciclista = []\n",
    "        \n",
    "    def competir(self):\n",
    "        print(\"El triatleta {} está compitiendo en un triatlón\".format(self.nombre))\n",
    "        self.energia -= 3\n",
    "        self.registro_marcas_corredor.append(random.gauss(1000/self.velocidad, 1))\n",
    "        self.registro_marcas_nadador.append(random.gauss(1000/self.velocidad, 1))\n",
    "        self.registro_marcas_ciclista.append(random.gauss(1000/self.velocidad, 1))\n",
    "        \n",
    "    def entrenar(self):\n",
    "        if self.energia > 0:\n",
    "            self.energia -= 3\n",
    "            self.velocidad += random.randint(1,3)\n",
    "        else:\n",
    "            print('No puedo entrenar más papurri!')\n",
    "            \n",
    "    def mejor_marca(self):\n",
    "        # El triatleta retornará sus 3 mejores marcas en una tupla\n",
    "        # Así, cuando se comparen triatletas entre ellos podrán comparar\n",
    "        # sus tuplas\n",
    "        return (min(self.registro_marcas_corredor),\n",
    "                min(self.registro_marcas_nadador),\n",
    "                min(self.registro_marcas_ciclista),)\n",
    "    \n",
    "    def __lt__(self, other):\n",
    "        if isinstance(other, Triatleta):\n",
    "            # Si los dos son Triatletas\n",
    "            return self.mejor_marca() < other.mejor_marca()\n",
    "        elif isinstance(other, Corredor):\n",
    "            return self.mejor_marca()[0] < other.mejor_marca()\n",
    "        elif isinstance(other, Nadador):\n",
    "            return self.mejor_marca()[1] < other.mejor_marca()\n",
    "        elif isinstance(other, Ciclista):\n",
    "            return self.mejor_marca()[2] < other.mejor_marca()\n",
    "        else:\n",
    "            print('Son de distinta categoría :3')\n",
    "            return None\n",
    "        \n",
    "    def __gt__(self, other):\n",
    "        if isinstance(other, Triatleta):\n",
    "            # Si los dos son Triatletas\n",
    "            return self.mejor_marca() > other.mejor_marca()\n",
    "        elif isinstance(other, Corredor):\n",
    "            return self.mejor_marca()[0] > other.mejor_marca()\n",
    "        elif isinstance(other, Nadador):\n",
    "            return self.mejor_marca()[1] > other.mejor_marca()\n",
    "        elif isinstance(other, Ciclista):\n",
    "            return self.mejor_marca()[2] > other.mejor_marca()\n",
    "        else:\n",
    "            print('Son de distinta categoría :3')\n",
    "            return None\n",
    "        \n",
    "    def __eq__(self, other):\n",
    "        if isinstance(other, Triatleta):\n",
    "            # Si los dos son Triatletas\n",
    "            return self.mejor_marca() == other.mejor_marca()\n",
    "        elif isinstance(other, Corredor):\n",
    "            return self.mejor_marca()[0] == other.mejor_marca()\n",
    "        elif isinstance(other, Nadador):\n",
    "            return self.mejor_marca()[1] == other.mejor_marca()\n",
    "        elif isinstance(other, Ciclista):\n",
    "            return self.mejor_marca()[2] == other.mejor_marca()\n",
    "        else:\n",
    "            print('Son de distinta categoría :3')\n",
    "            return None"
   ]
  },
  {
   "cell_type": "markdown",
   "metadata": {
    "collapsed": true
   },
   "source": [
    "Finalmente, trata de poblar este sistema. ¡Crea equipos de distintos deportes!"
   ]
  },
  {
   "cell_type": "code",
   "execution_count": 29,
   "metadata": {},
   "outputs": [
    {
     "name": "stdout",
     "output_type": "stream",
     "text": [
      "Puedes poblar el sistema aquí o añadiendo más celdas de código.\n"
     ]
    }
   ],
   "source": [
    "print(\"Puedes poblar el sistema aquí o añadiendo más celdas de código.\")"
   ]
  },
  {
   "cell_type": "code",
   "execution_count": null,
   "metadata": {
    "collapsed": true
   },
   "outputs": [],
   "source": []
  }
 ],
 "metadata": {
  "kernelspec": {
   "display_name": "Python 3",
   "language": "python",
   "name": "python3"
  },
  "language_info": {
   "codemirror_mode": {
    "name": "ipython",
    "version": 3
   },
   "file_extension": ".py",
   "mimetype": "text/x-python",
   "name": "python",
   "nbconvert_exporter": "python",
   "pygments_lexer": "ipython3",
   "version": "3.5.2"
  }
 },
 "nbformat": 4,
 "nbformat_minor": 2
}
