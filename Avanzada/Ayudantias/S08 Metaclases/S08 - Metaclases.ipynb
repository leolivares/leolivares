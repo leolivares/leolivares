{
 "cells": [
  {
   "cell_type": "markdown",
   "metadata": {},
   "source": [
    "# Metaclases\n",
    "\n",
    "**Sebastián Guerra y Enzo Tamburini**\n",
    "\n",
    "## ¿Por qué? D:\n",
    "\n",
    "- Nos ayudan a reducir código de manera elegante y legible\n",
    "- Sirven para tener una solución elegante para cuando se necesita crear varias clases que comparten varios elementos y que sin embargo necesitamos diferenciar\n",
    "\n",
    "## Actividad 07 2016-2\n",
    "\n",
    "Pueden encontrar el enunciado de la actividad [aquí](https://github.com/IIC2233-2016-02/Syllabus/blob/master/Actividades/AC07/Enunciado.pdf). El archivo dado está al final de esta ayudantía :)\n"
   ]
  },
  {
   "cell_type": "markdown",
   "metadata": {},
   "source": [
    "## Instrucciones\n",
    "\n",
    "Dentro del archivo _main.py_ descargado junto a este enunciado encontrará tres clases; **Boss**, **Worker** y\n",
    "**Organization**. Dichas clases se encuentran funcionalmente incompletas y es deber suyo corregirlas, sólo\n",
    "mediante el **uso de metaclases**.\n",
    "Deberá crear las metaclases **MetaOrganization** y **MetaPerson** para posteriormente poder aplicarlas\n",
    "sobre cualquier clase, en particular, MetaOrganization sobre Organization y MetaPerson sobre Boss y Worker\n",
    "para completar el funcionamiento del programa.\n",
    "A partir de ahora el enunciado llamará **Organización** a cualquier clase con metaclase MetaOrganization\n",
    "y **Persona** a cualquier clase con metaclase MetaPerson.\n",
    "\n",
    "\n",
    "## Requerimientos\n",
    "\n",
    "> Cualquier clase `Organizacion` debe cumplir:\n",
    "\n",
    "> - Poseer un método para listar a sus miembros.\n",
    "\n",
    "Primero declaramos la metaclase, para esto recordar que para crear una, se debe heredar de `type`. Luego, para resolver el primer requerimiento es definir una función dentro de `__new__` y asignarla en el diccionario de esta. "
   ]
  },
  {
   "cell_type": "code",
   "execution_count": 26,
   "metadata": {
    "collapsed": true
   },
   "outputs": [],
   "source": [
    "class MetaOrganization(type):\n",
    "    def __new__(meta, name, base, clsdict):\n",
    "        def see_members(self):\n",
    "            for i, miembro in enumerate(self.members):\n",
    "                print('Miembro numero {0}: {1}\\n'.format(i, miembro))\n",
    "                \n",
    "        clsdict['see_members'] = see_members\n",
    "        \n",
    "        return super().__new__(meta, name, base, clsdict)"
   ]
  },
  {
   "cell_type": "markdown",
   "metadata": {},
   "source": [
    "> - Poseer un método para reemplazar al jefe actual por otro."
   ]
  },
  {
   "cell_type": "code",
   "execution_count": 27,
   "metadata": {
    "collapsed": true
   },
   "outputs": [],
   "source": [
    "class MetaOrganization(type):\n",
    "    def __new__(meta, name, base, clsdict):\n",
    "        def see_members(self):\n",
    "            for i, miembro in enumerate(self.members):\n",
    "                print('Miembro numero {0}: {1}\\n'.format(i, miembro))\n",
    "        \n",
    "        def replace_boss(self, new_boss):\n",
    "            self.boss = new_boss\n",
    "        \n",
    "        clsdict['see_members'] = see_members\n",
    "        clsdict['replace_boss'] = replace_boss\n",
    "        \n",
    "        return super().__new__(meta, name, base, clsdict)"
   ]
  },
  {
   "cell_type": "markdown",
   "metadata": {},
   "source": [
    "> - Cuando **se llama** a una de sus instancias, se imprime la información de la instancia en cuestión; **nombre**, **jefe** y **cantidad de miembros**.\n",
    "\n",
    "**OJO:** Aquí hay que hacer una útil distinción. Vamos a sobreescribir el `__call__` de la clase creada. Este método es **diferente** al de la metaclase. Para ver la diferencia, un ejemplo: "
   ]
  },
  {
   "cell_type": "code",
   "execution_count": 28,
   "metadata": {},
   "outputs": [
    {
     "name": "stdout",
     "output_type": "stream",
     "text": [
      "Siempre me imprimiré! porque soy parte de la metaclase y por ende, de la creación de la clase >:)\n"
     ]
    }
   ],
   "source": [
    "class MetaEjemplo(type):\n",
    "    def __call__(cls, *args, **kwargs):\n",
    "        print('Siempre me imprimiré! porque soy parte de la metaclase y por ende, de la creación de la clase >:)')\n",
    "        return super().__call__(*args, **kwargs)\n",
    "    \n",
    "class Ejemplin(metaclass=MetaEjemplo):\n",
    "    def __call__(self, *args, **kwargs):\n",
    "        print('Sólo me imprimo cuando ejecutan la instancia! :B')\n",
    "        print('Y no retorno :P')\n",
    "        \n",
    "ej1 = Ejemplin()\n",
    "# ej1()"
   ]
  },
  {
   "cell_type": "markdown",
   "metadata": {},
   "source": [
    "Ambos métodos aunque se llamen igual, hacen cosas diferentes. Uno afecta directamente a la creación del objeto de la clase `cls` y que por lo tanto **debe** retornar algo (aunque sea `None`), mientras que el otro se pone en el caso de que se haga una llamada a la instancia (en el ejemplo: `ej1()`) y que por lo tanto, **puede, o no,** retornar algo.\n",
    "\n",
    "Retomando la actividad..."
   ]
  },
  {
   "cell_type": "code",
   "execution_count": 29,
   "metadata": {
    "collapsed": true
   },
   "outputs": [],
   "source": [
    "class MetaOrganization(type):\n",
    "    def __new__(meta, name, base, clsdict):\n",
    "        def see_members(self):\n",
    "            for i, miembro in enumerate(self.members):\n",
    "                print('Miembro numero {0}: {1}\\n'.format(i, miembro))\n",
    "        \n",
    "        def replace_boss(self, new_boss):\n",
    "            self.boss = new_boss\n",
    "            \n",
    "        def call(self, *args, **kwargs):\n",
    "            print('Nombre de la Organizacion: {0}\\nJefe: {1}\\nNumero de empleados: {2}\\n'.format(self.name, self.boss, len(self.members)))\n",
    "\n",
    "        clsdict['__call__'] = call\n",
    "        clsdict['see_members'] = see_members\n",
    "        clsdict['replace_boss'] = replace_boss\n",
    "        \n",
    "        return super().__new__(meta, name, base, clsdict)"
   ]
  },
  {
   "cell_type": "markdown",
   "metadata": {},
   "source": [
    "> - Si al intentar instanciar una organización de clase `Organizacion` y el nombre se encuentra ocupado por alguna otra instancia de **dicha** clase `Organizacion`, la instanciación se verá denegada, retornando `None` en vez de la instancia esperada.\n",
    "\n",
    "Para este requerimiento, es necesario irse al método `__call__` ya que es necesario uno de los argumentos que se le pasa a la instancia de la clase al momento de ser creada (el nombre de la organización). También notar que se guardarán los nombres de las instancias creadas."
   ]
  },
  {
   "cell_type": "code",
   "execution_count": 30,
   "metadata": {
    "collapsed": true
   },
   "outputs": [],
   "source": [
    "class MetaOrganization(type):\n",
    "    \n",
    "    instances = dict()\n",
    "    \n",
    "    def __new__(meta, name, base, clsdict):\n",
    "        def see_members(self):\n",
    "            for i, miembro in enumerate(self.members):\n",
    "                print('Miembro numero {0}: {1}\\n'.format(i, miembro))\n",
    "        \n",
    "        def replace_boss(self, new_boss):\n",
    "            self.boss = new_boss\n",
    "            \n",
    "        def call(self, *args, **kwargs):\n",
    "            print('Nombre de la Organizacion: {0}\\nJefe: {1}\\nNumero de empleados: {2}\\n'.format(self.name, self.boss, len(self.members)))\n",
    "\n",
    "        clsdict['__call__'] = call\n",
    "        clsdict['see_members'] = see_members\n",
    "        clsdict['replace_boss'] = replace_boss\n",
    "        \n",
    "        return super().__new__(meta, name, base, clsdict)\n",
    "    \n",
    "    def __call__(cls, *args, **kwargs):\n",
    "        if cls.__name__ == 'Organization':\n",
    "            if args[0] in MetaOrganization.instances.keys():\n",
    "                return None\n",
    "            instance = super().__call__(*args, **kwargs)\n",
    "            MetaOrganization.instances[args[0]] = instance\n",
    "        return instance"
   ]
  },
  {
   "cell_type": "markdown",
   "metadata": {},
   "source": [
    "> Cualquier clase `Persona` debe cumplir: \n",
    "\n",
    "> - Cuando se instancia una persona a partir de una clase `Persona` esta recibe un nombre, apellido y edad aleatorios.\n",
    "\n",
    "Debido a que cada vez que se crea una nueva instancia de una `Persona` esta debe tener su propio nombre, apellido y edad, estos atributos deben ser creados a nivel del `__call__` de la metaclase. Si se aplican en el `__new__` **cada** instancia tendrá los mismos valores!!!"
   ]
  },
  {
   "cell_type": "code",
   "execution_count": 31,
   "metadata": {
    "collapsed": true
   },
   "outputs": [],
   "source": [
    "class MetaPerson(type):\n",
    "    def __call__(cls, *args, **kwargs):\n",
    "        instance = super().__call__(*args, **kwargs)\n",
    "        \n",
    "        setattr(instance, \"name\", random.choice(name_list))\n",
    "        setattr(instance, \"last_name\", random.choice(lastname_list))\n",
    "        setattr(instance, \"age\", random.randint(18, 65))\n",
    "        \n",
    "        return instance"
   ]
  },
  {
   "cell_type": "markdown",
   "metadata": {},
   "source": [
    "> - El atributo `organizacion` de la clase persona debe guardar el nombre de la organización, **no la instancia organización**.\n",
    "\n",
    "Para este requerimiento, debemos alterar los argumentos que recibe el método `__call__` de la metaclase. Recordemos que `*args` y `**kwargs` son los argumentos usados al instanciar una `Persona`. Como el primer argumento es el que se guarda en el atributo `organizacion`, es este el que debemos alterar."
   ]
  },
  {
   "cell_type": "code",
   "execution_count": 32,
   "metadata": {
    "collapsed": true
   },
   "outputs": [],
   "source": [
    "class MetaPerson(type):\n",
    "    def __call__(cls, *args, **kwargs):\n",
    "        orga = args[0]        \n",
    "        instance = super().__call__(orga.name, *args[1:], **kwargs)\n",
    "        \n",
    "        setattr(instance, \"name\", random.choice(name_list))\n",
    "        setattr(instance, \"last_name\", random.choice(lastname_list))\n",
    "        setattr(instance, \"age\", random.randint(18, 65))\n",
    "        \n",
    "        return instance"
   ]
  },
  {
   "cell_type": "markdown",
   "metadata": {},
   "source": [
    "> - Si el nombre de la clase `Persona` contiene la palabra \"Boss\" se le considerará como una clase `Jefe`. Si contiene la palabra \"Worker\" se le considerará como una clase `Trabajador`."
   ]
  },
  {
   "cell_type": "markdown",
   "metadata": {},
   "source": [
    "> - Al momento de intentar instanciar una persona a partir de una clase `Persona` se debe cumplir:\n",
    ">  * Si la organización **no posee** un jefe y la persona **no es un jefe**, no se verá instanciada, retornando `None`.\n",
    ">  * Si la organización **no posee** un jefe y la persona **es un jefe**, se verá instanciada. Además, la organización le adoptará como jefe, otorgándole el método `add_members` para añadir personas a la organización. \n",
    ">  * Si la organización **posee** un jefe y la persona **no es un jefe**, será instanciada, pero no añadida a la organización necesariamente. Aceptar a dicha persona es deber del jefe.\n",
    ">  * Si la organización **posee** un jefe y la persona **es un jefe**, se reemplazará al jefe actual de la organización por el nuevo jefe mediante el método de la organización correspondiente.\n",
    "> * Considere que el método `add_members` recibe como parámetro un miembro a agregar a la organización. Este método debe agregarlos a la misma organización que pertenece el jefe.\n",
    "\n",
    "Usaremos una variable booleana que indique si una `Persona` es jefe o no y si la organización tiene jefe (es `None` si no tiene). Para el primer requerimiento,"
   ]
  },
  {
   "cell_type": "code",
   "execution_count": 33,
   "metadata": {
    "collapsed": true
   },
   "outputs": [],
   "source": [
    "class MetaPerson(type):\n",
    "    def __call__(cls, *args, **kwargs):\n",
    "        orga = args[0]        \n",
    "        es_jefe = \"Boss\" in cls.__name__\n",
    "        tiene_jefe = orga.boss\n",
    "        if not es_jefe and not tiene_jefe:\n",
    "            return None\n",
    "        instance = super().__call__(orga.name, *args[1:], **kwargs)\n",
    "    \n",
    "        setattr(instance, \"name\", random.choice(name_list))\n",
    "        setattr(instance, \"last_name\", random.choice(lastname_list))\n",
    "        setattr(instance, \"age\", random.randint(18, 65))\n",
    "        \n",
    "        return instance"
   ]
  },
  {
   "cell_type": "markdown",
   "metadata": {},
   "source": [
    "Para el segundo requerimiento, se debe agregar un método para los jefes que permita agregar miembros a la organización que dirige."
   ]
  },
  {
   "cell_type": "code",
   "execution_count": 34,
   "metadata": {
    "collapsed": true
   },
   "outputs": [],
   "source": [
    "class MetaPerson(type):\n",
    "    def __new__(meta, name, bases, clsdict):\n",
    "        if \"Boss\" in name:\n",
    "            def add_member_method(self, member):\n",
    "                MetaOrganization.instances[self.organization].members.append(member)\n",
    "            clsdict[\"add_member\"] = add_member_method\n",
    "        \n",
    "        return super().__new__(meta, name, bases, clsdict)\n",
    "        \n",
    "    def __call__(cls, *args, **kwargs):\n",
    "        orga = args[0]        \n",
    "        es_jefe = \"Boss\" in cls.__name__\n",
    "        tiene_jefe = orga.boss\n",
    "        if not es_jefe and not tiene_jefe:\n",
    "            return None\n",
    "        instance = super().__call__(orga.name, *args[1:], **kwargs)\n",
    "        if es_jefe and not tiene_jefe:\n",
    "            orga.boss = instance\n",
    "\n",
    "        setattr(instance, \"name\", random.choice(name_list))\n",
    "        setattr(instance, \"last_name\", random.choice(lastname_list))\n",
    "        setattr(instance, \"age\", random.randint(18, 65))\n",
    "        \n",
    "        return instance"
   ]
  },
  {
   "cell_type": "markdown",
   "metadata": {},
   "source": [
    "Para el tercer requerimiento solo se retorna tal y como ya se hace. Para el cuarto, se modifica el jefe actual de la organización."
   ]
  },
  {
   "cell_type": "code",
   "execution_count": 35,
   "metadata": {
    "collapsed": true
   },
   "outputs": [],
   "source": [
    "class MetaPerson(type):\n",
    "    def __new__(meta, name, bases, clsdict):\n",
    "        if \"Boss\" in name:\n",
    "            def add_member_method(self, member):\n",
    "                MetaOrganization.instances[self.organization].members.append(member)\n",
    "            clsdict[\"add_member\"] = add_member_method\n",
    "        \n",
    "        return super().__new__(meta, name, bases, clsdict)\n",
    "        \n",
    "    def __call__(cls, *args, **kwargs):\n",
    "        orga = args[0]        \n",
    "        es_jefe = \"Boss\" in cls.__name__\n",
    "        tiene_jefe = orga.boss\n",
    "        if not es_jefe and not tiene_jefe:\n",
    "            return None\n",
    "        instance = super().__call__(orga.name, *args[1:], **kwargs)\n",
    "        if es_jefe and not tiene_jefe:\n",
    "            orga.boss = instance\n",
    "        elif es_jefe and tiene_jefe:\n",
    "            orga.replace_boss(instance)\n",
    "\n",
    "        setattr(instance, \"name\", random.choice(name_list))\n",
    "        setattr(instance, \"last_name\", random.choice(lastname_list))\n",
    "        setattr(instance, \"age\", random.randint(18, 65))\n",
    "        \n",
    "        return instance"
   ]
  },
  {
   "cell_type": "markdown",
   "metadata": {},
   "source": [
    "> - Cualquier clase `Persona` considerada Jefe deberá poseer un método para dar órdenes `to order`. Puede ser simulado mediante una impresión en pantalla.\n",
    "> - Cualquier clase `Persona` considerada Trabajador deberá poseer un método para trabajar `to work`. Puede ser simulado mediante una impresión en pantalla."
   ]
  },
  {
   "cell_type": "code",
   "execution_count": 36,
   "metadata": {
    "collapsed": true
   },
   "outputs": [],
   "source": [
    "class MetaPerson(type):\n",
    "    def __new__(meta, name, bases, clsdict):\n",
    "        if \"Boss\" in name:\n",
    "            def add_member_method(self, member):\n",
    "                MetaOrganization.instances[self.organization].members.append(member)\n",
    "            clsdict[\"add_member\"] = add_member_method\n",
    "            \n",
    "            def to_orden_method(self):\n",
    "                print(\"Estoy mandando!\")\n",
    "            clsdict[\"order\"] = to_orden_method\n",
    "            \n",
    "        elif \"Worker\" in name:\n",
    "            def to_work_method(self):\n",
    "                print(\"Estoy trabajando!\")\n",
    "            clsdict[\"to_work\"] = to_work_method\n",
    "        \n",
    "        return super().__new__(meta, name, bases, clsdict)\n",
    "        \n",
    "    def __call__(cls, *args, **kwargs):\n",
    "        orga = args[0]        \n",
    "        es_jefe = \"Boss\" in cls.__name__\n",
    "        tiene_jefe = orga.boss\n",
    "        if not es_jefe and not tiene_jefe:\n",
    "            return None\n",
    "        instance = super().__call__(orga.name, *args[1:], **kwargs)\n",
    "        if es_jefe and not tiene_jefe:\n",
    "            orga.boss = instance\n",
    "        elif es_jefe and tiene_jefe:\n",
    "            orga.replace_boss(instance)\n",
    "\n",
    "        setattr(instance, \"name\", random.choice(name_list))\n",
    "        setattr(instance, \"last_name\", random.choice(lastname_list))\n",
    "        setattr(instance, \"age\", random.randint(18, 65))\n",
    "        \n",
    "        return instance"
   ]
  },
  {
   "cell_type": "markdown",
   "metadata": {},
   "source": [
    "> - "
   ]
  },
  {
   "cell_type": "code",
   "execution_count": 37,
   "metadata": {},
   "outputs": [
    {
     "name": "stdout",
     "output_type": "stream",
     "text": [
      "Organizacion: Salo\n",
      "Nombre de la Organizacion: Salo\n",
      "Jefe: None\n",
      "Numero de empleados: 0\n",
      "\n",
      "\n",
      "Organizacion: Sola\n",
      "Nombre de la Organizacion: Sola\n",
      "Jefe: None\n",
      "Numero de empleados: 0\n",
      "\n",
      "Nombres utilizados dict_keys(['Salo', 'Sola'])\n",
      "\n",
      "\n",
      "Estoy trabajando!\n",
      "Estoy trabajando!\n",
      "Estoy trabajando!\n",
      "Estoy trabajando!\n",
      "Estoy mandando!\n",
      "\n",
      "Estoy trabajando!\n",
      "Estoy mandando!\n",
      "----------------------------------------------------------------------------------------------------\n",
      "Nombre de la Organizacion: Salo\n",
      "Jefe: Boss: Peter Castro\n",
      "Numero de empleados: 3\n",
      "\n",
      "Miembro numero 0: Worker: Fernanda Pérez\n",
      "\n",
      "Miembro numero 1: Worker: Geronimo Castro\n",
      "\n",
      "Miembro numero 2: Worker: Rocio González\n",
      "\n",
      "----------------------------------------------------------------------------------------------------\n",
      "Nombre de la Organizacion: Sola\n",
      "Jefe: Boss: Maida Fernández\n",
      "Numero de empleados: 2\n",
      "\n",
      "Miembro numero 0: Worker: Jack Suárez\n",
      "\n",
      "Miembro numero 1: Worker: Juan Sánchez\n",
      "\n",
      "----------------------------------------------------------------------------------------------------\n"
     ]
    }
   ],
   "source": [
    "import random\n",
    "\n",
    "name_list = ['Alfonso', 'Benito', 'Alfredo', 'Geronimo', 'Peter', 'Jack',\n",
    "             'Simon', 'Jaime', 'Bego', 'Francisca', 'Maida', 'Clara', 'Rocio',\n",
    "             'Sofia', 'Belen', 'Fausto', 'Juan', 'Miguel', 'Mariana',\n",
    "             'Fernanda', 'Constanza', 'Valentina', 'Tomas']\n",
    "\n",
    "lastname_list = ['Fernández', 'Rodríguez', 'González', 'García', 'López',\n",
    "                 'Martínez', 'Pérez', 'Álvarez', 'Gómez', 'Sánchez',\n",
    "                 'Díaz', 'Vásquez', 'Castro', 'Romero', 'Suárez']\n",
    "\n",
    "\n",
    "# Solo modificar para agregar metaclass=*\n",
    "class Boss(metaclass=MetaPerson):\n",
    "    def __init__(self, organization, *args, **kwargs):\n",
    "        self.organization = organization\n",
    "\n",
    "    def __repr__(self):\n",
    "        return 'Boss: {0.name} {0.last_name}'.format(self)\n",
    "\n",
    "\n",
    "class Worker(metaclass=MetaPerson):\n",
    "    def __init__(self, organization, *args, **kwargs):\n",
    "        self.organization = organization\n",
    "\n",
    "    def __repr__(self):\n",
    "        return 'Worker: {0.name} {0.last_name}'.format(self)\n",
    "\n",
    "\n",
    "class Organization(metaclass=MetaOrganization):\n",
    "\n",
    "    def __init__(self, name):\n",
    "        self.name = name\n",
    "        self.boss = None\n",
    "        self.members = list()\n",
    "\n",
    "    def __repr__(self):\n",
    "        return 'Organizacion: {}'.format(self.name)\n",
    "\n",
    "    def pick_one_worker(self):\n",
    "        return random.choice(self.members)\n",
    "\n",
    "\n",
    "if __name__ == '__main__':\n",
    "    salo = Organization('Salo')\n",
    "    print(salo)\n",
    "    salo()\n",
    "    print()\n",
    "    sola = Organization('Sola')\n",
    "    print(sola)\n",
    "    sola()\n",
    "\n",
    "    z = Organization('Salo')\n",
    "    print(\"Nombres utilizados {}\".format(Organization.instances.keys()))\n",
    "    print()\n",
    "\n",
    "    jefe_salo = Boss(salo)\n",
    "    jefe_sola = Worker(sola)\n",
    "    jefe_sola = Boss(sola)\n",
    "    print()\n",
    "\n",
    "    for i in range(3):\n",
    "        w = Worker(salo)\n",
    "        jefe_salo.add_member(w)\n",
    "        w.to_work()\n",
    "    salo.pick_one_worker().to_work()\n",
    "    jefe_salo.order()\n",
    "    print()\n",
    "    for i in range(2):\n",
    "        jefe_sola.add_member(Worker(sola))\n",
    "    sola.pick_one_worker().to_work()\n",
    "    jefe_sola.order()\n",
    "\n",
    "    new_jefe_salo = Boss(salo)\n",
    "\n",
    "    print('--'*50)\n",
    "    salo()\n",
    "    salo.see_members()\n",
    "    print('--'*50)\n",
    "    sola()\n",
    "    sola.see_members()\n",
    "    print('--'*50)"
   ]
  },
  {
   "cell_type": "code",
   "execution_count": null,
   "metadata": {
    "collapsed": true
   },
   "outputs": [],
   "source": []
  },
  {
   "cell_type": "code",
   "execution_count": null,
   "metadata": {
    "collapsed": true
   },
   "outputs": [],
   "source": []
  }
 ],
 "metadata": {
  "kernelspec": {
   "display_name": "Python 3",
   "language": "python",
   "name": "python3"
  },
  "language_info": {
   "codemirror_mode": {
    "name": "ipython",
    "version": 3
   },
   "file_extension": ".py",
   "mimetype": "text/x-python",
   "name": "python",
   "nbconvert_exporter": "python",
   "pygments_lexer": "ipython3",
   "version": "3.6.2"
  }
 },
 "nbformat": 4,
 "nbformat_minor": 1
}
