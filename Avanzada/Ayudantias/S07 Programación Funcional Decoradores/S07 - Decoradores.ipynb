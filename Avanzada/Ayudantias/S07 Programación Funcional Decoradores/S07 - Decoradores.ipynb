{
 "cells": [
  {
   "cell_type": "markdown",
   "metadata": {},
   "source": [
    "# Ayudantía virtual: Decoradores\n",
    "\n",
    "Puedes correr el código de esta ayudantía usando Jupyter Notebook. Si tienes alguna duda respecto a ésta, pregúntala en las [issues](https://github.com/IIC2233/Syllabus/issues).\n",
    "\n",
    "En esta ayudantía, resolveremos paso a paso la Actividad 6 del primer semestre del año 2016. Para esto, asegúrate primero de haber leído el [material de esta semana](https://github.com/IIC2233/contenidos/tree/master/semana-7).\n",
    "\n",
    "Por favor, lee el enunciado entero de la actividad [aquí](https://github.com/IIC2233-2016-1/syllabus/blob/master/Actividades/AC06/main.pdf) antes de continuar.\n",
    "\n",
    "> En adelante, cuando nos refiramos a una parte del enunciado, lo mostraremos en un bloque de texto como este."
   ]
  },
  {
   "cell_type": "markdown",
   "metadata": {},
   "source": [
    "## Solución AC06 2016-1: Decoradores"
   ]
  },
  {
   "cell_type": "markdown",
   "metadata": {},
   "source": [
    "> ### Instrucciones\n",
    "\n",
    ">A pesar de su experiencia trabajando en MercadoPreso para Bucchi Incorporated, usted sigue como\n",
    "empleado de dicha empresa. Como habrá notado, el ambiente es medio rígido. En esta ocasión, debe coordinar\n",
    "el trabajo de dos colegas. El primero le entregó las clases y funciones que van a usar en el proyecto. El segundo\n",
    "se encargó de hacer la ejecución. Como usted se maneja a la perfección con las buenas prácticas de PEP8,\n",
    "nota que el código que le pasaron está bien, pero no es perfecto. Como los programadores que lo hicieron\n",
    "son mañosos, no toleran **ningún cambio a alguna línea que hayan escrito**, por lo que usted deberá **corregir el\n",
    "programa sin modificar las clases o las funciones**."
   ]
  },
  {
   "cell_type": "markdown",
   "metadata": {},
   "source": [
    "> ### Requerimientos\n",
    "\n",
    ">En el enunciado se nos piden programar y aplicar decoradores que: \n",
    "\n",
    "> > 1) Verifique si los métodos dados, de la clase Producto, existen y, en caso de que estén en CamelCase transformelos a snake_case de forma que cumplan con PEP8.\n",
    "\n",
    "> > 2) Convierta métodos específicos de la clase Producto en métodos privados.\n",
    "    \n",
    "> > 3) Corrija el IVA en el precio final del producto, para que se aplique un 19 %, en vez del que especificó el otro programador.\n",
    "\n",
    "> > 4) Evite que al incrementar el precio del producto se entregue un valor que no sea del tipo int.\n",
    "    "
   ]
  },
  {
   "cell_type": "markdown",
   "metadata": {},
   "source": [
    "> ### To do\n",
    "\n",
    ">Los requisitos específicos se listan a continuación: \n",
    "\n",
    "> > * R1: Crear el decorador `snake_case` que reciba una cantidad no determinada de métodos, verifique si estos existen y, si estos existen, detecte si están en CamelCase y transfórmelos a snake case.\n",
    "        \n",
    "> > * R2: Crear el decorador `protect_methods` que reciba una cantidad no determinada de métodos y que haga privados los métodos de la clase que debiesen serlo.\n",
    "\n",
    "> > * R3: Crear el decorador `correct_price` que reciba el porcentaje de IVA dado en el programa y el porcentaje correcto a utilizar y que corrija el cálculo del precio de un producto.\n",
    "\n",
    "> > * R4: Crear el decorador `check_input_is` que reciba una cantidad no determinada de tipos y que verifique que los tipos de los argumentos que recibe un método sean del tipo esperado.\n",
    "\n",
    "> > * R5: Decorar la clase y los métodos con los decoradores y argumentos que correspondan.\n",
    "    "
   ]
  },
  {
   "cell_type": "markdown",
   "metadata": {},
   "source": [
    "> ### Tips\n",
    "\n",
    "> > Para extraer, borrar o escribir algún método de una clase puedes usar las siguientes funciones\n",
    "\n",
    "> > * `getattr(cls, \"nombre metodo\")`\n",
    "\n",
    "> > * `delattr(cls, \"nombre metodo\")`\n",
    "\n",
    "> > * `setattr(cls, \"nombre metodo\", metodo)`"
   ]
  },
  {
   "cell_type": "markdown",
   "metadata": {},
   "source": [
    "En primer lugar, debido a que se nos entrega un código que no podemos modificar, usaremos decoradores para alterar el comportamiento de métodos o clases específicos. El primer objetivo será familiarizarnos con el código original que se nos entregó para poder identificar dos aspectos claves:\n",
    "\n",
    "* Los métodos o clases que se deben decorar para modificar su comportamiento.\n",
    "* El tipo de decorador que debemos crear para poder cumplir los requerimientos. Con respecto a sus argumentos, el decorador puede recibir o no recibir parámetros y con respecto a quién decora, puede decorar una clase o un método.\n",
    "\n",
    "A continuación se presenta el código base entregado."
   ]
  },
  {
   "cell_type": "code",
   "execution_count": 1,
   "metadata": {},
   "outputs": [
    {
     "name": "stdout",
     "output_type": "stream",
     "text": [
      "IncreasePrice: 'hola'(str)\n"
     ]
    },
    {
     "ename": "AttributeError",
     "evalue": "'Product' object has no attribute 'increase_price'",
     "output_type": "error",
     "traceback": [
      "\u001b[0;31m---------------------------------------------------------------------------\u001b[0m",
      "\u001b[0;31mAttributeError\u001b[0m                            Traceback (most recent call last)",
      "\u001b[0;32m<ipython-input-1-8b78d27440b5>\u001b[0m in \u001b[0;36m<module>\u001b[0;34m()\u001b[0m\n\u001b[1;32m     27\u001b[0m     \u001b[0mej\u001b[0m \u001b[0;34m=\u001b[0m \u001b[0mProduct\u001b[0m\u001b[0;34m(\u001b[0m\u001b[0;34m\"Auto\"\u001b[0m\u001b[0;34m,\u001b[0m \u001b[0;36m1000000\u001b[0m\u001b[0;34m,\u001b[0m \u001b[0;36m100\u001b[0m\u001b[0;34m)\u001b[0m\u001b[0;34m\u001b[0m\u001b[0m\n\u001b[1;32m     28\u001b[0m     \u001b[0mprint\u001b[0m\u001b[0;34m(\u001b[0m\u001b[0;34m\"IncreasePrice: 'hola'(str)\"\u001b[0m\u001b[0;34m)\u001b[0m\u001b[0;34m\u001b[0m\u001b[0m\n\u001b[0;32m---> 29\u001b[0;31m     \u001b[0mej\u001b[0m\u001b[0;34m.\u001b[0m\u001b[0mincrease_price\u001b[0m\u001b[0;34m(\u001b[0m\u001b[0;34m'hola'\u001b[0m\u001b[0;34m)\u001b[0m\u001b[0;34m\u001b[0m\u001b[0m\n\u001b[0m\u001b[1;32m     30\u001b[0m     \u001b[0mprint\u001b[0m\u001b[0;34m(\u001b[0m\u001b[0;34m\"Precio: {}\"\u001b[0m\u001b[0;34m.\u001b[0m\u001b[0mformat\u001b[0m\u001b[0;34m(\u001b[0m\u001b[0mej\u001b[0m\u001b[0;34m.\u001b[0m\u001b[0mfinal_price\u001b[0m\u001b[0;34m)\u001b[0m\u001b[0;34m)\u001b[0m\u001b[0;34m\u001b[0m\u001b[0m\n\u001b[1;32m     31\u001b[0m     \u001b[0mprint\u001b[0m\u001b[0;34m(\u001b[0m\u001b[0;34m)\u001b[0m\u001b[0;34m\u001b[0m\u001b[0m\n",
      "\u001b[0;31mAttributeError\u001b[0m: 'Product' object has no attribute 'increase_price'"
     ]
    }
   ],
   "source": [
    "class Product:\n",
    "\n",
    "    def __init__(self, name, price, stock):\n",
    "        self.name = name\n",
    "        self._price = price\n",
    "        self._stock = stock\n",
    "\n",
    "    def IncreasePrice(self, amount):\n",
    "        self._price += amount\n",
    "\n",
    "        \n",
    "    def sell(self, amount=1):\n",
    "        self._stock -= amount\n",
    "        print(\"Se vendieron {0} productos en ${1}\"\n",
    "              .format(amount, amount * self.final_price))\n",
    "    \n",
    "    def ChangePrice(self, new_price):\n",
    "        print(\"Has accedido a un metodo que debiese ser privado\")\n",
    "        self._price = new_price\n",
    "\n",
    "    @property\n",
    "    def FinalPrice(self):\n",
    "        return self._price * 1.08\n",
    "\n",
    "\n",
    "if __name__ == \"__main__\":\n",
    "    ej = Product(\"Auto\", 1000000, 100)\n",
    "    print(\"IncreasePrice: 'hola'(str)\")\n",
    "    ej.increase_price('hola')\n",
    "    print(\"Precio: {}\".format(ej.final_price))\n",
    "    print()\n",
    "\n",
    "    print(\"IncreasePrice: 100(int)\")\n",
    "    ej.increase_price(100)\n",
    "    print(\"Precio: {}\".format(ej.final_price))"
   ]
  },
  {
   "cell_type": "markdown",
   "metadata": {},
   "source": [
    "### Requisito 1: verificación de PEP8\n",
    "\n",
    "El decorador debe recibir un número _indeterminado_ de métodos de la clase `Producto`. Esto nos advierte que no podemos asumir el número de métodos a verificar y por lo tanto tendremos que recurrir al empleo de argumentos posicionales `*args`. Debido a que el decorador requiere acceso a todos los métodos de la clase para poder verificar si sus argumentos son métodos que deben modificarse, entonces este `snake_case` debe decorar la clase `Producto`. Con esto, la estructura básica del decorador `snake_case` será:"
   ]
  },
  {
   "cell_type": "code",
   "execution_count": 3,
   "metadata": {
    "collapsed": true
   },
   "outputs": [],
   "source": [
    "def snake_case(*args): # este es el constructor del decorador, que recibe los nombres de los métodos a verificar\n",
    "    def decorador(cls): # este es el decorador propiamente tal, que recibe la clase a modificar\n",
    "        # aquí se modifica la clase\n",
    "        pass\n",
    "        return cls\n",
    "    return decorador"
   ]
  },
  {
   "cell_type": "markdown",
   "metadata": {},
   "source": [
    "Antes de construir el decorador, cabe notar que el nombre `args` no es fijo y en el contexto de argumentos posicionales se puede usar cualquier otro nombre con un arterisco antepuesto. Para enfatizar esto, en este decorador usaremos `*metodos` para denotar los n argumentos que se le entregarán como argumento.\n",
    "\n",
    "Ahora bien, para conseguir el objetivo del decorador `snake_case`, primero debemos verificar si los argumentos entregados son métodos de la clase. Para esto se utiliza la función `hasattr(cls, method)` que retorna `True` si la clase `cls` tiene el método de nombre `method` y `False` en caso contrario. Luego, si el método pertenece a la clase y además contiene mayúsculas, entonces se debe llevar a snake case, quitando las mayúsculas y agregando un _underscore_ delante de las mayúsculas no iniciales. Con lo anterior, el decorador resultante es:"
   ]
  },
  {
   "cell_type": "code",
   "execution_count": 4,
   "metadata": {
    "collapsed": true
   },
   "outputs": [],
   "source": [
    "def snake_case(*metodos):\n",
    "    def decorador(cls):\n",
    "        for metodo in metodos:\n",
    "            if hasattr(cls, metodo) and metodo.lower() != metodo:\n",
    "                funcionalidad = getattr(cls, metodo) # rescatamos el método (funcionalidad) asociado al nombre entregado\n",
    "                nuevo_nombre = metodo[0].lower()\n",
    "                for letra in metodo[1:]:\n",
    "                    if letra.isupper():\n",
    "                        nuevo_nombre += \"_\"+letra.lower()\n",
    "                    else:\n",
    "                        nuevo_nombre += letra\n",
    "                delattr(cls, metodo) # borramos el método con el nombre original\n",
    "                setattr(cls, nuevo_nombre, funcionalidad) # asociamos la funcionalidad original al nuevo nombre\n",
    "        return cls\n",
    "    return decorador"
   ]
  },
  {
   "cell_type": "markdown",
   "metadata": {},
   "source": [
    "Es importante notar que cualquier **constructor de decoradores** debe retornar el decorador, mientras que cualquier **decorador** debe retornar el objeto modificado. De lo contrario no se estarán aplicando las modificaciones pertinentes."
   ]
  },
  {
   "cell_type": "markdown",
   "metadata": {},
   "source": [
    "### Requisito 2: métodos internos\n",
    "\n",
    "El decorador debe recibir un número arbitrario de nombres de métodos y debe anteponer un doble _underscore_ a cada uno. A diferencia del requisito anterior, aquí no se exige verificar que el método pertenezca a la clase (se asume que no se entregarán métodos inexistentes). Debido a que también necesita acceso a la clase para poder asociar nuevos nombres con funcionalidades preexistentes, es necesario que este decorador decore la clase. Con todo esto, una posible implementación es:"
   ]
  },
  {
   "cell_type": "code",
   "execution_count": 5,
   "metadata": {
    "collapsed": true
   },
   "outputs": [],
   "source": [
    "def protect_methods(*metodos): # constructor que recibe nombres de métodos\n",
    "    def decorador(cls): # decorador de una clase\n",
    "        for metodo in metodos:\n",
    "            funcionalidad = getattr(cls, metodo)\n",
    "            nuevo_nombre = \"__{}\".format(metodo)\n",
    "            setattr(cls, nuevo_nombre, funcionalidad) # asignamos nombre\n",
    "            delattr(cls, metodo) # borramos el anterior\n",
    "        return cls\n",
    "    return decorador"
   ]
  },
  {
   "cell_type": "markdown",
   "metadata": {},
   "source": [
    "### Requisito 3: corrección de precios\n",
    "\n",
    "El decorador debe recibir dos números que indican el porcentaje de IVA antes y después de la modificación. Se requiere que este cambio se efectúa a nivel del cálculo del precio de un producto, de forma que se debe decorar la _property_ `FinalPrice` (o `final_price` luego de llevarla a snake case con el primer decorador). Como debemos recibir parámetros y se decora un método, entonces la estructura general de `correct_price` es:"
   ]
  },
  {
   "cell_type": "code",
   "execution_count": 6,
   "metadata": {
    "collapsed": true,
    "scrolled": false
   },
   "outputs": [],
   "source": [
    "def correct_price(iva_actual, iva_nuevo): # constructor del decorador, recibe los IVA\n",
    "    def decorador(metodo): # decorador que recibe el método a modificar\n",
    "        def nuevo_metodo(*args, **kwargs): # nuevo método que reemplazará al antiguo\n",
    "            # aquí se modifica el comportamiento\n",
    "            pass\n",
    "        return metodo\n",
    "    return decorador"
   ]
  },
  {
   "cell_type": "markdown",
   "metadata": {},
   "source": [
    "¿Cómo entendemos los argumentos de la función `nuevo_método`? Tanto `*args` como `**kwargs` denotan los argumentos necesarios para llamar a `metodo`. Es importante notar que `nuevo_metodo` debe tener **como mínimo** estos argumentos.\n",
    "\n",
    "Para recalcular el precio, notemos que el precio original (sin IVA) es el retorno de `metodo` dividido por el IVA antiguo. Luego, el precio modificado será el precio original calculado multiplicado por el IVA nuevo. Con esto, el decorador nos queda según:"
   ]
  },
  {
   "cell_type": "code",
   "execution_count": 7,
   "metadata": {
    "collapsed": true
   },
   "outputs": [],
   "source": [
    "def correct_price(iva_actual, iva_nuevo): \n",
    "    def decorador(metodo): \n",
    "        def nuevo_metodo(*args, **kwargs): \n",
    "            precio_original = metodo(*args, **kwargs) / iva_actual\n",
    "            precio_nuevo = precio_original * iva_nuevo\n",
    "            return precio_nuevo\n",
    "        return nuevo_metodo\n",
    "    return decorador"
   ]
  },
  {
   "cell_type": "markdown",
   "metadata": {},
   "source": [
    "### Requisito 4: tipos de argumentos\n",
    "\n",
    "El decorador debe recibir un número indeterminado de tipos de dato que deberán ser contrastados con los argumentos de un método. Como esta comparación depende del método en específico, se realizará con un decorador de métodos y no de clases. Con esto, la estructura será:"
   ]
  },
  {
   "cell_type": "code",
   "execution_count": 8,
   "metadata": {
    "collapsed": true
   },
   "outputs": [],
   "source": [
    "def check_input_is(*tipos): # constructor con tipos de datos\n",
    "    def decorador(metodo): # decorador que recibe el método\n",
    "        def interno(*args): # manejo de la verificación\n",
    "            # modificacion \n",
    "            pass\n",
    "        return interno\n",
    "    return decorador"
   ]
  },
  {
   "cell_type": "markdown",
   "metadata": {},
   "source": [
    "Para realizar la verificación, se deben tomar los argumentos de `metodo`, omitir el primero de ellos (pues corresponde a una referencia al objeto mismo o `self`) y comparar uno a uno con el tipo de dato entregado como argumento al constructor. Cabe notar que en este caso la función `interno` solo recibe argumentos posicionales porque se realizará esta comparación de tipos uno a uno con los tipos entregados. De esta forma, el resultado es: "
   ]
  },
  {
   "cell_type": "code",
   "execution_count": 9,
   "metadata": {
    "collapsed": true
   },
   "outputs": [],
   "source": [
    "def check_input_is(*tipos): \n",
    "    def decorador(metodo):\n",
    "        def interno(*args):\n",
    "            tipos_recibidos = tuple(type(a) for a in args)[1:] # omitimos el primero\n",
    "            if tipos_recibidos == tipos:\n",
    "                return metodo(*args)\n",
    "            print(\"Argumentos no son del tipo esperado!!!\")\n",
    "        return interno\n",
    "    return decorador"
   ]
  },
  {
   "cell_type": "markdown",
   "metadata": {},
   "source": [
    "Antes de concluir, notemos como los dos últimos decoradores comparten que ambos decoran métodos, pero difieren levemente en la modificación que realizan. En `correct_price` se retorna siempre un número que reemplazará al retorno original del método decorado, mientras que en `check_input_is` solo se retorna cuando se cumple el criterio de tipos, en cuyo caso se retorna el valor original del método decorado.\n",
    "\n",
    "### Requisito 5: aplicando los decoradores\n",
    "\n",
    "Para finalizar, solo basta incorporar los decoradores de forma adecuada al código entregado. Usando el azúcar sintáctico del material, el decorador se coloca justo arriba de la clase o método a decorar, incluyendo los argumentos necesarios. En caso que haya más de un decorador en un mismo objeto, se aplican partiendo desde el más cercano al mismo; así, el que queda primero en términos de líneas de código se aplica sobre el resultado de aplicar los demás decoradores. El código final, con la declaración de los decoradores y el código base modificado se muestra a continuación."
   ]
  },
  {
   "cell_type": "code",
   "execution_count": 2,
   "metadata": {},
   "outputs": [
    {
     "name": "stdout",
     "output_type": "stream",
     "text": [
      "IncreasePrice: 'hola'(str)\n",
      "Argumentos no son del tipo esperado!!!\n",
      "Precio: 1189999.9999999998\n",
      "\n",
      "IncreasePrice: 100(int)\n",
      "Precio: 1190118.9999999998\n"
     ]
    }
   ],
   "source": [
    "# -------------------------------------------------------------------------------------------------------------------- #\n",
    "\n",
    "#                                                   DECORADORES                                                        #\n",
    "\n",
    "# -------------------------------------------------------------------------------------------------------------------- #\n",
    "\n",
    "def snake_case(*metodos):\n",
    "    def decorador(cls):\n",
    "        for metodo in metodos:\n",
    "            if hasattr(cls, metodo) and metodo.lower() != metodo:\n",
    "                funcionalidad = getattr(cls, metodo) # rescatamos el método (funcionalidad) asociado al nombre entregado\n",
    "                nuevo_nombre = metodo[0].lower()\n",
    "                for letra in metodo[1:]:\n",
    "                    if letra.isupper():\n",
    "                        nuevo_nombre += \"_\"+letra.lower()\n",
    "                    else:\n",
    "                        nuevo_nombre += letra\n",
    "                delattr(cls, metodo) # borramos el método con el nombre original\n",
    "                setattr(cls, nuevo_nombre, funcionalidad) # asociamos la funcionalidad original al nuevo nombre\n",
    "        return cls\n",
    "    return decorador\n",
    "\n",
    "\n",
    "def protect_methods(*metodos): # constructor que recibe nombres de métodos\n",
    "    def decorador(cls): # decorador de una clase\n",
    "        for metodo in metodos:\n",
    "            funcionalidad = getattr(cls, metodo)\n",
    "            nuevo_nombre = \"__{}\".format(metodo)\n",
    "            setattr(cls, nuevo_nombre, funcionalidad) # asignamos nombre\n",
    "            delattr(cls, metodo) # borramos el anterior\n",
    "        return cls\n",
    "    return decorador\n",
    "\n",
    "\n",
    "def correct_price(iva_actual, iva_nuevo): \n",
    "    def decorador(metodo): \n",
    "        def nuevo_metodo(*args, **kwargs): \n",
    "            precio_original = metodo(*args, **kwargs) / iva_actual\n",
    "            precio_nuevo = precio_original * iva_nuevo\n",
    "            return precio_nuevo\n",
    "        return nuevo_metodo\n",
    "    return decorador\n",
    "\n",
    "\n",
    "def check_input_is(*tipos): \n",
    "    def decorador(metodo):\n",
    "        def interno(*args):\n",
    "            tipos_recibidos = tuple(type(a) for a in args)[1:] # omitimos el primero\n",
    "            if tipos_recibidos == tipos:\n",
    "                return metodo(*args)\n",
    "            print(\"Argumentos no son del tipo esperado!!!\")\n",
    "        return interno\n",
    "    return decorador\n",
    "\n",
    "\n",
    "\n",
    "\n",
    "# -------------------------------------------------------------------------------------------------------------------- #\n",
    "\n",
    "#                                                   CODIGO ORIGINAL                                                    #\n",
    "\n",
    "# -------------------------------------------------------------------------------------------------------------------- #\n",
    "\n",
    "\n",
    "@protect_methods(\"change_price\")\n",
    "@snake_case(\"IncreasePrice\", \"FinalPrice\", \"ChangePrice\")\n",
    "class Product:\n",
    "\n",
    "    def __init__(self, name, price, stock):\n",
    "        self.name = name\n",
    "        self._price = price\n",
    "        self._stock = stock\n",
    "\n",
    "    @check_input_is(int)\n",
    "    def IncreasePrice(self, amount):\n",
    "        self._price += amount\n",
    "\n",
    "    def sell(self, amount=1):\n",
    "        self._stock -= amount\n",
    "        print(\"Se vendieron {0} productos en ${1}\"\n",
    "              .format(amount, amount * self.final_price))\n",
    "\n",
    "    def ChangePrice(self, new_price):\n",
    "        print(\"Has accedido a un metodo que debiese ser privado\")\n",
    "        self._price = new_price\n",
    "\n",
    "\n",
    "    @property\n",
    "    @correct_price(1.08, 1.19)\n",
    "    def FinalPrice(self):\n",
    "        return self._price * 1.08\n",
    "\n",
    "\n",
    "if __name__ == \"__main__\":\n",
    "    ej = Product(\"Auto\", 1000000, 100)\n",
    "    print(\"IncreasePrice: 'hola'(str)\")\n",
    "    ej.increase_price('hola')\n",
    "    print(\"Precio: {}\".format(ej.final_price))\n",
    "    print()\n",
    "\n",
    "    print(\"IncreasePrice: 100(int)\")\n",
    "    ej.increase_price(100)\n",
    "    print(\"Precio: {}\".format(ej.final_price))\n"
   ]
  }
 ],
 "metadata": {
  "kernelspec": {
   "display_name": "Python 3",
   "language": "python",
   "name": "python3"
  },
  "language_info": {
   "codemirror_mode": {
    "name": "ipython",
    "version": 3
   },
   "file_extension": ".py",
   "mimetype": "text/x-python",
   "name": "python",
   "nbconvert_exporter": "python",
   "pygments_lexer": "ipython3",
   "version": "3.6.2"
  }
 },
 "nbformat": 4,
 "nbformat_minor": 2
}
