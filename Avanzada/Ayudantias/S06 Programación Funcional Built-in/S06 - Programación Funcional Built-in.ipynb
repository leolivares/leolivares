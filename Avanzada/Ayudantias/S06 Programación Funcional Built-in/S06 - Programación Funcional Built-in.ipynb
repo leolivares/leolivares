{
 "cells": [
  {
   "cell_type": "markdown",
   "metadata": {},
   "source": [
    "# Programación funcional\n",
    "\n",
    "**Santiago Torres y Andrés Fernández**\n",
    "\n",
    "## ¿Por qué?\n",
    "\n",
    "- Existen lenguajes de programación que utilizan este paradigma.\n",
    "- Procesamiento de información optimizada.\n",
    "\n",
    "## Actividad 6 2017-1\n",
    "\n",
    "Pueden encontrar el enunciado completo de esta actividad [aquí](https://github.com/IIC2233/Syllabus-2017-1/blob/master/Actividades/AC06/Enunciado.pdf).\n",
    "\n"
   ]
  },
  {
   "cell_type": "markdown",
   "metadata": {},
   "source": [
    "> - **`movies.txt`**: Archivo de texto que contiene la información de las películas que puedes ver, de la forma: IDPelícula, Nombre Pelicula, Rating, Fecha de estreno, género_1, género_2, ..., género_n (es una cantidad variable de géneros).\n",
    "> - **`cast.txt`**: Archivo de texto que alberga la información de los artistas que trabajaron en las películas. Está distribuido de la forma: Nombre Película, Nombre Artista, Nombre Personaje."
   ]
  },
  {
   "cell_type": "code",
   "execution_count": 1,
   "metadata": {
    "collapsed": true
   },
   "outputs": [],
   "source": [
    "from collections import namedtuple\n",
    "\n",
    "Cast = namedtuple(\"Cast\", [\"movie\", \"name\", \"character\"])"
   ]
  },
  {
   "cell_type": "markdown",
   "metadata": {},
   "source": [
    "> - Cada película debe tener su propio `id` el cual debe estar implementado con **generadores**. El `id` es distinto al que trae la base de datos, para que puedas distinguirla con tu programa."
   ]
  },
  {
   "cell_type": "code",
   "execution_count": 2,
   "metadata": {
    "collapsed": true
   },
   "outputs": [],
   "source": [
    "def get_id():\n",
    "    i = 0\n",
    "    while True:\n",
    "        yield i\n",
    "        i += 1"
   ]
  },
  {
   "cell_type": "code",
   "execution_count": 3,
   "metadata": {
    "collapsed": true
   },
   "outputs": [],
   "source": [
    "class Movie:\n",
    "    \n",
    "    id_ = get_id()\n",
    "    \n",
    "    def __init__(self, title, rating, release, *genres):\n",
    "        self.id = next(Movie.id_)\n",
    "        self.title = title\n",
    "        self.rating = float(rating)\n",
    "        self.release = release\n",
    "        self.genres = list(genres)"
   ]
  },
  {
   "cell_type": "code",
   "execution_count": 4,
   "metadata": {
    "collapsed": true
   },
   "outputs": [],
   "source": [
    "parser = lambda line: line.rstrip('\\n').split(',')\n",
    "\n",
    "MOVIES = list()\n",
    "with open(\"movies.txt\") as file:\n",
    "    MOVIES = [Movie(*(parser(line)[1:])) for line in file]\n",
    "    \n",
    "CASTS = list()\n",
    "with open(\"cast.txt\") as file:\n",
    "    CASTS = [Cast(*parser(line)) for line in file]"
   ]
  },
  {
   "cell_type": "markdown",
   "metadata": {},
   "source": [
    "> - Crear el método `popular` que dado un número, retorne todas las películas que tienen un rating superior a dicho valor."
   ]
  },
  {
   "cell_type": "code",
   "execution_count": 5,
   "metadata": {
    "collapsed": true
   },
   "outputs": [],
   "source": [
    "def popular(movies, n):\n",
    "        \"\"\" Retorna una lista de peliculas con rating sobre n\"\"\"\n",
    "        return filter(lambda x: x.rating >= n, movies)"
   ]
  },
  {
   "cell_type": "code",
   "execution_count": 6,
   "metadata": {},
   "outputs": [
    {
     "name": "stdout",
     "output_type": "stream",
     "text": [
      "Fantastic Beasts and Where to Find Them\n",
      "Doctor Strange\n",
      "Kong: Skull Island\n",
      "Arrival\n",
      "Guardians of the Galaxy\n",
      "Rings\n",
      "Split\n",
      "John Wick\n",
      "Mad Max: Fury Road\n",
      "Jurassic World\n",
      "Logan\n",
      "Fifty Shades Darker\n",
      "Beauty and the Beast\n",
      "Captain America: Civil War\n",
      "Interstellar\n",
      "Assassin's Creed\n"
     ]
    }
   ],
   "source": [
    "for top in popular(MOVIES, 20):\n",
    "    print(top.title)"
   ]
  },
  {
   "cell_type": "markdown",
   "metadata": {},
   "source": [
    "> - Crear el método `with_genres` que dado un número `n`, retorne todas las películas que tienen `n` o más géneros."
   ]
  },
  {
   "cell_type": "code",
   "execution_count": 7,
   "metadata": {
    "collapsed": true
   },
   "outputs": [],
   "source": [
    "def with_genres(movies, n):\n",
    "        \"\"\"Retorna una lista de peliculas con mas de n generos \"\"\"\n",
    "        return filter(lambda x: len(x.genres) >= n, movies)"
   ]
  },
  {
   "cell_type": "markdown",
   "metadata": {},
   "source": [
    "> - Crear el método `tops_of_genre` que dado un género, retorne las 10 mejores películas ordenadas."
   ]
  },
  {
   "cell_type": "code",
   "execution_count": 8,
   "metadata": {
    "collapsed": true
   },
   "outputs": [],
   "source": [
    "def tops_of_genre(movies, genre):\n",
    "        \"\"\" Retorna las 10 mejores peliculas de un género\"\"\"\n",
    "        one_genre = sorted(filter(lambda x: genre in x.genres,\n",
    "                                  movies),\n",
    "                           key=lambda x: x.rating)\n",
    "        return one_genre[:10] if len(one_genre) > 10 else one_genre"
   ]
  },
  {
   "cell_type": "code",
   "execution_count": 9,
   "metadata": {},
   "outputs": [
    {
     "name": "stdout",
     "output_type": "stream",
     "text": [
      "1 Run All Night\n",
      "2 World War Z\n",
      "3 The Godfather\n",
      "4 Dogtooth\n",
      "5 Ex Machina\n",
      "6 Fifty Shades of Grey\n",
      "7 Schindler's List\n",
      "8 The Summer I Turned 15\n",
      "9 Cinderella\n",
      "10 Sully\n"
     ]
    }
   ],
   "source": [
    "for i, top in enumerate(tops_of_genre(MOVIES, \"Drama\")):\n",
    "    print(i + 1, top.title)"
   ]
  },
  {
   "cell_type": "markdown",
   "metadata": {},
   "source": [
    "> - Crear el método `actor_rating` que dado el nombre de un actor, retorna el promedio del rating de las películas en las que ha participado."
   ]
  },
  {
   "cell_type": "code",
   "execution_count": 10,
   "metadata": {
    "collapsed": true
   },
   "outputs": [],
   "source": [
    "from functools import reduce"
   ]
  },
  {
   "cell_type": "code",
   "execution_count": 11,
   "metadata": {
    "collapsed": true
   },
   "outputs": [],
   "source": [
    "def actor_rating(movies, casts, actor):\n",
    "        \"\"\"Dado el nombre de un actor, retorna el promedio del rating de las\n",
    "            peliculas en las que ha participado \"\"\"\n",
    "        actors_movies = [c.movie for c in filter(\n",
    "            lambda cast: cast.name == actor, casts)]\n",
    "        if len(actors_movies) > 0:\n",
    "            return reduce(\n",
    "                lambda x, y: x + y,\n",
    "                map(\n",
    "                    lambda m: m.rating,\n",
    "                    filter(\n",
    "                        lambda movie: movie.title in actors_movies,\n",
    "                        movies))) / len(actors_movies)\n",
    "        else:\n",
    "            return 0"
   ]
  },
  {
   "cell_type": "code",
   "execution_count": 12,
   "metadata": {},
   "outputs": [
    {
     "name": "stdout",
     "output_type": "stream",
     "text": [
      "Hugh Jackman's rating: 58.03259566666666\n"
     ]
    }
   ],
   "source": [
    "print(\"Hugh Jackman's rating: {}\".format(actor_rating(MOVIES, CASTS, \"Hugh Jackman\")))"
   ]
  },
  {
   "cell_type": "markdown",
   "metadata": {},
   "source": [
    "> - Crear el método `compare_actors` que dado el nombre de dos actores, imprima cual de los dos esta mejor valorado según su promedio."
   ]
  },
  {
   "cell_type": "code",
   "execution_count": 13,
   "metadata": {
    "collapsed": true
   },
   "outputs": [],
   "source": [
    "def compare_actors(movies, casts, actor1, actor2):\n",
    "        \"\"\"Compara el rating de dos actores e imprime quién supera a quién\"\"\"\n",
    "        if actor_rating(movies, casts, actor1) > actor_rating(movies, casts, actor2):\n",
    "            print('{} supera a {}'.format(actor1, actor2))\n",
    "        else:\n",
    "            print('{} supera a {}'.format(actor2, actor1))"
   ]
  },
  {
   "cell_type": "markdown",
   "metadata": {
    "collapsed": true
   },
   "source": [
    "> - Crear el método `movies_of` que dado el nombre de un actor. retorne una lista con tuplas que contenga los pares (pelicula, personaje) en los que actuo."
   ]
  },
  {
   "cell_type": "code",
   "execution_count": 14,
   "metadata": {
    "collapsed": true
   },
   "outputs": [],
   "source": [
    "def movies_of(casts, actor):\n",
    "        \"\"\" Retorna una lista de tuplas pelicula, personaje en las que ha\n",
    "        participado un actor en especifico \"\"\"\n",
    "        return [(c.movie, c.character) for c in casts if c.name == actor]"
   ]
  },
  {
   "cell_type": "code",
   "execution_count": 15,
   "metadata": {},
   "outputs": [
    {
     "name": "stdout",
     "output_type": "stream",
     "text": [
      "Chappie\n",
      "X-Men: Days of Future Past\n",
      "Logan\n"
     ]
    }
   ],
   "source": [
    "for movie, character in movies_of(CASTS, \"Hugh Jackman\"):\n",
    "    print(movie)"
   ]
  },
  {
   "cell_type": "markdown",
   "metadata": {},
   "source": [
    "> - Crear el método `from_year` que dado un año, retorne todas las peliculas que se estrenaron en ese año."
   ]
  },
  {
   "cell_type": "code",
   "execution_count": 16,
   "metadata": {
    "collapsed": true
   },
   "outputs": [],
   "source": [
    "def from_year(movies, year):\n",
    "        return filter(lambda m: m.release.split('-')[0] == str(year), movies)"
   ]
  },
  {
   "cell_type": "code",
   "execution_count": 17,
   "metadata": {},
   "outputs": [
    {
     "name": "stdout",
     "output_type": "stream",
     "text": [
      "John Wick: Chapter 2\n",
      "Kong: Skull Island\n",
      "Pirates of the Caribbean: Dead Men Tell No Tales\n",
      "Rings\n",
      "Split\n",
      "Get Out\n",
      "xXx: Return of Xander Cage\n",
      "Life\n",
      "Logan\n",
      "Fifty Shades Darker\n",
      "The Boss Baby\n",
      "Dead Over Heels: An Aurora Teagarden Mystery\n",
      "Beauty and the Beast\n",
      "Ghost in the Shell\n"
     ]
    }
   ],
   "source": [
    "for movie in from_year(MOVIES, 2017):\n",
    "    print(movie.title)"
   ]
  },
  {
   "cell_type": "markdown",
   "metadata": {},
   "source": [
    "## Generador con `send`"
   ]
  },
  {
   "cell_type": "code",
   "execution_count": 18,
   "metadata": {
    "collapsed": true
   },
   "outputs": [],
   "source": [
    "def promedio_movil():\n",
    "    total_acumulado = yield\n",
    "    cantidad_numeros = 1\n",
    "    while True:\n",
    "        nuevo = yield total_acumulado / cantidad_numeros\n",
    "        cantidad_numeros += 1\n",
    "        total_acumulado += nuevo"
   ]
  },
  {
   "cell_type": "code",
   "execution_count": 19,
   "metadata": {
    "collapsed": true
   },
   "outputs": [],
   "source": [
    "generador = promedio_movil()\n",
    "next(generador) # ¿Por qué?"
   ]
  },
  {
   "cell_type": "code",
   "execution_count": 20,
   "metadata": {},
   "outputs": [
    {
     "name": "stdout",
     "output_type": "stream",
     "text": [
      "0.0\n",
      "0.5\n",
      "1.0\n",
      "1.5\n",
      "2.0\n",
      "2.5\n",
      "3.0\n",
      "3.5\n",
      "4.0\n",
      "4.5\n"
     ]
    }
   ],
   "source": [
    "for i in range(10):\n",
    "    print(generador.send(i))"
   ]
  },
  {
   "cell_type": "markdown",
   "metadata": {},
   "source": [
    "## Otras funciones\n",
    "\n",
    "- enumerate\n",
    "- filter\n",
    "- iter\n",
    "- len\n",
    "- map\n",
    "- max\n",
    "- min\n",
    "- next\n",
    "- reduce\n",
    "- repr\n",
    "- reversed\n",
    "- sorted\n",
    "- str\n",
    "- sum\n",
    "- zip"
   ]
  }
 ],
 "metadata": {
  "kernelspec": {
   "display_name": "Python 3",
   "language": "python",
   "name": "python3"
  },
  "language_info": {
   "codemirror_mode": {
    "name": "ipython",
    "version": 3
   },
   "file_extension": ".py",
   "mimetype": "text/x-python",
   "name": "python",
   "nbconvert_exporter": "python",
   "pygments_lexer": "ipython3",
   "version": "3.6.2"
  }
 },
 "nbformat": 4,
 "nbformat_minor": 2
}
