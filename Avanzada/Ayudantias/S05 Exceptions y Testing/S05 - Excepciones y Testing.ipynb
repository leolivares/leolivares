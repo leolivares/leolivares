{
 "cells": [
  {
   "cell_type": "markdown",
   "metadata": {},
   "source": [
    "# Ayudantía 5\n",
    "\n",
    "## Excepciones y Testing\n",
    "\n",
    "**Raúl Álvarez y Octavio Vera**"
   ]
  },
  {
   "cell_type": "markdown",
   "metadata": {},
   "source": [
    "El siguiente código está **muy** mal por al menos dos razones. **¿Por qué?**"
   ]
  },
  {
   "cell_type": "code",
   "execution_count": 1,
   "metadata": {
    "collapsed": true
   },
   "outputs": [],
   "source": [
    "try:\n",
    "    # Do something\n",
    "    raise TypeError\n",
    "except:\n",
    "    # Do something else\n",
    "    pass"
   ]
  },
  {
   "cell_type": "markdown",
   "metadata": {},
   "source": [
    "### Motivos\n",
    "\n",
    "- Motivo 1:\n",
    "\n",
    "Muchas veces utilizamos erróneamente las excepciones, y en vez de efectivamente manejar \n",
    "las situaciones adecuadamente, generamos un código \"parche\" que permite a nuestro programa \n",
    "funcionar de forma equivocada (no deseada) e igualmente funcionar. Esto permite como última\n",
    "medida funcionar a tu código, pero sin cumplir la tarea que en verdad se desea realizar.\n",
    "\n",
    "- Motivo 2:\n",
    "\n",
    "Elevar un error al manejar otro es contraproducente. No sólo implica que se debe volver a manejar\n",
    "el error que se crea a partir de ese punto, sino que genera ambiguedad con respecto al tipo\n",
    "de error que realmente es. \n",
    "\n",
    "- Motivo 3:\n",
    "\n",
    "Realizamos una acción, previo a levantar otro error, más allá de lo mencionado en el motivo 2,\n",
    "esto puede complicar entender el estado previo a que se levante ese error, generando así una\n",
    "cadena engorrosa de secuencias de ejecución y manejos de errores.\n"
   ]
  },
  {
   "cell_type": "markdown",
   "metadata": {},
   "source": [
    "#### Entonces...\n",
    "\n",
    "¿Cuándo se utiliza `raise`?\n",
    "\n",
    "¿Cuándo se utiliza `try` / `except`?\n",
    "\n",
    "## `raise`"
   ]
  },
  {
   "cell_type": "code",
   "execution_count": 2,
   "metadata": {
    "collapsed": true
   },
   "outputs": [],
   "source": [
    "class Fraccion:\n",
    "    \"\"\" Implementamos la clase Fraccion que nos permite trabajar sobre fracciones\n",
    "    enteras. Buscamos complementar el modulo \"math\" tal que sea posible representar\n",
    "    las fracciones enteras de forma facil y comoda, para utilizarlo tanto matematicamente\n",
    "    como visualmente una vez creadas las instancias.\n",
    "    \"\"\"\n",
    "\n",
    "    def __init__(self, num, den):\n",
    "        if not (isinstance(num, int) and isinstance(den, int)):\n",
    "            raise TypeError(\"Al menos un argumento no es entero.\")\n",
    "        elif den == 0:\n",
    "            raise ZeroDivisionError(\"El denominador no puede ser 0.\")\n",
    "        self.num = num\n",
    "        self.den = den\n",
    "        self.__simplificar()\n",
    "\n",
    "    def __simplificar(self):\n",
    "        i = 1\n",
    "        while i <= self.num or i <= self.den:\n",
    "            if self.num % i == 0 and self.den % i == 0:\n",
    "                self.num = self.num // i\n",
    "                self.den = self.den // i\n",
    "                i = 1\n",
    "            i += 1\n",
    "\n",
    "    def __eq__(self, other):\n",
    "        \"\"\"Con este método mágico implementamos lo necesario para poder\n",
    "        comparar dos fracciones con el operador ==.\n",
    "        Fraccion(1, 2) == Fraccion(2, 3)\n",
    "        Se revisa además que el argumento other sea efectivamente\n",
    "        una Fraccion.\"\"\"\n",
    "        if isinstance(other, Fraccion):\n",
    "            return self.num == other.num and self.den == other.den\n",
    "        else:\n",
    "            raise TypeError\n",
    "\n",
    "    def __lt__(self, other):\n",
    "        \"\"\"Con este método se implementa el operador booleano <\"\"\"\n",
    "        if isinstance(other, Fraccion):\n",
    "            return self.num * other.den < other.num * self.den\n",
    "        else:\n",
    "            raise TypeError\n",
    "\n",
    "    def __le__(self, other):\n",
    "        \"\"\"Con este método se implementa el operador booleano <=. A partir\n",
    "        de los operadores booleanos implementados hasta ahora, Python\n",
    "        puede deducir !=, >, >=\"\"\"\n",
    "        if isinstance(other, Fraccion):\n",
    "            return self.num * other.den <= other.num * self.den\n",
    "        else:\n",
    "            raise TypeError\n",
    "\n",
    "    def __add__(self, other):\n",
    "        \"\"\"Con este método mágico implementamos lo necesario para poder\n",
    "        sumar dos fracciones con el operador +.\n",
    "        Fraccion(1, 2) + Fraccion(2, 3)\n",
    "        Se revisa además que el argumento other sea efectivamente\n",
    "        una Fraccion.\"\"\"\n",
    "        if isinstance(other, Fraccion):\n",
    "            num = self.num * other.den + self.den * other.num\n",
    "            den = self.den * other.den\n",
    "            return Fraccion(num, den)\n",
    "        else:\n",
    "            raise TypeError\n",
    "\n",
    "    def __neg__(self):\n",
    "        \"\"\"Operador de la negación para poder usar (- Fraccion(1, 2))\"\"\"\n",
    "        return Fraccion(-self.num, self.den)\n",
    "\n",
    "    def __sub__(self, other):\n",
    "        \"\"\"Operador de la resta con el símbolo -\"\"\"\n",
    "        if isinstance(other, Fraccion):\n",
    "            return (Fraccion(self.num, self.den) +\n",
    "                    - Fraccion(other.num, other.den))\n",
    "        else:\n",
    "            raise TypeError\n",
    "\n",
    "    def __mul__(self, other):\n",
    "        \"\"\"Operador de la multiplicación *\"\"\"\n",
    "        if isinstance(other, Fraccion):\n",
    "            num = self.num + other.num\n",
    "            den = self.den * other.den\n",
    "            return Fraccion(num, den)\n",
    "        else:\n",
    "            raise TypeError\n",
    "\n",
    "    def __truediv__(self, other):\n",
    "        \"\"\"Operador de la división /\"\"\"\n",
    "        if isinstance(other, Fraccion):\n",
    "            num = self.num - other.den\n",
    "            den = self.den * other.num\n",
    "            return Fraccion(num, den)\n",
    "        else:\n",
    "            raise TypeError\n",
    "\n",
    "    def __str__(self):\n",
    "        \"\"\"Representación en string, legible para un usuario.\"\"\"\n",
    "        return \"{}/{}\".format(self.num, self.den)\n",
    "\n",
    "    def __repr__(self):\n",
    "        \"\"\"Representación en string, legible para el programador.\"\"\"\n",
    "        return \"Fraccion({}, {})\".format(self.num, self.den)\n"
   ]
  },
  {
   "cell_type": "markdown",
   "metadata": {},
   "source": [
    "Idea: Pedir que se cree/cambie una función con un custom exception.\n",
    "\n",
    "## `try/except`"
   ]
  },
  {
   "cell_type": "code",
   "execution_count": 3,
   "metadata": {},
   "outputs": [
    {
     "name": "stdout",
     "output_type": "stream",
     "text": [
      "Al menos un argumento no es entero.\n",
      "Solucion 1: False\n",
      "Esto se imprime siempre, haya o no resultado el ejercicio 1.\n",
      "El ejercicio 2 presenta un error\n",
      "Esto se imprime siempre, haya o no resultado el ejercicio 2.\n"
     ]
    }
   ],
   "source": [
    "def crear_fraccion(num, den):\n",
    "    try:\n",
    "        # Intentamos ejecutar el código de este bloque.\n",
    "        f = Fraccion(num, den)\n",
    "        return f\n",
    "    except (TypeError, ZeroDivisionError) as err:\n",
    "        # En caso de que se levante una excepción de los tipos en la\n",
    "        # tupla, ésta se guarda en la variable err y puede ser procesada.\n",
    "        print(err)\n",
    "        return None\n",
    "\n",
    "\n",
    "def ejercicios():\n",
    "    # definimos e instanciamos las fracciones #\n",
    "    f1 = crear_fraccion(3, 8)\n",
    "    f2 = crear_fraccion(1, 4)\n",
    "    f3 = crear_fraccion(1, 2)\n",
    "    f4 = crear_fraccion(5, 4)\n",
    "    f5 = crear_fraccion(\"6\", 0)\n",
    "\n",
    "    try:\n",
    "        ejercicio_1 = ((f1 + f2) / f3) == f4\n",
    "    except TypeError:\n",
    "        print(\"El ejercicio 1 presenta un error\")\n",
    "    else:\n",
    "        print(\"Solucion 1: {}\".format(ejercicio_1))\n",
    "    finally:\n",
    "        print(\"Esto se imprime siempre, haya o no resultado el ejercicio 1.\")\n",
    "\n",
    "    try:\n",
    "        ejercicio_2 = (f5 + f3) * f2\n",
    "    except TypeError:\n",
    "        print(\"El ejercicio 2 presenta un error\")\n",
    "    else:\n",
    "        print(\"Solucion 2: {}\".format(ejercicio_2))\n",
    "    finally:\n",
    "        print(\"Esto se imprime siempre, haya o no resultado el ejercicio 2.\")\n",
    "\n",
    "\n",
    "ejercicios()"
   ]
  },
  {
   "cell_type": "markdown",
   "metadata": {},
   "source": [
    "## Testing\n",
    "\n",
    "Aquí testeamos los métodos `__add__`, `__sub__`, `__mul__`, ..., etc., de la clase Fracción de tal forma que podamos evaluar distintas situaciones ocurrentes en la generación de instancias,\n",
    "comparación, y operaciones matemáticas realizadas."
   ]
  },
  {
   "cell_type": "code",
   "execution_count": 4,
   "metadata": {
    "collapsed": true
   },
   "outputs": [],
   "source": [
    "import unittest\n",
    "\n",
    "\n",
    "class FraccionTest(unittest.TestCase):\n",
    "\n",
    "    def setUp(self):\n",
    "        self.tuplas_fraccion = [(3,4),(20,80),(1,27)]\n",
    "        self.tuplas_error = [(4,0),(1.4,2),(\"2\",\"7\")]\n",
    "        self.trivial = Fraccion(1,4)\n",
    "\n",
    "    def tearDown(self):\n",
    "        # No es necesario realizar un tearDown de esta clase,        #\n",
    "        # ya que testearla no modificara su comportamiento a futuro. #\n",
    "        # Y no es necesario restablecer un estado previo al setUp.   #\n",
    "        pass\n",
    "\n",
    "    def test_init(self):\n",
    "        for tupla in self.tuplas_fraccion:\n",
    "            # se nos permite instanciar estos valores sin problema  #\n",
    "            Fraccion(*tupla)\n",
    "\n",
    "        for tupla in self.tuplas_error:\n",
    "            # verificamos que efectivamente se levante las excepciones #\n",
    "            if tupla[1] == 0:\n",
    "                self.assertRaises(ZeroDivisionError, Fraccion, *tupla)\n",
    "            else:\n",
    "                self.assertRaises(TypeError, Fraccion, *tupla)\n",
    "\n",
    "    def test_eq(self):\n",
    "        for tupla in self.tuplas_fraccion:\n",
    "            # sabemos que el segundo es el unico igual             #\n",
    "            if tupla == self.tuplas_fraccion[1]:\n",
    "                self.assertTrue(self.trivial == Fraccion(*tupla))\n",
    "            else:\n",
    "                self.assertFalse(self.trivial == Fraccion(*tupla))\n",
    "\n",
    "        for tupla in self.tuplas_error:\n",
    "            # verificamos que efecitvamente se realizen los errores #\n",
    "            self.assertRaises(TypeError, self.trivial.__eq__, tupla)\n",
    "\n",
    "    def test_add(self):\n",
    "        resultado = [Fraccion(4,4), Fraccion(2,4), Fraccion(31,108)]\n",
    "        i = 0\n",
    "        for tupla in self.tuplas_fraccion:\n",
    "            # sumamos y comparamos con su resultado deseado         #\n",
    "            self.assertEqual(self.trivial + Fraccion(*tupla), resultado[i])\n",
    "            i += 1\n",
    "\n",
    "        for tupla in self.tuplas_error:\n",
    "            # verificamos que efecitvamente se realizen los errores #\n",
    "            self.assertRaises(TypeError, self.trivial.__add__, tupla)\n",
    "\n",
    "    def test_sub(self):\n",
    "        resultado = [Fraccion(-2,4), Fraccion(0,4), Fraccion(23,108)]\n",
    "        i = 0\n",
    "        for tupla in self.tuplas_fraccion:\n",
    "            # restamos y comparamos con su resultado deseado        #\n",
    "            self.assertEqual(self.trivial - Fraccion(*tupla), resultado[i])\n",
    "            i += 1\n",
    "\n",
    "        for tupla in self.tuplas_error:\n",
    "            # verificamos que efecitvamente se realizen los errores #\n",
    "            self.assertRaises(TypeError, self.trivial.__sub__, tupla)\n",
    "\n",
    "    def test_mul(self):\n",
    "        resultado = [Fraccion(3,16), Fraccion(1,16), Fraccion(1,108)]\n",
    "        i = 0\n",
    "        for tupla in self.tuplas_fraccion:\n",
    "            # multiplicamos y comparamos con su resultado deseado   #\n",
    "            self.assertEqual(self.trivial * Fraccion(*tupla), resultado[i])\n",
    "            i += 1\n",
    "\n",
    "        for tupla in self.tuplas_error:\n",
    "            # verificamos que efecitvamente se realizen los errores #\n",
    "            self.assertRaises(TypeError, self.trivial.__mul__, tupla)\n",
    "\n",
    "    def test_true_div(self):\n",
    "        resultado = [Fraccion(1,3), Fraccion(1,1), Fraccion(27,4)]\n",
    "        i = 0\n",
    "        for tupla in self.tuplas_fraccion:\n",
    "            # dividimos y comparamos con su resultado deseado       #\n",
    "            self.assertEqual(self.trivial / Fraccion(*tupla), resultado[i])\n",
    "            i += 1\n",
    "\n",
    "        for tupla in self.tuplas_error:\n",
    "            # verificamos que efecitvamente se realizen los errores #\n",
    "            self.assertRaises(TypeError, self.trivial.__mul__, tupla)\n",
    "\n",
    "    def test_view(self):\n",
    "        # verificamos el comportamiento de __str__ #\n",
    "        self.assertEqual(self.trivial.__str__(),\"1/4\")\n",
    "\n",
    "        # verificamos el comportamiento de __repr__#\n",
    "        lista = []\n",
    "        for tupla in self.tuplas_fraccion:\n",
    "            lista.append(Fraccion(*tupla))\n",
    "        self.assertEqual(lista.__repr__(),\"[Fraccion(3, 4), Fraccion(1, 4), Fraccion(1, 27)]\")\n",
    "\n",
    "    @unittest.skip(\"No implementado\")\n",
    "    def test_no_implementado(self):\n",
    "        pass"
   ]
  },
  {
   "cell_type": "markdown",
   "metadata": {},
   "source": [
    "Ahora, corremos esta suite de tests. Cada método es un test y estos se ejecutan en orden alfabético."
   ]
  },
  {
   "cell_type": "code",
   "execution_count": 5,
   "metadata": {},
   "outputs": [
    {
     "name": "stderr",
     "output_type": "stream",
     "text": [
      "...Fs.F.\n",
      "======================================================================\n",
      "FAIL: test_mul (__main__.FraccionTest)\n",
      "----------------------------------------------------------------------\n",
      "Traceback (most recent call last):\n",
      "  File \"<ipython-input-4-3b58f4b0acc5>\", line 70, in test_mul\n",
      "    self.assertEqual(self.trivial * Fraccion(*tupla), resultado[i])\n",
      "AssertionError: Fraccion(1, 4) != Fraccion(3, 16)\n",
      "\n",
      "======================================================================\n",
      "FAIL: test_true_div (__main__.FraccionTest)\n",
      "----------------------------------------------------------------------\n",
      "Traceback (most recent call last):\n",
      "  File \"<ipython-input-4-3b58f4b0acc5>\", line 82, in test_true_div\n",
      "    self.assertEqual(self.trivial / Fraccion(*tupla), resultado[i])\n",
      "AssertionError: Fraccion(-1, 4) != Fraccion(1, 3)\n",
      "\n",
      "----------------------------------------------------------------------\n",
      "Ran 8 tests in 0.014s\n",
      "\n",
      "FAILED (failures=2, skipped=1)\n"
     ]
    },
    {
     "data": {
      "text/plain": [
       "<unittest.runner.TextTestResult run=8 errors=0 failures=2>"
      ]
     },
     "execution_count": 5,
     "metadata": {},
     "output_type": "execute_result"
    }
   ],
   "source": [
    "# Esta línea solo es necesaria en Jupyter Notebook\n",
    "suite = unittest.TestLoader().loadTestsFromTestCase(FraccionTest)\n",
    "unittest.TextTestRunner().run(suite)\n",
    "# En un programa normal, basta con correr\n",
    "# unittest.main()"
   ]
  },
  {
   "cell_type": "markdown",
   "metadata": {},
   "source": [
    "De arriba podemos notar que fallaron dos tests: `test_mul` y `test_true_div`. A continuación, corregiremos estos métodos."
   ]
  },
  {
   "cell_type": "code",
   "execution_count": 6,
   "metadata": {
    "collapsed": true
   },
   "outputs": [],
   "source": [
    "def __mul__(self, other):\n",
    "        \"\"\"Operador de la multiplicación *\"\"\"\n",
    "        if isinstance(other, Fraccion):\n",
    "            # Corregimos la multiplicación de numeradores\n",
    "            num = self.num * other.num\n",
    "            den = self.den * other.den\n",
    "            return Fraccion(num, den)\n",
    "        else:\n",
    "            raise TypeError"
   ]
  },
  {
   "cell_type": "code",
   "execution_count": 7,
   "metadata": {
    "collapsed": true
   },
   "outputs": [],
   "source": [
    "def __truediv__(self, other):\n",
    "    \"\"\"Operador de la división /\"\"\"\n",
    "    if isinstance(other, Fraccion):\n",
    "        # Corregimos la multiplicación cruzada\n",
    "        num = self.num * other.den\n",
    "        den = self.den * other.num\n",
    "        return Fraccion(num, den)\n",
    "    else:\n",
    "        raise TypeError\n"
   ]
  },
  {
   "cell_type": "code",
   "execution_count": 8,
   "metadata": {
    "collapsed": true
   },
   "outputs": [],
   "source": [
    "# Esto lo veremos más adelante en el curso,\n",
    "# pero así podemos reemplazar los métodos por los\n",
    "# nuevos recién definidos.\n",
    "setattr(Fraccion, \"__mul__\", __mul__)\n",
    "setattr(Fraccion, \"__truediv__\", __truediv__)"
   ]
  },
  {
   "cell_type": "markdown",
   "metadata": {},
   "source": [
    "Corremos nuevamente los tests."
   ]
  },
  {
   "cell_type": "code",
   "execution_count": 9,
   "metadata": {},
   "outputs": [
    {
     "name": "stderr",
     "output_type": "stream",
     "text": [
      "....s...\n",
      "----------------------------------------------------------------------\n",
      "Ran 8 tests in 0.011s\n",
      "\n",
      "OK (skipped=1)\n"
     ]
    },
    {
     "data": {
      "text/plain": [
       "<unittest.runner.TextTestResult run=8 errors=0 failures=0>"
      ]
     },
     "execution_count": 9,
     "metadata": {},
     "output_type": "execute_result"
    }
   ],
   "source": [
    "suite = unittest.TestLoader().loadTestsFromTestCase(FraccionTest)\n",
    "unittest.TextTestRunner().run(suite)"
   ]
  },
  {
   "cell_type": "markdown",
   "metadata": {},
   "source": [
    "Y podemos ver que ahora sí se logran pasar todos los tests."
   ]
  }
 ],
 "metadata": {
  "kernelspec": {
   "display_name": "Python 3",
   "language": "python",
   "name": "python3"
  },
  "language_info": {
   "codemirror_mode": {
    "name": "ipython",
    "version": 3
   },
   "file_extension": ".py",
   "mimetype": "text/x-python",
   "name": "python",
   "nbconvert_exporter": "python",
   "pygments_lexer": "ipython3",
   "version": "3.6.2"
  }
 },
 "nbformat": 4,
 "nbformat_minor": 2
}
