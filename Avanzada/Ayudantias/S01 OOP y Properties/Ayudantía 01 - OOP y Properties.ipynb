{
 "cells": [
  {
   "cell_type": "markdown",
   "metadata": {},
   "source": [
    "# Métodos y atributos internos\n",
    "\n",
    "Los objetos buscan encapsular información, protegiéndola del mal uso externo. Una forma de hacer esto es teniendo atributos y métodos internos, que no pueden ser accedidos (fácilmente) desde fuera del objeto."
   ]
  },
  {
   "cell_type": "code",
   "execution_count": 3,
   "metadata": {
    "collapsed": true,
    "slideshow": {
     "slide_type": "-"
    }
   },
   "outputs": [],
   "source": [
    "class Cofre:\n",
    "    \n",
    "    def __init__(self, tesoro):\n",
    "        self.__tesoro = tesoro\n",
    "        \n",
    "    def __metodo_secreto(self):\n",
    "        return \"Nadie me abrirá sin la clave\"\n",
    "    \n",
    "    def decir_secreto(self):\n",
    "        return self.__metodo_secreto()\n",
    "        \n",
    "\n",
    "cofre = Cofre(\"Un chilión de dólares\")"
   ]
  },
  {
   "cell_type": "code",
   "execution_count": 4,
   "metadata": {},
   "outputs": [
    {
     "ename": "AttributeError",
     "evalue": "'Cofre' object has no attribute '__tesoro'",
     "output_type": "error",
     "traceback": [
      "\u001b[0;31m---------------------------------------------------------------------------\u001b[0m",
      "\u001b[0;31mAttributeError\u001b[0m                            Traceback (most recent call last)",
      "\u001b[0;32m<ipython-input-4-c346b11de605>\u001b[0m in \u001b[0;36m<module>\u001b[0;34m()\u001b[0m\n\u001b[0;32m----> 1\u001b[0;31m \u001b[0mprint\u001b[0m\u001b[0;34m(\u001b[0m\u001b[0mcofre\u001b[0m\u001b[0;34m.\u001b[0m\u001b[0m__tesoro\u001b[0m\u001b[0;34m)\u001b[0m\u001b[0;34m\u001b[0m\u001b[0m\n\u001b[0m",
      "\u001b[0;31mAttributeError\u001b[0m: 'Cofre' object has no attribute '__tesoro'"
     ]
    }
   ],
   "source": [
    "print(cofre.__tesoro)"
   ]
  },
  {
   "cell_type": "code",
   "execution_count": 5,
   "metadata": {},
   "outputs": [
    {
     "ename": "AttributeError",
     "evalue": "'Cofre' object has no attribute '__metodo_secreto'",
     "output_type": "error",
     "traceback": [
      "\u001b[0;31m---------------------------------------------------------------------------\u001b[0m",
      "\u001b[0;31mAttributeError\u001b[0m                            Traceback (most recent call last)",
      "\u001b[0;32m<ipython-input-5-c69ed49a948d>\u001b[0m in \u001b[0;36m<module>\u001b[0;34m()\u001b[0m\n\u001b[0;32m----> 1\u001b[0;31m \u001b[0mprint\u001b[0m\u001b[0;34m(\u001b[0m\u001b[0mcofre\u001b[0m\u001b[0;34m.\u001b[0m\u001b[0m__metodo_secreto\u001b[0m\u001b[0;34m(\u001b[0m\u001b[0;34m)\u001b[0m\u001b[0;34m)\u001b[0m\u001b[0;34m\u001b[0m\u001b[0m\n\u001b[0m",
      "\u001b[0;31mAttributeError\u001b[0m: 'Cofre' object has no attribute '__metodo_secreto'"
     ]
    }
   ],
   "source": [
    "print(cofre.__metodo_secreto())"
   ]
  },
  {
   "cell_type": "code",
   "execution_count": 6,
   "metadata": {},
   "outputs": [
    {
     "name": "stdout",
     "output_type": "stream",
     "text": [
      "Nadie me abrirá sin la clave\n"
     ]
    }
   ],
   "source": [
    "print(cofre.decir_secreto())"
   ]
  },
  {
   "cell_type": "markdown",
   "metadata": {},
   "source": [
    "# Diagramas de Clases\n",
    "\n",
    "En computación se usa el estándar UML para diagramar software. En Ingeniería de Software se ahonda en estos diagramas. En este curso usaremos los diagramas de clases para poder representar la modelación de nuestros programas sin código.\n",
    "\n",
    "En la pizarra, diagramemos el siguiente problema:\n",
    "\n",
    ">Desde la ANFP te han pedido que modeles las clases para organizar su sistema de torneos. Como base, te entregan las especificaciones que debe seguir tu modelo.\n",
    "Hay equipos de fútbol, cada equipo posee un nombre, y está conformado por una lista de jugadores y un DT. Todas las personas tienen un nombre, un RUT y la capacidad de comer. Dentro de las personas, se encuentran los jugadores, que además de lo anterior, poseen un sueldo, cantidad de goles marcados en su historia, una lista en donde poseen todas sus zapatillas y una habilidad que muestra qué tan talentosos son para jugar. Por último, cada jugador puede practicar, lo que aumenta su nivel de habilidad. Por otro lado, los DTs pueden gritarle a sus jugadores para que jueguen mejor en los partidos. Cada zapatilla tiene una marca, un color y una talla."
   ]
  },
  {
   "cell_type": "markdown",
   "metadata": {},
   "source": [
    "![Diagrama](./diagrama.png \"Diagrama del ejercicio\")"
   ]
  },
  {
   "cell_type": "markdown",
   "metadata": {},
   "source": [
    "# Properties\n",
    "\n",
    "Permiten intervenir el uso algunos atributos de un objeto en su obtención, asignación y eliminación. "
   ]
  },
  {
   "cell_type": "code",
   "execution_count": 7,
   "metadata": {
    "collapsed": true
   },
   "outputs": [],
   "source": [
    "class Jugador:\n",
    "\n",
    "    def __init__(self, vida):\n",
    "        self._vida = vida\n",
    "\n",
    "    @property\n",
    "    def vida(self):\n",
    "        return self._vida\n",
    "\n",
    "    @vida.setter\n",
    "    def vida(self, value):\n",
    "        if self.vida == 0:\n",
    "            print(\"El jugador ya está muerto... no hay nada más que hacer :(\")\n",
    "        elif value < 0:\n",
    "            print(\"El jugador ha muerto :(\")\n",
    "            self._vida = 0\n",
    "        elif self.vida > value:\n",
    "            self._vida = value\n",
    "            print(\"¡Ouch! Ahora me queda\", self.vida, \"de vida.\")\n",
    "        else:\n",
    "            self._vida = value\n",
    "            print(\"¡Me recuperé! Ahora tengo\", self.vida, \"de vida.\")"
   ]
  },
  {
   "cell_type": "code",
   "execution_count": 8,
   "metadata": {
    "collapsed": true
   },
   "outputs": [],
   "source": [
    "player = Jugador(100)"
   ]
  },
  {
   "cell_type": "code",
   "execution_count": 9,
   "metadata": {},
   "outputs": [
    {
     "name": "stdout",
     "output_type": "stream",
     "text": [
      "¡Ouch! Ahora me queda 90 de vida.\n"
     ]
    }
   ],
   "source": [
    "player.vida -= 10"
   ]
  },
  {
   "cell_type": "code",
   "execution_count": 10,
   "metadata": {},
   "outputs": [
    {
     "name": "stdout",
     "output_type": "stream",
     "text": [
      "¡Ouch! Ahora me queda 40 de vida.\n"
     ]
    }
   ],
   "source": [
    "player.vida -= 50"
   ]
  },
  {
   "cell_type": "code",
   "execution_count": 11,
   "metadata": {},
   "outputs": [
    {
     "name": "stdout",
     "output_type": "stream",
     "text": [
      "¡Me recuperé! Ahora tengo 45 de vida.\n"
     ]
    }
   ],
   "source": [
    "player.vida += 5"
   ]
  },
  {
   "cell_type": "code",
   "execution_count": 12,
   "metadata": {},
   "outputs": [
    {
     "name": "stdout",
     "output_type": "stream",
     "text": [
      "El jugador ha muerto :(\n"
     ]
    }
   ],
   "source": [
    "player.vida -= 100"
   ]
  },
  {
   "cell_type": "code",
   "execution_count": 13,
   "metadata": {},
   "outputs": [
    {
     "name": "stdout",
     "output_type": "stream",
     "text": [
      "El jugador ya está muerto... no hay nada más que hacer :(\n"
     ]
    }
   ],
   "source": [
    "player.vida -= 10"
   ]
  },
  {
   "cell_type": "code",
   "execution_count": 14,
   "metadata": {},
   "outputs": [
    {
     "name": "stdout",
     "output_type": "stream",
     "text": [
      "El jugador ya está muerto... no hay nada más que hacer :(\n"
     ]
    }
   ],
   "source": [
    "player.vida += 1000000"
   ]
  },
  {
   "cell_type": "markdown",
   "metadata": {},
   "source": [
    "# Material extra para la casa\n",
    "\n",
    "# Pequeño repaso de Git\n",
    "\n",
    "Git es un software de control de versiones. Es uno de los más usados.\n",
    "\n",
    "### Lo básico:\n",
    "\n",
    "Para clonar un repositorio remoto:\n",
    "\n",
    "``\n",
    "git clone <link al repositorio> [nombre de la carpeta local]\n",
    "``\n",
    "\n",
    "\\* En los comandos de terminal, lo que va entre `[]` es opcional.\n",
    "\n",
    "Para agregar un archivo desde su directorio a la Staging Area:\n",
    "\n",
    "``\n",
    "git add <nombre del archivo>\n",
    "``\n",
    "\n",
    "Para agregar los archivos de la Staging Area al Working Directory:\n",
    "\n",
    "``\n",
    "git commit -m \"<Mensaje descriptivo del commit>\"\n",
    "``\n",
    "\n",
    "Para subir el último commit del Working Directory al Repositorio Remoto (donde quedan entregadas las evaluaciones):\n",
    "\n",
    "``\n",
    "git push\n",
    "``"
   ]
  },
  {
   "cell_type": "markdown",
   "metadata": {},
   "source": [
    "# Método `__call__`\n",
    "\n",
    "A toda clase se le pueden definir o sobreescribir sus operadores ([más información](http://www.python-course.eu/python3_magic_methods.php)). Se puede pensar en el método `__call__` como el operador de los párentesis luego de un objeto (`objeto()`)."
   ]
  },
  {
   "cell_type": "code",
   "execution_count": 15,
   "metadata": {
    "collapsed": true,
    "slideshow": {
     "slide_type": "-"
    }
   },
   "outputs": [],
   "source": [
    "class Maquina:\n",
    "    \n",
    "    instancias = 0\n",
    "    \n",
    "    def __init__(self):\n",
    "        self.numero = Maquina.instancias\n",
    "        Maquina.instancias += 1\n",
    "        \n",
    "    def __call__(self):\n",
    "        print(\"Ejecutando la máquina número {}\".format(self.numero))\n",
    "        return 42 + self.numero"
   ]
  },
  {
   "cell_type": "code",
   "execution_count": 16,
   "metadata": {},
   "outputs": [
    {
     "name": "stdout",
     "output_type": "stream",
     "text": [
      "Ejecutando la máquina número 0\n",
      "42\n"
     ]
    }
   ],
   "source": [
    "instancia1 = Maquina() # Esto instancia un objeto Maquina\n",
    "print(instancia1()) # Esto llama a __call__ de la instancia"
   ]
  },
  {
   "cell_type": "code",
   "execution_count": 17,
   "metadata": {},
   "outputs": [
    {
     "name": "stdout",
     "output_type": "stream",
     "text": [
      "Ejecutando la máquina número 1\n",
      "43\n"
     ]
    }
   ],
   "source": [
    "instancia2 = Maquina()\n",
    "print(instancia2())"
   ]
  },
  {
   "cell_type": "code",
   "execution_count": 18,
   "metadata": {},
   "outputs": [
    {
     "name": "stdout",
     "output_type": "stream",
     "text": [
      "2\n",
      "2\n"
     ]
    }
   ],
   "source": [
    "print(Maquina.instancias)\n",
    "print(instancia2.instancias)"
   ]
  }
 ],
 "metadata": {
  "kernelspec": {
   "display_name": "Python 3",
   "language": "python",
   "name": "python3"
  },
  "language_info": {
   "codemirror_mode": {
    "name": "ipython",
    "version": 3
   },
   "file_extension": ".py",
   "mimetype": "text/x-python",
   "name": "python",
   "nbconvert_exporter": "python",
   "pygments_lexer": "ipython3",
   "version": "3.6.2"
  }
 },
 "nbformat": 4,
 "nbformat_minor": 2
}
