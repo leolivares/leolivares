{
 "cells": [
  {
   "cell_type": "markdown",
   "metadata": {},
   "source": [
    "## Actividad\n",
    "\n",
    "En esta actividad se compararán distintos algoritmos de clustering sobre una base de datos de imágenes. \n",
    "\n",
    "### Datos\n",
    "La base de datos a usar corresponde a una base de datos de imágenes, que podrá encontrar en el Siding como 'places-db.npy'. Las *features* de estas fueron extraídas por medio del modelo de extracción de *features* de imágenes **VGG-16**, cuyo paper pueden encontrar en el siguiente link si desea conocer más detalles: https://arxiv.org/abs/1409.1556. Cabe destacar que su dimensionalidad fue reducida para que pudiesen correrlo en un tiempo razonable durante la actividad.\n",
    "\n",
    "Los datos para entrenamiento se acceden de la siguiente manera:\n",
    "```\n",
    "db = np.load('places-db.npy').item()\n",
    "X = db['features']\n",
    "```\n",
    "Las clases disponibles en estas imágenes son las siguientes:\n",
    "* 'alley'\n",
    "* 'castle'\n",
    "* 'hotel-outdoor'\n",
    "* 'motel'\n",
    "* 'pond'\n",
    "* 'tower'\n",
    "* 'volcano'\n",
    "\n",
    "En suma a la base de datos, hay un subconjunto de imágenes de ellas comprimidas en el archivo 'images.rar' para las visualizaciones que se solicitarán posteriormente, disponible en el Siding.\n",
    "\n",
    "### Pasos\n",
    "\n",
    "1.-   Descargue y descomprima el archivo 'images.rar'. Cargue y explore la base de datos 'places-db.npy'. ¿Qué tipo de información contiene? ¿Qué tamaño tiene? ¿Qué dificultades puedo tener a la hora de correr los algoritmos?\n",
    "\n",
    "\n",
    "2.- Utilizando la librería sklearn implemente los algoritmos:\n",
    "* K-means\n",
    "* DBSCAN\n",
    "* Clustering Jerárquico\n",
    "    \n",
    "\n",
    "3.- Pruebe distintos hiperparámetros y número de clusters según corresponda. Para cada caso comente: ¿Qué clases caracterizan mayoritariamente los clusters conformados? ¿Qué pasa cuando el número de clusters es inferior al número de clases reales? ¿Qué clases se aglomeran?\n",
    "\n",
    "\n",
    "4.- Comente respecto al tiempo de ejecución de cada uno de los métodos. \n",
    "\n",
    "\n",
    "5.- Compare visualmente los tres algoritmos. \n",
    "\n",
    "* Visualize los clusters: Para ello dispone del método 'visualize' en utils, al cual le debe pasar la 'db' completa y las predicciones del método de clusterización en orden. La visualización muestra un subconjunto (no debe preocuparse de elegirlos, lo hace automático) de datos en 2D. El color identifica el cluster al que pertenece. \n",
    "* Visualize imágenes de cada cluster: los números representan el 'id' del dato ploteado y el color el cluster al que pertenece. Si desea obtener la imagen original del dato basta llamar 'get_image' con el 'id' (tipo *int*) que visualiza en el plot. Identifique imágenes por cada cluster.\n",
    "\n",
    "\n",
    "6.- Comente similitudes y diferencias de cada método.\n",
    "\n",
    "\n",
    "\n"
   ]
  },
  {
   "cell_type": "markdown",
   "metadata": {},
   "source": [
    "## Librerías"
   ]
  },
  {
   "cell_type": "code",
   "execution_count": 1,
   "metadata": {},
   "outputs": [],
   "source": [
    "from IPython.display import Image\n",
    "\n",
    "import matplotlib.pyplot as plt\n",
    "%matplotlib inline\n",
    "\n",
    "import numpy as np\n",
    "from sklearn.decomposition import PCA\n",
    "\n",
    "# Clustering libraries\n"
   ]
  },
  {
   "cell_type": "markdown",
   "metadata": {},
   "source": [
    "## Data"
   ]
  },
  {
   "cell_type": "code",
   "execution_count": 2,
   "metadata": {},
   "outputs": [],
   "source": []
  },
  {
   "cell_type": "markdown",
   "metadata": {},
   "source": [
    "## Utils\n",
    "\n",
    "Funciones para visualizar"
   ]
  },
  {
   "cell_type": "code",
   "execution_count": 3,
   "metadata": {},
   "outputs": [],
   "source": [
    "# 'pred': predictions of the clustering method in same order as db. Shape: (db['features'].shape[0],) (1-dimensional)\n",
    "def visualize(db, pred):    \n",
    "    keep = db['ids'] != -1\n",
    "    pred = np.array(pred)[keep]\n",
    "    X = db['features'][keep]\n",
    "    ids = db['ids'][keep]\n",
    "    \n",
    "    cluster_ids = np.unique(pred)\n",
    "    colors_base = plt.cm.tab20(range(len(cluster_ids)))\n",
    "    to_color = dict(zip(cluster_ids, colors_base))\n",
    "    colors = [to_color[l] for l in pred]\n",
    "    \n",
    "    pca = PCA(n_components=2)\n",
    "    X_vis = pca.fit_transform(X)\n",
    "    \n",
    "    plt.figure(figsize=(10,10))\n",
    "    for i, point in enumerate(X_vis):\n",
    "        id_ = ids[i]\n",
    "        plt.scatter(point[0], point[1], color=colors[i], marker=r\"$ {} $\".format(str(id_)), s=200)\n",
    "\n",
    "# 'id_': numbers of the 'visualize(db, pred)' plot\n",
    "def get_image(db, id_):\n",
    "    idx = np.where(db['ids']==id_)[0][0]\n",
    "    name = db['files'][idx]\n",
    "    print(name.split('/')[0])\n",
    "    return Image(filename = './images/'+name, width=200, height=200)"
   ]
  },
  {
   "cell_type": "markdown",
   "metadata": {},
   "source": [
    "## Clustering Methods"
   ]
  },
  {
   "cell_type": "markdown",
   "metadata": {},
   "source": [
    "### K-Means"
   ]
  },
  {
   "cell_type": "code",
   "execution_count": null,
   "metadata": {},
   "outputs": [],
   "source": []
  },
  {
   "cell_type": "markdown",
   "metadata": {},
   "source": [
    "### Clustering Jerárquico"
   ]
  },
  {
   "cell_type": "code",
   "execution_count": null,
   "metadata": {},
   "outputs": [],
   "source": []
  },
  {
   "cell_type": "markdown",
   "metadata": {},
   "source": [
    "### DBScan"
   ]
  },
  {
   "cell_type": "code",
   "execution_count": null,
   "metadata": {},
   "outputs": [],
   "source": []
  }
 ],
 "metadata": {
  "kernelspec": {
   "display_name": "Python 3",
   "language": "python",
   "name": "python3"
  },
  "language_info": {
   "codemirror_mode": {
    "name": "ipython",
    "version": 3
   },
   "file_extension": ".py",
   "mimetype": "text/x-python",
   "name": "python",
   "nbconvert_exporter": "python",
   "pygments_lexer": "ipython3",
   "version": "3.7.1"
  }
 },
 "nbformat": 4,
 "nbformat_minor": 2
}
