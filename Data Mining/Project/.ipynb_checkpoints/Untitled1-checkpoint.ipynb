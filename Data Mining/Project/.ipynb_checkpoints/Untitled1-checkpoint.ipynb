{
 "cells": [
  {
   "cell_type": "code",
   "execution_count": 1,
   "metadata": {
    "collapsed": true
   },
   "outputs": [],
   "source": [
    "import pandas as pd"
   ]
  },
  {
   "cell_type": "code",
   "execution_count": 8,
   "metadata": {
    "collapsed": false
   },
   "outputs": [
    {
     "name": "stderr",
     "output_type": "stream",
     "text": [
      "C:\\Users\\hewen\\AppData\\Local\\Continuum\\Anaconda3\\lib\\site-packages\\IPython\\core\\interactiveshell.py:2717: DtypeWarning: Columns (5,108,121,196,197,198) have mixed types. Specify dtype option on import or set low_memory=False.\n",
      "  interactivity=interactivity, compiler=compiler, result=result)\n",
      "C:\\Users\\hewen\\AppData\\Local\\Continuum\\Anaconda3\\lib\\site-packages\\IPython\\core\\interactiveshell.py:2717: DtypeWarning: Columns (8,12,13,14,15,16,50,51,52,53,55,56,57,58,59,60,61,62,63,64,65,66,67,68,69,70,71,72,73,74,75,76,77,78,79,80,81,82,83,84,85,93,94,95,96,97,98,99,100,101,102,103,104,105,106,107,108,109,110,111,112,113,114,115,116,117,118,119,120,121,122,123,124,125,126,127,128) have mixed types. Specify dtype option on import or set low_memory=False.\n",
      "  interactivity=interactivity, compiler=compiler, result=result)\n"
     ]
    }
   ],
   "source": [
    "df2015 = pd.read_csv(\"2015/2015 Stack Overflow Developer Survey Responses.csv\", header=1)\n",
    "df2016 = pd.read_csv(\"2016/2016 Stack Overflow Survey Responses.csv\")\n",
    "df2017 = pd.read_csv(\"2017/survey_results_public.csv\")\n",
    "df2018 = pd.read_csv(\"2018/survey_results_public.csv\")"
   ]
  },
  {
   "cell_type": "code",
   "execution_count": 11,
   "metadata": {
    "collapsed": false
   },
   "outputs": [
    {
     "data": {
      "text/plain": [
       "['Country',\n",
       " 'Age',\n",
       " 'Gender',\n",
       " 'Tabs or Spaces',\n",
       " 'Years IT / Programming Experience',\n",
       " 'Occupation',\n",
       " 'Desktop Operating System',\n",
       " 'Desktop Operating System: write-in',\n",
       " 'Current Lang & Tech: Android',\n",
       " 'Current Lang & Tech: Arduino',\n",
       " 'Current Lang & Tech: AngularJS',\n",
       " 'Current Lang & Tech: C',\n",
       " 'Current Lang & Tech: C++',\n",
       " 'Current Lang & Tech: C++11',\n",
       " 'Current Lang & Tech: C#',\n",
       " 'Current Lang & Tech: Cassandra',\n",
       " 'Current Lang & Tech: CoffeeScript',\n",
       " 'Current Lang & Tech: Cordova',\n",
       " 'Current Lang & Tech: Clojure',\n",
       " 'Current Lang & Tech: Cloud',\n",
       " 'Current Lang & Tech: Dart',\n",
       " 'Current Lang & Tech: F#',\n",
       " 'Current Lang & Tech: Go',\n",
       " 'Current Lang & Tech: Hadoop',\n",
       " 'Current Lang & Tech: Haskell',\n",
       " 'Current Lang & Tech: iOS',\n",
       " 'Current Lang & Tech: Java',\n",
       " 'Current Lang & Tech: JavaScript',\n",
       " 'Current Lang & Tech: LAMP',\n",
       " 'Current Lang & Tech: Matlab',\n",
       " 'Current Lang & Tech: MongoDB',\n",
       " 'Current Lang & Tech: Node.js',\n",
       " 'Current Lang & Tech: Objective-C',\n",
       " 'Current Lang & Tech: Perl',\n",
       " 'Current Lang & Tech: PHP',\n",
       " 'Current Lang & Tech: Python',\n",
       " 'Current Lang & Tech: R',\n",
       " 'Current Lang & Tech: Redis',\n",
       " 'Current Lang & Tech: Ruby',\n",
       " 'Current Lang & Tech: Rust',\n",
       " 'Current Lang & Tech: Salesforce',\n",
       " 'Current Lang & Tech: Scala',\n",
       " 'Current Lang & Tech: Sharepoint',\n",
       " 'Current Lang & Tech: Spark',\n",
       " 'Current Lang & Tech: SQL',\n",
       " 'Current Lang & Tech: SQL Server',\n",
       " 'Current Lang & Tech: Swift',\n",
       " 'Current Lang & Tech: Visual Basic',\n",
       " 'Current Lang & Tech: Windows Phone',\n",
       " 'Current Lang & Tech: Wordpress',\n",
       " 'Current Lang & Tech: Write-In',\n",
       " 'Future Lang & Tech: Android',\n",
       " 'Future Lang & Tech: Arduino',\n",
       " 'Future Lang & Tech: AngularJS',\n",
       " 'Future Lang & Tech: C',\n",
       " 'Future Lang & Tech: C++',\n",
       " 'Future Lang & Tech: C++11',\n",
       " 'Future Lang & Tech: C#',\n",
       " 'Future Lang & Tech: Cassandra',\n",
       " 'Future Lang & Tech: CoffeeScript',\n",
       " 'Future Lang & Tech: Cordova',\n",
       " 'Future Lang & Tech: Clojure',\n",
       " 'Future Lang & Tech: Cloud',\n",
       " 'Future Lang & Tech: Dart',\n",
       " 'Future Lang & Tech: F#',\n",
       " 'Future Lang & Tech: Go',\n",
       " 'Future Lang & Tech: Hadoop',\n",
       " 'Future Lang & Tech: Haskell',\n",
       " 'Future Lang & Tech: iOS',\n",
       " 'Future Lang & Tech: Java',\n",
       " 'Future Lang & Tech: JavaScript',\n",
       " 'Future Lang & Tech: LAMP',\n",
       " 'Future Lang & Tech: Matlab',\n",
       " 'Future Lang & Tech: MongoDB',\n",
       " 'Future Lang & Tech: Node.js',\n",
       " 'Future Lang & Tech: Objective-C',\n",
       " 'Future Lang & Tech: Perl',\n",
       " 'Future Lang & Tech: PHP',\n",
       " 'Future Lang & Tech: Python',\n",
       " 'Future Lang & Tech: R',\n",
       " 'Future Lang & Tech: Redis',\n",
       " 'Future Lang & Tech: Ruby',\n",
       " 'Future Lang & Tech: Rust',\n",
       " 'Future Lang & Tech: Salesforce',\n",
       " 'Future Lang & Tech: Scala',\n",
       " 'Future Lang & Tech: Sharepoint',\n",
       " 'Future Lang & Tech: Spark',\n",
       " 'Future Lang & Tech: SQL',\n",
       " 'Future Lang & Tech: SQL Server',\n",
       " 'Future Lang & Tech: Swift',\n",
       " 'Future Lang & Tech: Visual Basic',\n",
       " 'Future Lang & Tech: Windows Phone',\n",
       " 'Future Lang & Tech: Wordpress',\n",
       " 'Future Lang & Tech: Write-In',\n",
       " 'Training & Education: No formal training',\n",
       " 'Training & Education: On the job',\n",
       " 'Training & Education: Boot camp or night school',\n",
       " 'Training & Education: Online Class',\n",
       " 'Training & Education: Mentorship',\n",
       " 'Training & Education: Industry certification',\n",
       " 'Training & Education: Some college, but no CS degree',\n",
       " 'Training & Education: BS in CS',\n",
       " 'Training & Education: Masters in CS',\n",
       " 'Training & Education: PhD in CS',\n",
       " 'Training & Education: Other',\n",
       " 'Compensation',\n",
       " 'Compensation: midpoint',\n",
       " 'Employment Status',\n",
       " 'Industry',\n",
       " 'Job Satisfaction',\n",
       " 'Purchasing Power',\n",
       " 'Remote Status',\n",
       " 'Changed Jobs in last 12 Months',\n",
       " 'Open to new job opportunities',\n",
       " 'Most important aspect of new job opportunity: Salary',\n",
       " 'Most important aspect of new job opportunity: Equity',\n",
       " 'Most important aspect of new job opportunity: Important decisions',\n",
       " 'Most important aspect of new job opportunity: Health insurance',\n",
       " 'Most important aspect of new job opportunity: Industry',\n",
       " 'Most important aspect of new job opportunity: Tech stack',\n",
       " 'Most important aspect of new job opportunity: Company size',\n",
       " 'Most important aspect of new job opportunity: Company stage',\n",
       " 'Most important aspect of new job opportunity: Work - Life balance',\n",
       " 'Most important aspect of new job opportunity: Advancement',\n",
       " 'Most important aspect of new job opportunity: Job title',\n",
       " 'Most important aspect of new job opportunity: Office location',\n",
       " 'Most important aspect of new job opportunity: Quality of colleagues',\n",
       " 'Most important aspect of new job opportunity: Company culture',\n",
       " 'Most important aspect of new job opportunity: Company reputation',\n",
       " 'Most important aspect of new job opportunity: Building something that matters',\n",
       " 'Most important aspect of new job opportunity: Remote working',\n",
       " 'Most important aspect of new job opportunity: Flexible work options',\n",
       " 'How important is remote when evaluating new job opportunity?',\n",
       " 'Most annoying about job search: Finding time',\n",
       " \"Most annoying about job search: Finding job I'm qualified for\",\n",
       " 'Most annoying about job search: Finding interesting job',\n",
       " 'Most annoying about job search: Interesting companies rarely respond',\n",
       " 'Most annoying about job search: Writing and updating CV',\n",
       " 'Most annoying about job search: Taking time off work to interview',\n",
       " 'Most annoying about job search: The Interview',\n",
       " 'How often contacted by recruiters',\n",
       " 'Perception of recruiter contact',\n",
       " 'Perception of contact form: Email',\n",
       " 'Perception of contact form: LinkedIn',\n",
       " 'Perception of contact form: Xing',\n",
       " 'Perception of contact form: Phone',\n",
       " 'Perception of contact form: Stack Overflow Careers',\n",
       " 'Perception of contact form: Twitter',\n",
       " 'Perception of contact form: Facebook',\n",
       " 'Appealing message traits: Message is personalized',\n",
       " 'Appealing message traits: Code or projects mentioned',\n",
       " 'Appealing message traits: Stack Overflow activity mentioned',\n",
       " 'Appealing message traits: Team described',\n",
       " 'Appealing message traits: Company culture described',\n",
       " 'Appealing message traits: Salary information',\n",
       " 'Appealing message traits: Benefits & Perks',\n",
       " 'Appealing message traits: Stack Overflow Company Page',\n",
       " 'Most urgent info about job opportunity: Salary',\n",
       " 'Most urgent info about job opportunity: Benefits',\n",
       " 'Most urgent info about job opportunity: Company name',\n",
       " 'Most urgent info about job opportunity: Tech stack',\n",
       " 'Most urgent info about job opportunity: Office location',\n",
       " 'Most urgent info about job opportunity: Job title',\n",
       " 'Most urgent info about job opportunity: Colleagues',\n",
       " 'Most urgent info about job opportunity: Product details',\n",
       " 'Who do you want to communicate with about a new job opportunity: Headhunter',\n",
       " 'Who do you want to communicate with about a new job opportunity: In-house recruiter',\n",
       " 'Who do you want to communicate with about a new job opportunity: In-house tech recruiter',\n",
       " 'Who do you want to communicate with about a new job opportunity: Manager',\n",
       " 'Who do you want to communicate with about a new job opportunity: Developer',\n",
       " 'How can companies improve interview process: More live code',\n",
       " 'How can companies improve interview process: Flexible interview schedule',\n",
       " 'How can companies improve interview process: Remote interviews',\n",
       " 'How can companies improve interview process: Introduce me to boss',\n",
       " 'How can companies improve interview process: Introduce me to team',\n",
       " 'How can companies improve interview process: Gimme coffee',\n",
       " 'How can companies improve interview process: Show me workplace',\n",
       " 'How can companies improve interview process: Fewer brainteasers',\n",
       " 'How can companies improve interview process: Better preparation',\n",
       " 'Why try Stack Overflow Careers: No spam',\n",
       " 'Why try Stack Overflow Careers: Jobs site for programmers',\n",
       " 'Why try Stack Overflow Careers: Selection of revelant jobs',\n",
       " 'Why try Stack Overflow Careers: Showcase Stack Overflow activity',\n",
       " 'Why try Stack Overflow Careers: Jobs are on Stack Overflow',\n",
       " 'Why try Stack Overflow Careers: Other',\n",
       " 'How many caffeinated beverages per day?',\n",
       " 'How many hours programming as hobby per week?',\n",
       " 'How frequently land on or read Stack Overflow',\n",
       " 'Preferred text editor',\n",
       " 'Preferred text editor: write-in',\n",
       " 'Prefered IDE theme',\n",
       " 'Source control used: Git',\n",
       " 'Source control used: Mercurial',\n",
       " 'Source control used: SVN',\n",
       " 'Source control used: CVS',\n",
       " 'Source control used: Perforce',\n",
       " 'Source control used: TFS',\n",
       " 'Source control used: DCVS',\n",
       " 'Source control used: Bitkeeper',\n",
       " 'Source control used: Legacy / Custom',\n",
       " \"Source control used: I don't use source control\",\n",
       " 'Source control used: write-in',\n",
       " 'Prefered Source Control',\n",
       " 'Prefered Source Control: write-in',\n",
       " 'Why use Stack Overflow: Help for job',\n",
       " 'Why use Stack Overflow: To give help',\n",
       " \"Why use Stack Overflow: Can't do job without it\",\n",
       " 'Why use Stack Overflow: Maintain online presence',\n",
       " 'Why use Stack Overflow: Demonstrate expertise',\n",
       " 'Why use Stack Overflow: Communicate with others',\n",
       " 'Why use Stack Overflow: Receive help on personal projects',\n",
       " 'Why use Stack Overflow: Love to learn',\n",
       " \"Why use Stack Overflow: I don't use Stack Overflow\",\n",
       " \"How often are Stack Overflow's answers helpful\",\n",
       " 'Why answer: Help a programmer in need',\n",
       " 'Why answer: Help future programmers',\n",
       " 'Why answer: Demonstrate expertise',\n",
       " 'Why answer: Self promotion',\n",
       " 'Why answer: Sense of responsibility to developers',\n",
       " 'Why answer: No idea',\n",
       " \"Why answer: I don't answer and I don't want to\",\n",
       " \"Why answer: I don't answer but I want to\"]"
      ]
     },
     "execution_count": 11,
     "metadata": {},
     "output_type": "execute_result"
    }
   ],
   "source": [
    "list(df2015.columns.values)"
   ]
  },
  {
   "cell_type": "code",
   "execution_count": 14,
   "metadata": {
    "collapsed": false
   },
   "outputs": [
    {
     "data": {
      "text/plain": [
       "['Unnamed: 0',\n",
       " 'collector',\n",
       " 'country',\n",
       " 'un_subregion',\n",
       " 'so_region',\n",
       " 'age_range',\n",
       " 'age_midpoint',\n",
       " 'gender',\n",
       " 'self_identification',\n",
       " 'occupation',\n",
       " 'occupation_group',\n",
       " 'experience_range',\n",
       " 'experience_midpoint',\n",
       " 'salary_range',\n",
       " 'salary_midpoint',\n",
       " 'big_mac_index',\n",
       " 'tech_do',\n",
       " 'tech_want',\n",
       " 'aliens',\n",
       " 'programming_ability',\n",
       " 'employment_status',\n",
       " 'industry',\n",
       " 'company_size_range',\n",
       " 'team_size_range',\n",
       " 'women_on_team',\n",
       " 'remote',\n",
       " 'job_satisfaction',\n",
       " 'job_discovery',\n",
       " 'dev_environment',\n",
       " 'commit_frequency',\n",
       " 'hobby',\n",
       " 'dogs_vs_cats',\n",
       " 'desktop_os',\n",
       " 'unit_testing',\n",
       " 'rep_range',\n",
       " 'visit_frequency',\n",
       " 'why_learn_new_tech',\n",
       " 'education',\n",
       " 'open_to_new_job',\n",
       " 'new_job_value',\n",
       " 'job_search_annoyance',\n",
       " 'interview_likelihood',\n",
       " 'how_to_improve_interview_process',\n",
       " 'star_wars_vs_star_trek',\n",
       " 'agree_tech',\n",
       " 'agree_notice',\n",
       " 'agree_problemsolving',\n",
       " 'agree_diversity',\n",
       " 'agree_adblocker',\n",
       " 'agree_alcohol',\n",
       " 'agree_loveboss',\n",
       " 'agree_nightcode',\n",
       " 'agree_legacy',\n",
       " 'agree_mars',\n",
       " 'important_variety',\n",
       " 'important_control',\n",
       " 'important_sameend',\n",
       " 'important_newtech',\n",
       " 'important_buildnew',\n",
       " 'important_buildexisting',\n",
       " 'important_promotion',\n",
       " 'important_companymission',\n",
       " 'important_wfh',\n",
       " 'important_ownoffice',\n",
       " 'developer_challenges',\n",
       " 'why_stack_overflow']"
      ]
     },
     "execution_count": 14,
     "metadata": {},
     "output_type": "execute_result"
    }
   ],
   "source": [
    "list(df2016.columns.values)"
   ]
  },
  {
   "cell_type": "code",
   "execution_count": 32,
   "metadata": {
    "collapsed": true
   },
   "outputs": [],
   "source": [
    "column_2015 = list(df2015.columns.values)\n",
    "column_2016 = list(df2016.columns.values)\n",
    "column_2017 = list(df2017.columns.values)\n",
    "column_2018 = list(df2018.columns.values)"
   ]
  },
  {
   "cell_type": "code",
   "execution_count": 33,
   "metadata": {
    "collapsed": false,
    "scrolled": true
   },
   "outputs": [
    {
     "name": "stdout",
     "output_type": "stream",
     "text": [
      "['Age', 'Appealing message traits: Benefits & Perks', 'Appealing message traits: Code or projects mentioned', 'Appealing message traits: Company culture described', 'Appealing message traits: Message is personalized', 'Appealing message traits: Salary information', 'Appealing message traits: Stack Overflow Company Page', 'Appealing message traits: Stack Overflow activity mentioned', 'Appealing message traits: Team described', 'Changed Jobs in last 12 Months', 'Compensation', 'Compensation: midpoint', 'Country', 'Current Lang & Tech: Android', 'Current Lang & Tech: AngularJS', 'Current Lang & Tech: Arduino', 'Current Lang & Tech: C', 'Current Lang & Tech: C#', 'Current Lang & Tech: C++', 'Current Lang & Tech: C++11', 'Current Lang & Tech: Cassandra', 'Current Lang & Tech: Clojure', 'Current Lang & Tech: Cloud', 'Current Lang & Tech: CoffeeScript', 'Current Lang & Tech: Cordova', 'Current Lang & Tech: Dart', 'Current Lang & Tech: F#', 'Current Lang & Tech: Go', 'Current Lang & Tech: Hadoop', 'Current Lang & Tech: Haskell', 'Current Lang & Tech: Java', 'Current Lang & Tech: JavaScript', 'Current Lang & Tech: LAMP', 'Current Lang & Tech: Matlab', 'Current Lang & Tech: MongoDB', 'Current Lang & Tech: Node.js', 'Current Lang & Tech: Objective-C', 'Current Lang & Tech: PHP', 'Current Lang & Tech: Perl', 'Current Lang & Tech: Python', 'Current Lang & Tech: R', 'Current Lang & Tech: Redis', 'Current Lang & Tech: Ruby', 'Current Lang & Tech: Rust', 'Current Lang & Tech: SQL', 'Current Lang & Tech: SQL Server', 'Current Lang & Tech: Salesforce', 'Current Lang & Tech: Scala', 'Current Lang & Tech: Sharepoint', 'Current Lang & Tech: Spark', 'Current Lang & Tech: Swift', 'Current Lang & Tech: Visual Basic', 'Current Lang & Tech: Windows Phone', 'Current Lang & Tech: Wordpress', 'Current Lang & Tech: Write-In', 'Current Lang & Tech: iOS', 'Desktop Operating System', 'Desktop Operating System: write-in', 'Employment Status', 'Future Lang & Tech: Android', 'Future Lang & Tech: AngularJS', 'Future Lang & Tech: Arduino', 'Future Lang & Tech: C', 'Future Lang & Tech: C#', 'Future Lang & Tech: C++', 'Future Lang & Tech: C++11', 'Future Lang & Tech: Cassandra', 'Future Lang & Tech: Clojure', 'Future Lang & Tech: Cloud', 'Future Lang & Tech: CoffeeScript', 'Future Lang & Tech: Cordova', 'Future Lang & Tech: Dart', 'Future Lang & Tech: F#', 'Future Lang & Tech: Go', 'Future Lang & Tech: Hadoop', 'Future Lang & Tech: Haskell', 'Future Lang & Tech: Java', 'Future Lang & Tech: JavaScript', 'Future Lang & Tech: LAMP', 'Future Lang & Tech: Matlab', 'Future Lang & Tech: MongoDB', 'Future Lang & Tech: Node.js', 'Future Lang & Tech: Objective-C', 'Future Lang & Tech: PHP', 'Future Lang & Tech: Perl', 'Future Lang & Tech: Python', 'Future Lang & Tech: R', 'Future Lang & Tech: Redis', 'Future Lang & Tech: Ruby', 'Future Lang & Tech: Rust', 'Future Lang & Tech: SQL', 'Future Lang & Tech: SQL Server', 'Future Lang & Tech: Salesforce', 'Future Lang & Tech: Scala', 'Future Lang & Tech: Sharepoint', 'Future Lang & Tech: Spark', 'Future Lang & Tech: Swift', 'Future Lang & Tech: Visual Basic', 'Future Lang & Tech: Windows Phone', 'Future Lang & Tech: Wordpress', 'Future Lang & Tech: Write-In', 'Future Lang & Tech: iOS', 'Gender', 'How can companies improve interview process: Better preparation', 'How can companies improve interview process: Fewer brainteasers', 'How can companies improve interview process: Flexible interview schedule', 'How can companies improve interview process: Gimme coffee', 'How can companies improve interview process: Introduce me to boss', 'How can companies improve interview process: Introduce me to team', 'How can companies improve interview process: More live code', 'How can companies improve interview process: Remote interviews', 'How can companies improve interview process: Show me workplace', 'How frequently land on or read Stack Overflow', 'How important is remote when evaluating new job opportunity?', 'How many caffeinated beverages per day?', 'How many hours programming as hobby per week?', \"How often are Stack Overflow's answers helpful\", 'How often contacted by recruiters', 'Industry', 'Job Satisfaction', 'Most annoying about job search: Finding interesting job', \"Most annoying about job search: Finding job I'm qualified for\", 'Most annoying about job search: Finding time', 'Most annoying about job search: Interesting companies rarely respond', 'Most annoying about job search: Taking time off work to interview', 'Most annoying about job search: The Interview', 'Most annoying about job search: Writing and updating CV', 'Most important aspect of new job opportunity: Advancement', 'Most important aspect of new job opportunity: Building something that matters', 'Most important aspect of new job opportunity: Company culture', 'Most important aspect of new job opportunity: Company reputation', 'Most important aspect of new job opportunity: Company size', 'Most important aspect of new job opportunity: Company stage', 'Most important aspect of new job opportunity: Equity', 'Most important aspect of new job opportunity: Flexible work options', 'Most important aspect of new job opportunity: Health insurance', 'Most important aspect of new job opportunity: Important decisions', 'Most important aspect of new job opportunity: Industry', 'Most important aspect of new job opportunity: Job title', 'Most important aspect of new job opportunity: Office location', 'Most important aspect of new job opportunity: Quality of colleagues', 'Most important aspect of new job opportunity: Remote working', 'Most important aspect of new job opportunity: Salary', 'Most important aspect of new job opportunity: Tech stack', 'Most important aspect of new job opportunity: Work - Life balance', 'Most urgent info about job opportunity: Benefits', 'Most urgent info about job opportunity: Colleagues', 'Most urgent info about job opportunity: Company name', 'Most urgent info about job opportunity: Job title', 'Most urgent info about job opportunity: Office location', 'Most urgent info about job opportunity: Product details', 'Most urgent info about job opportunity: Salary', 'Most urgent info about job opportunity: Tech stack', 'Occupation', 'Open to new job opportunities', 'Perception of contact form: Email', 'Perception of contact form: Facebook', 'Perception of contact form: LinkedIn', 'Perception of contact form: Phone', 'Perception of contact form: Stack Overflow Careers', 'Perception of contact form: Twitter', 'Perception of contact form: Xing', 'Perception of recruiter contact', 'Prefered IDE theme', 'Prefered Source Control', 'Prefered Source Control: write-in', 'Preferred text editor', 'Preferred text editor: write-in', 'Purchasing Power', 'Remote Status', 'Source control used: Bitkeeper', 'Source control used: CVS', 'Source control used: DCVS', 'Source control used: Git', \"Source control used: I don't use source control\", 'Source control used: Legacy / Custom', 'Source control used: Mercurial', 'Source control used: Perforce', 'Source control used: SVN', 'Source control used: TFS', 'Source control used: write-in', 'Tabs or Spaces', 'Training & Education: BS in CS', 'Training & Education: Boot camp or night school', 'Training & Education: Industry certification', 'Training & Education: Masters in CS', 'Training & Education: Mentorship', 'Training & Education: No formal training', 'Training & Education: On the job', 'Training & Education: Online Class', 'Training & Education: Other', 'Training & Education: PhD in CS', 'Training & Education: Some college, but no CS degree', 'Who do you want to communicate with about a new job opportunity: Developer', 'Who do you want to communicate with about a new job opportunity: Headhunter', 'Who do you want to communicate with about a new job opportunity: In-house recruiter', 'Who do you want to communicate with about a new job opportunity: In-house tech recruiter', 'Who do you want to communicate with about a new job opportunity: Manager', 'Why answer: Demonstrate expertise', 'Why answer: Help a programmer in need', 'Why answer: Help future programmers', \"Why answer: I don't answer and I don't want to\", \"Why answer: I don't answer but I want to\", 'Why answer: No idea', 'Why answer: Self promotion', 'Why answer: Sense of responsibility to developers', 'Why try Stack Overflow Careers: Jobs are on Stack Overflow', 'Why try Stack Overflow Careers: Jobs site for programmers', 'Why try Stack Overflow Careers: No spam', 'Why try Stack Overflow Careers: Other', 'Why try Stack Overflow Careers: Selection of revelant jobs', 'Why try Stack Overflow Careers: Showcase Stack Overflow activity', \"Why use Stack Overflow: Can't do job without it\", 'Why use Stack Overflow: Communicate with others', 'Why use Stack Overflow: Demonstrate expertise', 'Why use Stack Overflow: Help for job', \"Why use Stack Overflow: I don't use Stack Overflow\", 'Why use Stack Overflow: Love to learn', 'Why use Stack Overflow: Maintain online presence', 'Why use Stack Overflow: Receive help on personal projects', 'Why use Stack Overflow: To give help', 'Years IT / Programming Experience']\n"
     ]
    }
   ],
   "source": [
    "print(sorted(column_2015))"
   ]
  },
  {
   "cell_type": "code",
   "execution_count": 34,
   "metadata": {
    "collapsed": false
   },
   "outputs": [
    {
     "name": "stdout",
     "output_type": "stream",
     "text": [
      "['Unnamed: 0', 'age_midpoint', 'age_range', 'agree_adblocker', 'agree_alcohol', 'agree_diversity', 'agree_legacy', 'agree_loveboss', 'agree_mars', 'agree_nightcode', 'agree_notice', 'agree_problemsolving', 'agree_tech', 'aliens', 'big_mac_index', 'collector', 'commit_frequency', 'company_size_range', 'country', 'desktop_os', 'dev_environment', 'developer_challenges', 'dogs_vs_cats', 'education', 'employment_status', 'experience_midpoint', 'experience_range', 'gender', 'hobby', 'how_to_improve_interview_process', 'important_buildexisting', 'important_buildnew', 'important_companymission', 'important_control', 'important_newtech', 'important_ownoffice', 'important_promotion', 'important_sameend', 'important_variety', 'important_wfh', 'industry', 'interview_likelihood', 'job_discovery', 'job_satisfaction', 'job_search_annoyance', 'new_job_value', 'occupation', 'occupation_group', 'open_to_new_job', 'programming_ability', 'remote', 'rep_range', 'salary_midpoint', 'salary_range', 'self_identification', 'so_region', 'star_wars_vs_star_trek', 'team_size_range', 'tech_do', 'tech_want', 'un_subregion', 'unit_testing', 'visit_frequency', 'why_learn_new_tech', 'why_stack_overflow', 'women_on_team']\n"
     ]
    }
   ],
   "source": [
    "print(sorted(column_2016))"
   ]
  },
  {
   "cell_type": "code",
   "execution_count": 30,
   "metadata": {
    "collapsed": false,
    "scrolled": true
   },
   "outputs": [
    {
     "name": "stdout",
     "output_type": "stream",
     "text": [
      "['AnnoyingUI', 'AssessJobCommute', 'AssessJobCompensation', 'AssessJobDept', 'AssessJobDiversity', 'AssessJobExp', 'AssessJobFinances', 'AssessJobIndustry', 'AssessJobLeaders', 'AssessJobOffice', 'AssessJobProduct', 'AssessJobProfDevel', 'AssessJobProjects', 'AssessJobRemote', 'AssessJobRole', 'AssessJobTech', 'AuditoryEnvironment', 'BoringDetails', 'BuildingThings', 'CareerSatisfaction', 'ChallengeMyself', 'ChangeWorld', 'CheckInCode', 'ClickyKeys', 'CollaborateRemote', 'CompanySize', 'CompanyType', 'CompetePeers', 'Country', 'CousinEducation', 'Currency', 'DeveloperType', 'DifficultCommunication', 'DiversityImportant', 'EducationImportant', 'EducationTypes', 'EmploymentStatus', 'EnjoyDebugging', 'EquipmentSatisfiedCPU', 'EquipmentSatisfiedMonitors', 'EquipmentSatisfiedRAM', 'EquipmentSatisfiedRW', 'EquipmentSatisfiedStorage', 'ExCoder10Years', 'ExCoderActive', 'ExCoderBalance', 'ExCoderBelonged', 'ExCoderNotForMe', 'ExCoderReturn', 'ExCoderSkills', 'ExCoderWillNotCode', 'ExpectedSalary', 'FormalEducation', 'FriendsDevelopers', 'Gender', 'HaveWorkedDatabase', 'HaveWorkedFramework', 'HaveWorkedLanguage', 'HaveWorkedPlatform', 'HighestEducationParents', 'HomeRemote', 'HoursPerWeek', 'IDE', 'ImportantBenefits', 'ImportantHiringAlgorithms', 'ImportantHiringCommunication', 'ImportantHiringCompanies', 'ImportantHiringEducation', 'ImportantHiringGettingThingsDone', 'ImportantHiringOpenSource', 'ImportantHiringPMExp', 'ImportantHiringRep', 'ImportantHiringTechExp', 'ImportantHiringTitles', 'InTheZone', 'InfluenceCloud', 'InfluenceCommunication', 'InfluenceConsultants', 'InfluenceDatabase', 'InfluenceDeptTech', 'InfluenceHardware', 'InfluenceInternet', 'InfluenceRecruitment', 'InfluenceServers', 'InfluenceTechStack', 'InfluenceVizTools', 'InfluenceWorkstation', 'InterestedAnswers', 'InvestTimeTools', 'JobProfile', 'JobSatisfaction', 'JobSecurity', 'JobSeekingStatus', 'KinshipDevelopers', 'LastNewJob', 'LearnedHiring', 'LearningNewTech', 'MajorUndergrad', 'Methodology', 'MetricAssess', 'MobileDeveloperType', 'NonDeveloperType', 'OtherPeoplesCode', 'Overpaid', 'ProblemSolving', 'Professional', 'ProgramHobby', 'ProjectManagement', 'PronounceGIF', 'QuestionsConfusing', 'QuestionsInteresting', 'Race', 'Respondent', 'ResumePrompted', 'RightWrongWay', 'Salary', 'SelfTaughtTypes', 'SeriousWork', 'ShipIt', 'StackOverflowAdsDistracting', 'StackOverflowAdsRelevant', 'StackOverflowAnswer', 'StackOverflowBetter', 'StackOverflowCommunity', 'StackOverflowCompanyPage', 'StackOverflowCopiedCode', 'StackOverflowDescribes', 'StackOverflowDevices', 'StackOverflowFoundAnswer', 'StackOverflowHelpful', 'StackOverflowJobListing', 'StackOverflowJobSearch', 'StackOverflowMakeMoney', 'StackOverflowMetaChat', 'StackOverflowModeration', 'StackOverflowNewQuestion', 'StackOverflowSatisfaction', 'StackOverflowWhatDo', 'SurveyLong', 'TabsSpaces', 'TimeAfterBootcamp', 'UnderstandComputers', 'University', 'VersionControl', 'WantWorkDatabase', 'WantWorkFramework', 'WantWorkLanguage', 'WantWorkPlatform', 'WebDeveloperType', 'WorkPayCare', 'WorkStart', 'YearsCodedJob', 'YearsCodedJobPast', 'YearsProgram']\n"
     ]
    }
   ],
   "source": [
    "print(sorted(column_2017))"
   ]
  },
  {
   "cell_type": "code",
   "execution_count": 31,
   "metadata": {
    "collapsed": false,
    "scrolled": false
   },
   "outputs": [
    {
     "name": "stdout",
     "output_type": "stream",
     "text": [
      "['AIDangerous', 'AIFuture', 'AIInteresting', 'AIResponsible', 'AdBlocker', 'AdBlockerDisable', 'AdBlockerReasons', 'AdsActions', 'AdsAgreeDisagree1', 'AdsAgreeDisagree2', 'AdsAgreeDisagree3', 'AdsPriorities1', 'AdsPriorities2', 'AdsPriorities3', 'AdsPriorities4', 'AdsPriorities5', 'AdsPriorities6', 'AdsPriorities7', 'Age', 'AgreeDisagree1', 'AgreeDisagree2', 'AgreeDisagree3', 'AssessBenefits1', 'AssessBenefits10', 'AssessBenefits11', 'AssessBenefits2', 'AssessBenefits3', 'AssessBenefits4', 'AssessBenefits5', 'AssessBenefits6', 'AssessBenefits7', 'AssessBenefits8', 'AssessBenefits9', 'AssessJob1', 'AssessJob10', 'AssessJob2', 'AssessJob3', 'AssessJob4', 'AssessJob5', 'AssessJob6', 'AssessJob7', 'AssessJob8', 'AssessJob9', 'CareerSatisfaction', 'CheckInCode', 'CommunicationTools', 'CompanySize', 'ConvertedSalary', 'Country', 'Currency', 'CurrencySymbol', 'DatabaseDesireNextYear', 'DatabaseWorkedWith', 'Dependents', 'DevType', 'EducationParents', 'EducationTypes', 'Employment', 'ErgonomicDevices', 'EthicalImplications', 'EthicsChoice', 'EthicsReport', 'EthicsResponsible', 'Exercise', 'FormalEducation', 'FrameworkDesireNextYear', 'FrameworkWorkedWith', 'Gender', 'HackathonReasons', 'Hobby', 'HopeFiveYears', 'HoursComputer', 'HoursOutside', 'HypotheticalTools1', 'HypotheticalTools2', 'HypotheticalTools3', 'HypotheticalTools4', 'HypotheticalTools5', 'IDE', 'JobContactPriorities1', 'JobContactPriorities2', 'JobContactPriorities3', 'JobContactPriorities4', 'JobContactPriorities5', 'JobEmailPriorities1', 'JobEmailPriorities2', 'JobEmailPriorities3', 'JobEmailPriorities4', 'JobEmailPriorities5', 'JobEmailPriorities6', 'JobEmailPriorities7', 'JobSatisfaction', 'JobSearchStatus', 'LanguageDesireNextYear', 'LanguageWorkedWith', 'LastNewJob', 'Methodology', 'MilitaryUS', 'NumberMonitors', 'OpenSource', 'OperatingSystem', 'PlatformDesireNextYear', 'PlatformWorkedWith', 'RaceEthnicity', 'Respondent', 'Salary', 'SalaryType', 'SelfTaughtTypes', 'SexualOrientation', 'SkipMeals', 'StackOverflowConsiderMember', 'StackOverflowDevStory', 'StackOverflowHasAccount', 'StackOverflowJobs', 'StackOverflowJobsRecommend', 'StackOverflowParticipate', 'StackOverflowRecommend', 'StackOverflowVisit', 'Student', 'SurveyEasy', 'SurveyTooLong', 'TimeAfterBootcamp', 'TimeFullyProductive', 'UndergradMajor', 'UpdateCV', 'VersionControl', 'WakeTime', 'YearsCoding', 'YearsCodingProf']\n"
     ]
    }
   ],
   "source": [
    "print(sorted(column_2018))"
   ]
  },
  {
   "cell_type": "code",
   "execution_count": 36,
   "metadata": {
    "collapsed": true
   },
   "outputs": [],
   "source": [
    "df2017.rename(columns={\n",
    "    'EmploymentStatus': 'Employment',\n",
    "    'MajorUndergrad': 'UndergradMajor',\n",
    "    'DeveloperType': 'DevType',\n",
    "    'YearsProgram': 'YearsCoding',\n",
    "    'YearsCodedJobPast' : 'YearsCodingProf',\n",
    "    'JobSatisfaction' : 'JobSatisfaction',\n",
    "    'CareerSatisfaction' : 'CareerSatisfaction',\n",
    "    'JobSeekingStatus' : 'JobSearchStatus',\n",
    "    'LastNewJob' : 'LastNewJob',\n",
    "    'EducationTypes' : 'EducationTypes',\n",
    "    'SelfTaughtTypes' : 'SelfTaughtTypes',\n",
    "    'TimeAfterBootcamp' : 'TimeAfterBootcamp',\n",
    "    'KinshipDevelopers' : 'AgreeDisagree1',\n",
    "    'CompetePeers' : 'AgreeDisagree2',\n",
    "    'HaveWorkedLanguage' : 'LanguageWorkedWith',\n",
    "    'WantWorkLanguage' : 'LanguageDesireNextYear',\n",
    "    'HaveWorkedDatabase' : 'DatabaseWorkedWith',\n",
    "    'WantWorkDatabase' : 'DatabaseDesireNextYear',\n",
    "    'HaveWorkedPlatform' : 'PlatformWorkedWith',\n",
    "    'WantWorkPlatform' : 'PlatformDesireNextYear',\n",
    "    'HaveWorkedFramework' : 'FrameworkWorkedWith',\n",
    "    'WantWorkFramework' : 'FrameworkDesireNextYear',\n",
    "    'IDE' : 'IDE',\n",
    "    'Methodology' : 'Methodology',\n",
    "    'VersionControl' : 'VersionControl',\n",
    "    'CheckInCode' : 'CheckInCode',\n",
    "    'Gender' : 'Gender',\n",
    "    'HighestEducationParents' : 'EducationParents',\n",
    "    'Race' : 'RaceEthnicity',\n",
    "}, inplace=True)"
   ]
  },
  {
   "cell_type": "code",
   "execution_count": 42,
   "metadata": {
    "collapsed": true
   },
   "outputs": [],
   "source": [
    "df2017[\"SurveyYear\"] = 2017\n",
    "df2017[\"Hobby\"] = False\n",
    "df2017[\"OpenSource\"] = False"
   ]
  },
  {
   "cell_type": "code",
   "execution_count": 48,
   "metadata": {
    "collapsed": true
   },
   "outputs": [],
   "source": [
    "df2018[\"SurveyYear\"] = 2018"
   ]
  },
  {
   "cell_type": "code",
   "execution_count": 52,
   "metadata": {
    "collapsed": false
   },
   "outputs": [
    {
     "data": {
      "text/plain": [
       "(51392, 157)"
      ]
     },
     "execution_count": 52,
     "metadata": {},
     "output_type": "execute_result"
    }
   ],
   "source": [
    "df2017.shape"
   ]
  },
  {
   "cell_type": "code",
   "execution_count": 46,
   "metadata": {
    "collapsed": true
   },
   "outputs": [],
   "source": [
    "for counter, option in enumerate(df2017[\"ProgramHobby\"]):\n",
    "    if option == 'Yes, both':\n",
    "        df2017.set_value(counter, \"Hobby\", True)\n",
    "        df2017.set_value(counter, \"OpenSource\", True)\n",
    "    elif option == \"Yes, I program as a hobby\":\n",
    "        df2017.set_value(counter, \"Hobby\", True)\n",
    "    elif option == \"Yes, I contribute to open source projects\":\n",
    "        df2017.set_value(counter, \"OpenSource\", True)"
   ]
  },
  {
   "cell_type": "code",
   "execution_count": 49,
   "metadata": {
    "collapsed": true
   },
   "outputs": [],
   "source": [
    "set_2017_2018 = [df2017, df2018]\n",
    "df_2017_2018 = pd.concat(set_2017_2018,  join=\"inner\")"
   ]
  },
  {
   "cell_type": "code",
   "execution_count": 51,
   "metadata": {
    "collapsed": false
   },
   "outputs": [
    {
     "data": {
      "text/plain": [
       "(150247, 38)"
      ]
     },
     "execution_count": 51,
     "metadata": {},
     "output_type": "execute_result"
    }
   ],
   "source": [
    "df_2017_2018.shape"
   ]
  },
  {
   "cell_type": "code",
   "execution_count": null,
   "metadata": {
    "collapsed": true
   },
   "outputs": [],
   "source": []
  }
 ],
 "metadata": {
  "kernelspec": {
   "display_name": "Python 3",
   "language": "python",
   "name": "python3"
  },
  "language_info": {
   "codemirror_mode": {
    "name": "ipython",
    "version": 3
   },
   "file_extension": ".py",
   "mimetype": "text/x-python",
   "name": "python",
   "nbconvert_exporter": "python",
   "pygments_lexer": "ipython3",
   "version": "3.6.0"
  }
 },
 "nbformat": 4,
 "nbformat_minor": 2
}
